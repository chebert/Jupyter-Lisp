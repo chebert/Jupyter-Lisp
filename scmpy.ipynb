{
 "cells": [
  {
   "cell_type": "markdown",
   "id": "4a097efb-f3f6-4ed4-ad47-d57475807d32",
   "metadata": {},
   "source": [
    "The basic process for an interpreter is \n",
    "\n",
    "1. Read the next expression from a stream of characters: like a string or a file.\n",
    "2. Evaluate the expression according to the rules of the language.\n",
    "3. Print the result of the evaluated expression.\n",
    "4. Loop back to 1.\n",
    "\n",
    "This is is known as the Read-Eval-Print-Loop or REPL for short.\n",
    "\n",
    "We'll start with implementing Scheme's read."
   ]
  },
  {
   "cell_type": "code",
   "execution_count": 1,
   "id": "2d4a0355-56fc-4817-9eac-42d257b1dee9",
   "metadata": {},
   "outputs": [],
   "source": [
    "def read(stream): \n",
    "    return read_from_token(stream, take_token(stream))"
   ]
  },
  {
   "cell_type": "markdown",
   "id": "26b51c2f-02dc-45de-be63-3bec48234035",
   "metadata": {},
   "source": [
    "`read` takes a stream of characters. This could be a string or a file -- something that we can take characters from.\n",
    "It passes that stream to `take_token`, which will take the next interesting token (or substring) from the stream.\n",
    "It passes the stream and token to `read_from_token`, which reads and returns the expression based on the token."
   ]
  },
  {
   "cell_type": "code",
   "execution_count": 2,
   "id": "343651d9-93e6-45d4-aff2-64569e5169c9",
   "metadata": {},
   "outputs": [],
   "source": [
    "def read_from_token(stream, token):\n",
    "    if token in lisp_token_table: return lisp_token_table[token](stream)\n",
    "    elif token: return read_default_token(stream, token)\n",
    "    else: error(\"End of stream encountered\")"
   ]
  },
  {
   "cell_type": "code",
   "execution_count": 3,
   "id": "463c2d43-36b9-4fb5-9744-1cfdc9da4013",
   "metadata": {},
   "outputs": [],
   "source": [
    "def error(string): raise Exception(string)"
   ]
  },
  {
   "cell_type": "markdown",
   "id": "2b268cbd-b583-444c-8fbc-4a47cdbfbd48",
   "metadata": {},
   "source": [
    "`read_from_token`'s job is to dispatch to a `lisp_token_table` dictionary. This dictionary has tokens associated with functions to read expressions based on those tokens.\n",
    "If the token isn't in the dictionary, it's assumed to be a default token. \n",
    "\n",
    "Tokens in the `lisp_token_table` might be things like `(` `\"` `;`, etc., while default tokens are more flexible like `name-of-variable` or `3.14159`.\n",
    "\n",
    "The token table allows us to easily and flexibly add more tokens later on, without redefining any functions. We will take advantage of this by adding token-readers later."
   ]
  },
  {
   "cell_type": "code",
   "execution_count": 4,
   "id": "25d420b9-b859-490c-b903-bd2545d107cf",
   "metadata": {},
   "outputs": [],
   "source": [
    "lisp_token_table = {}"
   ]
  },
  {
   "cell_type": "markdown",
   "id": "ab0b58f0-7f44-4c3a-a82a-901599853e5b",
   "metadata": {},
   "source": [
    "A default token is either a number, or, if Python doesn't recognize it as a number, a symbol."
   ]
  },
  {
   "cell_type": "code",
   "execution_count": 5,
   "id": "54108cd0-2b3e-4661-b763-693fdf1ddb45",
   "metadata": {},
   "outputs": [],
   "source": [
    "def read_default_token(stream, token): return number_or_symbol_from_token(token)"
   ]
  },
  {
   "cell_type": "markdown",
   "id": "674bc33b-d480-4e46-a640-d9a2d1c0235d",
   "metadata": {},
   "source": [
    "`take_token` takes characters from a stream, discarding uninteresting characters (whitespace) and returning the next interesting Scheme substring."
   ]
  },
  {
   "cell_type": "code",
   "execution_count": 6,
   "id": "d31b9fce-e57e-4261-9059-209bfd44c770",
   "metadata": {},
   "outputs": [],
   "source": [
    "def take_token(stream):\n",
    "    discard_while(stream, is_lisp_delimiter) # discard uninteresting characters\n",
    "    return take_token_here(stream, lisp_escape_character, is_lisp_delimiter, lisp_delimiting_tokens)"
   ]
  },
  {
   "cell_type": "markdown",
   "id": "e06cbbe4-ea5d-41f6-ab01-0bac0d0e2b40",
   "metadata": {},
   "source": [
    "Scheme tokens are characterized by `lisp_delimiting_tokens`, `is_lisp_delimiter`, and the `lisp_escape_character`.\n",
    "They are defined outside of `take_token`, so that we can extend/modify them later.\n",
    "\n",
    "In Scheme, `()` enclose a list, `;`, `#|`, and `#;` all specify different kinds of comments, and `\"` specifies a string of text. We will add more later."
   ]
  },
  {
   "cell_type": "code",
   "execution_count": 7,
   "id": "ceab9631-7010-473b-b37c-115454ae81ed",
   "metadata": {},
   "outputs": [],
   "source": [
    "lisp_delimiting_tokens = [ '(', ')', ';', '#|', '#;', '\"' ]"
   ]
  },
  {
   "cell_type": "markdown",
   "id": "a8d618ca-4549-4c67-bc83-1f026e8c0f92",
   "metadata": {},
   "source": [
    "In addition to delimiting tokens, Scheme is separated by whitespace."
   ]
  },
  {
   "cell_type": "code",
   "execution_count": 8,
   "id": "b44df886-9ed4-4a42-8371-46af9a4db93b",
   "metadata": {},
   "outputs": [],
   "source": [
    "def is_lisp_delimiter(char): return is_whitespace(char)"
   ]
  },
  {
   "cell_type": "code",
   "execution_count": 9,
   "id": "0d1c47d5-2c6f-4be5-9178-05cdb1e09dda",
   "metadata": {},
   "outputs": [],
   "source": [
    "def is_whitespace(char): return char.isspace()"
   ]
  },
  {
   "cell_type": "markdown",
   "id": "f327a8be-aa9d-4ccc-8631-7213272be78e",
   "metadata": {},
   "source": [
    "In any normal situation a `\\` will escape the next character in Scheme text. This behavior occurs in and outside of strings."
   ]
  },
  {
   "cell_type": "code",
   "execution_count": 10,
   "id": "4dc53938-a2d8-4f37-945b-46296301466e",
   "metadata": {},
   "outputs": [],
   "source": [
    "lisp_escape_character = '\\\\'"
   ]
  },
  {
   "cell_type": "markdown",
   "id": "a12a98d9-3111-4cd4-a393-dadd2846500e",
   "metadata": {},
   "source": [
    "`take_token_here` assumes it is at the start of an interesting token, and takes characters from the stream until the end of the token is encountered.\n",
    "\n",
    "If the next token in the stream is a delimiting token, it is taken and returned.\n",
    "Otherwise, a default token is taken until the end of token is encountered.\n",
    "For Scheme the end of the token is either a whitespace character (`is_whitespace` is passed to `is_delimiter_character`), or a delimiting token (such as a `\"`, `(`, or `)`), as listed in `lisp_delimiting_tokens`. "
   ]
  },
  {
   "cell_type": "code",
   "execution_count": 11,
   "id": "a8ad7d1b-dd27-4c21-8662-217832d43f0e",
   "metadata": {},
   "outputs": [],
   "source": [
    "def take_token_here(stream, escape_character, is_delimiter_character, delimiting_tokens):\n",
    "    def is_end_of_token(stream):\n",
    "        # if the next character is a delimiter character (like whitespace for Scheme)\n",
    "        if is_delimiter_character(stream.peek()): return True\n",
    "        # Otherwise, see if the start of the stream is one of the delimiting_tokens\n",
    "        # using stream save/restore to avoid taking characters from the stream\n",
    "        position = stream.save()\n",
    "        delimiting_token = take_prefix_match(stream, delimiting_tokens)\n",
    "        stream.restore(position)\n",
    "        return delimiting_token is not None\n",
    "\n",
    "    if stream.is_eos(): return None\n",
    "    # if the next token is one of the delimiting_tokens...\n",
    "    token = take_prefix_match(stream, delimiting_tokens)\n",
    "    if token: return token\n",
    "    # Otherwise, it's a default token\n",
    "    return take_until_escaping(stream, escape_character, is_end_of_token)"
   ]
  },
  {
   "cell_type": "markdown",
   "id": "e5282af2-ce6f-45d0-96d9-0e756cf598f1",
   "metadata": {},
   "source": [
    "A stream could be a StringStream or a FileStream or a NetworkStream etc.\n",
    "\n",
    "The term `eos` denotes \"end of stream\" like `eof` used like denotes \"end of file\".\n",
    "\n",
    "Streams take one character at a time (using `next`), but `peek` can be used to look at the next character without taking it.\n",
    "`save` and `restore` are used to read ahead without permanently taking characters.\n",
    "\n",
    "A StringStream is basically a string with a position/index into the string. The position updates whenever `next` is called."
   ]
  },
  {
   "cell_type": "code",
   "execution_count": 12,
   "id": "5fb6635e-d767-43f2-b8b0-54076d87981a",
   "metadata": {},
   "outputs": [],
   "source": [
    "class StringStream:\n",
    "    def __init__(self, string):\n",
    "        self.string = string\n",
    "        self.length = len(string)\n",
    "        self.position = 0\n",
    "    \n",
    "    # Is End of stream\n",
    "    def is_eos(self): return self.position == self.length\n",
    "    def peek(self): return None if self.is_eos() else self.string[self.position]\n",
    "    def next(self):\n",
    "        char = self.peek()\n",
    "        if char: self.position += 1\n",
    "        return char\n",
    "    \n",
    "    def save(self): return self.position\n",
    "    def restore(self, position): self.position = position"
   ]
  },
  {
   "cell_type": "code",
   "execution_count": 13,
   "id": "fb392966-d686-4e3f-8455-1428131bba5f",
   "metadata": {},
   "outputs": [
    {
     "name": "stdout",
     "output_type": "stream",
     "text": [
      "T\n",
      "The quick brown fox\n"
     ]
    },
    {
     "data": {
      "text/plain": [
       "True"
      ]
     },
     "execution_count": 13,
     "metadata": {},
     "output_type": "execute_result"
    }
   ],
   "source": [
    "test_stream = StringStream('The quick brown fox')\n",
    "print(test_stream.peek())\n",
    "test_string = ''\n",
    "while True:\n",
    "    test_char = test_stream.next()\n",
    "    if not test_char: break\n",
    "    test_string += test_char\n",
    "print(test_string)\n",
    "test_stream.is_eos()"
   ]
  },
  {
   "cell_type": "markdown",
   "id": "55129934-be55-4469-b973-c4d014db1efc",
   "metadata": {},
   "source": [
    "The escape character (`\\` for Scheme) is used to escape the behavior of the following character, and instead treat it like a normal character.\n",
    "For example, the string: `\"I am about to \\\"quote\\\" this word\"` escapes the behavior of `\"` (which is to start/end a string) and instead treats it like it's any other character.\n",
    "\n",
    "`take_until_escaping` takes characters from the given stream until `stream_predicate` returns true. It respects the power of the escape character.\n",
    "\n",
    "`take_until_escaping` uses a stream_predicate, which can look ahead as many characters as needed, but _does not take any characters_."
   ]
  },
  {
   "cell_type": "code",
   "execution_count": 14,
   "id": "f8e388c1-f899-4a70-b29e-8f78c8378868",
   "metadata": {},
   "outputs": [],
   "source": [
    "def take_until_escaping(stream, escape_character, stream_predicate):\n",
    "    string = ''\n",
    "    while not stream.is_eos():\n",
    "        # look at but don't take the next character\n",
    "        char = stream.peek()\n",
    "        if char == escape_character: \n",
    "            stream.next() # discard the escape_character\n",
    "            escaped_character = stream.next()\n",
    "            # Treat the escaped_character as a normal character\n",
    "            # and append it to the string\n",
    "            if escaped_character: string += escaped_character\n",
    "        # if stream_predicate returns true, we are finished.\n",
    "        elif stream_predicate(stream): return string\n",
    "        # Otherwise we have a normal character: append it to the string\n",
    "        else: string += stream.next()\n",
    "    # we reached end of stream, return the string\n",
    "    return string"
   ]
  },
  {
   "cell_type": "markdown",
   "id": "b8849c34-06ef-4773-ad24-f19b4e7e825b",
   "metadata": {},
   "source": [
    "To test `take_until_escaping` we'll use `character_predicate_to_stream_predicate` to take a character->boolean function and convert it to functions of stream->boolean."
   ]
  },
  {
   "cell_type": "code",
   "execution_count": 15,
   "id": "b63255e3-2f3b-472e-9f13-f009e8fa6de0",
   "metadata": {},
   "outputs": [],
   "source": [
    "def character_predicate_to_stream_predicate(character_predicate): return lambda stream: character_predicate(stream.peek())"
   ]
  },
  {
   "cell_type": "code",
   "execution_count": 16,
   "id": "097cbfd5-6f04-403d-bb37-fefceb9cd8c9",
   "metadata": {},
   "outputs": [
    {
     "name": "stdout",
     "output_type": "stream",
     "text": [
      "A Token With Escaped Whitespace\n"
     ]
    },
    {
     "data": {
      "text/plain": [
       "'\\nAfter'"
      ]
     },
     "execution_count": 16,
     "metadata": {},
     "output_type": "execute_result"
    }
   ],
   "source": [
    "test_stream = StringStream('A\\\\ Token\\\\ With\\\\ Escaped\\\\ Whitespace\\nAfter')\n",
    "# Take until we encounter a whitespace character\n",
    "test_stream_predicate = character_predicate_to_stream_predicate(is_whitespace)\n",
    "print(take_until_escaping(test_stream, '\\\\', test_stream_predicate))\n",
    "test_stream.string[test_stream.position:]"
   ]
  },
  {
   "cell_type": "markdown",
   "id": "f97af06a-ef48-47c9-974f-8201d49b7300",
   "metadata": {},
   "source": [
    "`take_token` uses `discard_while` to discard uninteresting characters from the stream. Discarding does _not_ respect the escape character, but we can still implement it in terms of `take_until_escaping`, we just pass an empty string for the escape character."
   ]
  },
  {
   "cell_type": "code",
   "execution_count": 17,
   "id": "0193fcc2-a19f-4ea6-bb90-1da588ffdabd",
   "metadata": {},
   "outputs": [],
   "source": [
    "def discard_while(stream, character_predicate):\n",
    "    stream_predicate = character_predicate_to_stream_predicate(character_predicate)\n",
    "    not_stream_predicate = complement(stream_predicate)\n",
    "    take_until_escaping(stream, '', not_stream_predicate)"
   ]
  },
  {
   "cell_type": "markdown",
   "id": "e28ed010-bd4b-4357-abc1-15f4529ddb02",
   "metadata": {},
   "source": [
    "We use the `complement` of the given character predicate, which returns true whenever the given predicate would return false and vice versa."
   ]
  },
  {
   "cell_type": "code",
   "execution_count": 18,
   "id": "9c3f15fa-cfc3-4812-b02f-d8c275a12152",
   "metadata": {},
   "outputs": [],
   "source": [
    "def complement(f): return lambda *args: not f(*args)"
   ]
  },
  {
   "cell_type": "code",
   "execution_count": 19,
   "id": "15e68473-9f0a-4110-9b07-5b6e86afbee0",
   "metadata": {},
   "outputs": [
    {
     "data": {
      "text/plain": [
       "'The quick brown fox.'"
      ]
     },
     "execution_count": 19,
     "metadata": {},
     "output_type": "execute_result"
    }
   ],
   "source": [
    "test_stream = StringStream('    \\n\\t  The quick brown fox.')\n",
    "discard_while(test_stream, is_whitespace)\n",
    "test_stream.string[test_stream.position:]"
   ]
  },
  {
   "cell_type": "markdown",
   "id": "fe7d4466-442c-4cd0-b13e-81790a39291a",
   "metadata": {},
   "source": [
    "`take_prefix_match` is used by `take_token_here` to see if the stream is looking at a delimiting token. \n",
    "\n",
    "`take_prefix_match` tries to do an exact string match of each prefix in the list of prefixes. It takes and returns the first match. It uses stream's `save` and `restore` to backtrack if a match doesn't work out. If no matches are found, no characters are taken from the string, and `None` is returned."
   ]
  },
  {
   "cell_type": "code",
   "execution_count": 20,
   "id": "72b2b537-0045-4234-b538-9d479ac5b344",
   "metadata": {},
   "outputs": [],
   "source": [
    "def take_prefix_match(stream, prefixes):\n",
    "    for prefix in prefixes:\n",
    "        # Save the position of the stream\n",
    "        position = stream.save()\n",
    "        # take the number of characters in the prefix\n",
    "        stream_prefix = take_n_characters(stream, len(prefix))\n",
    "        # if they match, return the taken prefix\n",
    "        if prefix == stream_prefix: return prefix\n",
    "        # No match?: restore the position of the stream, and try the next prefix\n",
    "        stream.restore(position)\n",
    "    # No Matches found, return None\n",
    "    return None"
   ]
  },
  {
   "cell_type": "markdown",
   "id": "d4f73d6e-ea9a-40f0-84b2-4110801d6a67",
   "metadata": {},
   "source": [
    "`take_n_characters` takes a given number of characters from the start of stream."
   ]
  },
  {
   "cell_type": "code",
   "execution_count": 21,
   "id": "46394c96-f7f5-4cb3-a578-91073e4a84ea",
   "metadata": {},
   "outputs": [],
   "source": [
    "def take_n_characters(stream, num_characters):\n",
    "    string = ''\n",
    "    while not stream.is_eos() and len(string) < num_characters:\n",
    "        char = stream.next()\n",
    "        if char: string += char\n",
    "    return string"
   ]
  },
  {
   "cell_type": "code",
   "execution_count": 22,
   "id": "250d34f5-c3a9-44a5-9958-a80f2b4512db",
   "metadata": {},
   "outputs": [
    {
     "data": {
      "text/plain": [
       "'012'"
      ]
     },
     "execution_count": 22,
     "metadata": {},
     "output_type": "execute_result"
    }
   ],
   "source": [
    "take_n_characters(StringStream('01234'), 3)"
   ]
  },
  {
   "cell_type": "code",
   "execution_count": 23,
   "id": "6e3af811-be0d-4289-9a76-b23997914e7c",
   "metadata": {},
   "outputs": [
    {
     "data": {
      "text/plain": [
       "'01234'"
      ]
     },
     "execution_count": 23,
     "metadata": {},
     "output_type": "execute_result"
    }
   ],
   "source": [
    "take_n_characters(StringStream('01234'), 10)"
   ]
  },
  {
   "cell_type": "code",
   "execution_count": 24,
   "id": "ab10ee59-9605-4ebc-84e1-db9140a34635",
   "metadata": {},
   "outputs": [],
   "source": [
    "def test_take_prefix_match(stream, prefixes):\n",
    "    token = take_prefix_match(stream, prefixes)\n",
    "    return (token, stream.string[stream.position:])"
   ]
  },
  {
   "cell_type": "code",
   "execution_count": 25,
   "id": "a0cbd69b-5389-45bb-b0e3-0b1e7da02c40",
   "metadata": {},
   "outputs": [
    {
     "data": {
      "text/plain": [
       "('The', ' quick brown fox')"
      ]
     },
     "execution_count": 25,
     "metadata": {},
     "output_type": "execute_result"
    }
   ],
   "source": [
    "test_take_prefix_match(StringStream('The quick brown fox'), ['The'])"
   ]
  },
  {
   "cell_type": "code",
   "execution_count": 26,
   "id": "1ea547cf-f362-490f-a517-ecba037558e6",
   "metadata": {},
   "outputs": [
    {
     "data": {
      "text/plain": [
       "('The', ' quick brown fox')"
      ]
     },
     "execution_count": 26,
     "metadata": {},
     "output_type": "execute_result"
    }
   ],
   "source": [
    "test_take_prefix_match(StringStream('The quick brown fox'), ['The quibble', 'The'])"
   ]
  },
  {
   "cell_type": "code",
   "execution_count": 27,
   "id": "204093e2-9a1a-4601-b792-e04c8bca82ad",
   "metadata": {},
   "outputs": [
    {
     "data": {
      "text/plain": [
       "(None, 'The quick brown fox')"
      ]
     },
     "execution_count": 27,
     "metadata": {},
     "output_type": "execute_result"
    }
   ],
   "source": [
    "test_take_prefix_match(StringStream('The quick brown fox'), ['The quibbble'])"
   ]
  },
  {
   "cell_type": "markdown",
   "id": "697c8bfb-71c9-4980-b950-df370e60ba0e",
   "metadata": {},
   "source": [
    "`take_prefix_match` always chooses the first prefix found:"
   ]
  },
  {
   "cell_type": "code",
   "execution_count": 28,
   "id": "fa710c52-ef99-4b03-b519-5f15eefe1308",
   "metadata": {},
   "outputs": [
    {
     "data": {
      "text/plain": [
       "('The', ' quick brown fox')"
      ]
     },
     "execution_count": 28,
     "metadata": {},
     "output_type": "execute_result"
    }
   ],
   "source": [
    "test_take_prefix_match(StringStream('The quick brown fox'), ['The', 'Th', 'T'])"
   ]
  },
  {
   "cell_type": "markdown",
   "id": "ccd242ff-5f36-4b76-9e1a-860f75f70766",
   "metadata": {},
   "source": [
    "If a conflict occurs between tokens, we probably want to take the longer token. Think about `\"` vs. `\"\"\"`. If we always favor `\"`, we will never be able to read `\"\"\"`.\n",
    "\n",
    "We'll make sure to keep our tokens sorted:"
   ]
  },
  {
   "cell_type": "code",
   "execution_count": 29,
   "id": "5b4e4c26-b5e3-44c7-bfc8-568b02b80a31",
   "metadata": {},
   "outputs": [
    {
     "data": {
      "text/plain": [
       "['#|', '#;', '(', ')', ';', '\"']"
      ]
     },
     "execution_count": 29,
     "metadata": {},
     "output_type": "execute_result"
    }
   ],
   "source": [
    "def register_lisp_delimiting_token(token):\n",
    "    lisp_delimiting_tokens.append(token)\n",
    "    lisp_delimiting_tokens.sort(reverse=True, key=len)\n",
    "lisp_delimiting_tokens.sort(reverse=True, key=len)\n",
    "lisp_delimiting_tokens"
   ]
  },
  {
   "cell_type": "code",
   "execution_count": 30,
   "id": "e08ee4d9-a54b-44c2-9bf6-2704c8c9ea95",
   "metadata": {},
   "outputs": [],
   "source": [
    "def test_take_token(string):\n",
    "    stream = StringStream(string)\n",
    "    return (take_token(stream), stream.string[stream.position:])"
   ]
  },
  {
   "cell_type": "code",
   "execution_count": 31,
   "id": "4a511db3-a2a4-458e-b5c5-143fae5a4ba2",
   "metadata": {},
   "outputs": [
    {
     "data": {
      "text/plain": [
       "('(', 'a hullaballoo)')"
      ]
     },
     "execution_count": 31,
     "metadata": {},
     "output_type": "execute_result"
    }
   ],
   "source": [
    "test_take_token('(a hullaballoo)')"
   ]
  },
  {
   "cell_type": "markdown",
   "id": "1cdd5bc1-c4d4-45ae-bc2b-ee1dde78019e",
   "metadata": {},
   "source": [
    "`take_token` discards delimiter characters until the next interesting token:"
   ]
  },
  {
   "cell_type": "code",
   "execution_count": 32,
   "id": "47cf60af-a045-43ff-95a7-5ff9efa71eaf",
   "metadata": {},
   "outputs": [
    {
     "data": {
      "text/plain": [
       "('#|', ' a comment |#')"
      ]
     },
     "execution_count": 32,
     "metadata": {},
     "output_type": "execute_result"
    }
   ],
   "source": [
    "test_take_token('   #| a comment |#')"
   ]
  },
  {
   "cell_type": "markdown",
   "id": "34a7d52b-a72d-4e0d-8666-a89b2d7f40a6",
   "metadata": {},
   "source": [
    "Escape characters are respected, so whitespace _can_ be part of a symbol:"
   ]
  },
  {
   "cell_type": "code",
   "execution_count": 33,
   "id": "34bf4343-3bc2-4310-93bc-38b0385f848f",
   "metadata": {},
   "outputs": [
    {
     "data": {
      "text/plain": [
       "('a symbol-with-whitespace', ' another-symbol')"
      ]
     },
     "execution_count": 33,
     "metadata": {},
     "output_type": "execute_result"
    }
   ],
   "source": [
    "test_take_token('    a\\\\ symbol-with-whitespace another-symbol')"
   ]
  },
  {
   "cell_type": "markdown",
   "id": "06cf7232-053a-42d9-982b-82f87b6fc23e",
   "metadata": {},
   "source": [
    "Here, `)` marks the end of `a-symbol` because it is a delimiting token."
   ]
  },
  {
   "cell_type": "code",
   "execution_count": 34,
   "id": "d4d97fe7-f66f-486c-8c1a-69ee1a0ba48d",
   "metadata": {},
   "outputs": [
    {
     "data": {
      "text/plain": [
       "('a-symbol', ')')"
      ]
     },
     "execution_count": 34,
     "metadata": {},
     "output_type": "execute_result"
    }
   ],
   "source": [
    "test_take_token('a-symbol)')"
   ]
  },
  {
   "cell_type": "code",
   "execution_count": 35,
   "id": "3b88ab17-0203-40f5-879b-a1fca6239d0c",
   "metadata": {},
   "outputs": [
    {
     "data": {
      "text/plain": [
       "('#;', '(an expression based comment token')"
      ]
     },
     "execution_count": 35,
     "metadata": {},
     "output_type": "execute_result"
    }
   ],
   "source": [
    "test_take_token('#;(an expression based comment token')"
   ]
  },
  {
   "cell_type": "markdown",
   "id": "d1de62a6-f8b7-4f3e-adc3-fff9f398da88",
   "metadata": {},
   "source": [
    "We let Python do the heavy lifting of trying to convert the token to a number. If it fails. we assume it's a symbol and `intern` it into the symbol table."
   ]
  },
  {
   "cell_type": "code",
   "execution_count": 36,
   "id": "7ffc5176-dbe4-4fbd-ba7a-b502947754a4",
   "metadata": {},
   "outputs": [],
   "source": [
    "def number_or_symbol_from_token(token):\n",
    "    # try parsing as an int, float, complex in that order\n",
    "    # if all three fail, it's a symbol\n",
    "    try: return int(token)\n",
    "    except ValueError:\n",
    "        try: return float(token)\n",
    "        except ValueError:\n",
    "            try: return complex(token)\n",
    "            except ValueError:\n",
    "                # Remove the \\s before storing the name \n",
    "                return intern_symbol(token)"
   ]
  },
  {
   "cell_type": "markdown",
   "id": "31d0f703-874f-4349-a300-dd748a5c2bdd",
   "metadata": {},
   "source": [
    "Symbols are a lot like identifiers. They are more or less just names for variables, constants, values, and keywords."
   ]
  },
  {
   "cell_type": "code",
   "execution_count": 37,
   "id": "f3b279f3-36a7-4dc0-9dcc-c70b722cdf4e",
   "metadata": {},
   "outputs": [],
   "source": [
    "class Symbol:\n",
    "    def __init__(self, name): self.name = name\n",
    "    def __repr__(self): return 'Symbol(\"' + self.name + '\")'"
   ]
  },
  {
   "cell_type": "markdown",
   "id": "017e8f7c-4b89-4c9e-8068-0238e81186d2",
   "metadata": {},
   "source": [
    "When we `intern` a symbol, we store it in a symbol table (keys are names, values are symbols). This way we have one unique symbol object for any given symbol name, enabling fast pointer comparisons vs. string comparisons."
   ]
  },
  {
   "cell_type": "code",
   "execution_count": 38,
   "id": "f6ca33ea-9fb7-4c8e-a9ec-c9015393b873",
   "metadata": {},
   "outputs": [],
   "source": [
    "symbol_table = {}\n",
    "\n",
    "def intern_symbol(name):\n",
    "    global symbol_table\n",
    "    # If a symbol exists with this name, return it\n",
    "    if name in symbol_table: return symbol_table[name]\n",
    "    # Otherwise, create a new symbol and store it in the symbol table\n",
    "    symbol = Symbol(name)\n",
    "    symbol_table[name] = symbol\n",
    "    return symbol"
   ]
  },
  {
   "cell_type": "markdown",
   "id": "ceafc6e9-0dcb-4050-8216-20ea2c6e9318",
   "metadata": {},
   "source": [
    "Two interned symbols can be compared with `is`."
   ]
  },
  {
   "cell_type": "code",
   "execution_count": 39,
   "id": "cbbe49d2-dfbb-42a1-98db-8e310abbb4ce",
   "metadata": {},
   "outputs": [
    {
     "data": {
      "text/plain": [
       "True"
      ]
     },
     "execution_count": 39,
     "metadata": {},
     "output_type": "execute_result"
    }
   ],
   "source": [
    "intern_symbol('foo') is intern_symbol('foo')"
   ]
  },
  {
   "cell_type": "markdown",
   "id": "00411e93-c382-4f24-9584-da90557f2a6b",
   "metadata": {},
   "source": [
    "If one symbol is not interned, though:"
   ]
  },
  {
   "cell_type": "code",
   "execution_count": 40,
   "id": "f84a5573-cedb-4f3d-9939-db2b6ab3036d",
   "metadata": {},
   "outputs": [
    {
     "data": {
      "text/plain": [
       "False"
      ]
     },
     "execution_count": 40,
     "metadata": {},
     "output_type": "execute_result"
    }
   ],
   "source": [
    "intern_symbol('foo') is Symbol('foo')"
   ]
  },
  {
   "cell_type": "markdown",
   "id": "d078d7e4-7f63-4f21-9386-a1af73f4e2b3",
   "metadata": {},
   "source": [
    "Our read function now works for default tokens. We can read numbers:"
   ]
  },
  {
   "cell_type": "code",
   "execution_count": 41,
   "id": "64cf4dab-aac8-4f8c-90eb-6740c15b2f09",
   "metadata": {},
   "outputs": [
    {
     "data": {
      "text/plain": [
       "3.14159"
      ]
     },
     "execution_count": 41,
     "metadata": {},
     "output_type": "execute_result"
    }
   ],
   "source": [
    "read(StringStream('3.14159'))"
   ]
  },
  {
   "cell_type": "code",
   "execution_count": 42,
   "id": "9ab92506-422a-4384-8dae-1bf4e7921c92",
   "metadata": {},
   "outputs": [
    {
     "data": {
      "text/plain": [
       "(3+4j)"
      ]
     },
     "execution_count": 42,
     "metadata": {},
     "output_type": "execute_result"
    }
   ],
   "source": [
    "read(StringStream('3+4j'))"
   ]
  },
  {
   "cell_type": "markdown",
   "id": "fba59126-aef0-431d-8a53-95bfe42f7ba7",
   "metadata": {},
   "source": [
    "And symbols:"
   ]
  },
  {
   "cell_type": "code",
   "execution_count": 43,
   "id": "9f94b32a-39ee-431d-b4dd-1af2c4ccccf9",
   "metadata": {},
   "outputs": [
    {
     "data": {
      "text/plain": [
       "Symbol(\"a-symbol\")"
      ]
     },
     "execution_count": 43,
     "metadata": {},
     "output_type": "execute_result"
    }
   ],
   "source": [
    "read(StringStream('a-symbol'))"
   ]
  },
  {
   "cell_type": "markdown",
   "id": "29a8588b-7cd3-4c34-8873-25a645fd8004",
   "metadata": {},
   "source": [
    "But:"
   ]
  },
  {
   "cell_type": "code",
   "execution_count": 44,
   "id": "2a189d02-6179-4dac-b302-45fca8b37364",
   "metadata": {},
   "outputs": [
    {
     "data": {
      "text/plain": [
       "Symbol(\"\"\")"
      ]
     },
     "execution_count": 44,
     "metadata": {},
     "output_type": "execute_result"
    }
   ],
   "source": [
    "read(StringStream('\"a string\"'))"
   ]
  },
  {
   "cell_type": "markdown",
   "id": "7e979f66-ff40-45ca-83fc-c283b8181aed",
   "metadata": {},
   "source": [
    "`take_token` is able to tell us that `\"` is an interesting substring, but `read` doesn't really know what to do with it. `\"` isn't a symbol, but rather we want to read a string of text. We can teach it using our `lisp_token_table`."
   ]
  },
  {
   "cell_type": "code",
   "execution_count": 45,
   "id": "c4626e62-ac1f-4033-8aa7-925b253430b7",
   "metadata": {},
   "outputs": [],
   "source": [
    "lisp_token_table['\"'] = lambda stream: lisp_read_string(stream)"
   ]
  },
  {
   "cell_type": "markdown",
   "id": "cb7194f5-fb41-4ad3-b0b6-3865a9d458ce",
   "metadata": {},
   "source": [
    "`lisp_read_string` takes a stream and returns a string up until the next, enclosing, unescaped `\"`."
   ]
  },
  {
   "cell_type": "code",
   "execution_count": 46,
   "id": "36dc70d6-07da-4595-9828-19f148569163",
   "metadata": {},
   "outputs": [],
   "source": [
    "def lisp_read_string(stream):\n",
    "    def take_token(stream): return take_token_delimited(stream, ['\"'])\n",
    "    token = take_token(stream)\n",
    "    # take and discard the quote token.\n",
    "    quote_token = take_token(stream)\n",
    "    if not quote_token == '\"': error(\"End of stream while scanning string literal.\")\n",
    "    return token"
   ]
  },
  {
   "cell_type": "markdown",
   "id": "33e54d2f-3fb5-4a2b-9c90-4ee049fac39b",
   "metadata": {},
   "source": [
    "`take_token_delimited` takes a token from stream up until one of the `token_delimiters` is encountered. In the case of `lisp_read_string`, it's looking for a close `\"`.\n",
    "\n",
    "Conveniently, we can reuse `take_token_here` to implement this."
   ]
  },
  {
   "cell_type": "code",
   "execution_count": 47,
   "id": "1e0d286b-2f19-4718-b427-8d387792def2",
   "metadata": {},
   "outputs": [],
   "source": [
    "def take_token_delimited(stream, token_delimiters):\n",
    "    return take_token_here(stream, lisp_escape_character, constantly(False), token_delimiters)"
   ]
  },
  {
   "cell_type": "markdown",
   "id": "f4842205-f332-4b25-8ded-eb59ffbd1ae0",
   "metadata": {},
   "source": [
    "We want to keep all of the string characters (i.e. don't ignore whitespace inside of a string), so we use `constantly(False)` to say that no characters are delimiter characters."
   ]
  },
  {
   "cell_type": "code",
   "execution_count": 48,
   "id": "38cb7682-ecfa-4661-8fcb-0f936231a611",
   "metadata": {},
   "outputs": [],
   "source": [
    "def constantly(value): return lambda _: value"
   ]
  },
  {
   "cell_type": "code",
   "execution_count": 49,
   "id": "6936a187-52d3-42e6-ba54-982d4da528b1",
   "metadata": {},
   "outputs": [
    {
     "data": {
      "text/plain": [
       "('This \"is\" inside a quote', 'after')"
      ]
     },
     "execution_count": 49,
     "metadata": {},
     "output_type": "execute_result"
    }
   ],
   "source": [
    "test_stream = StringStream('\"This \\\\\"is\\\\\" inside a quote\"after')\n",
    "(read(test_stream), test_stream.string[test_stream.position:])"
   ]
  },
  {
   "cell_type": "markdown",
   "id": "4b0a1588-31c9-4857-a9e6-bbaa9d64d0db",
   "metadata": {},
   "source": [
    "If we reach the end of stream without finding the close quote:"
   ]
  },
  {
   "cell_type": "code",
   "execution_count": 50,
   "id": "2239b436-f4db-43dd-b08c-19343818cd69",
   "metadata": {},
   "outputs": [
    {
     "name": "stdout",
     "output_type": "stream",
     "text": [
      "End of stream while scanning string literal.\n"
     ]
    }
   ],
   "source": [
    "try: read(StringStream('\"Oops, no close quote'))\n",
    "except Exception as e: print(str(e))"
   ]
  },
  {
   "cell_type": "markdown",
   "id": "9f88653c-878b-4c65-afb8-ebb8a29f487d",
   "metadata": {},
   "source": [
    "Let's recognize some more tokens. Starting with line comments, which start with a `;` and go to the next `\\n` newline character."
   ]
  },
  {
   "cell_type": "code",
   "execution_count": 51,
   "id": "c7e2f514-0932-4326-add1-71196c168743",
   "metadata": {},
   "outputs": [],
   "source": [
    "lisp_token_table[';'] = lambda stream: lisp_read_line_comment(stream)"
   ]
  },
  {
   "cell_type": "markdown",
   "id": "073899ff-f8fd-43f9-9c62-8cddf4b8d87e",
   "metadata": {},
   "source": [
    "When we read a comment, we discard the commented characters. But we aren't done, since we need to return an expression, we'll go ahead and call `scheme_read` _again_.\n",
    "\n",
    "Like strings, we can implement this in terms of `take_token_delimited`. _Very_ convenient."
   ]
  },
  {
   "cell_type": "code",
   "execution_count": 52,
   "id": "51470d49-8407-4440-b3d0-6e3da26525dc",
   "metadata": {},
   "outputs": [],
   "source": [
    "def lisp_read_line_comment(stream):\n",
    "    # discard characters until the next (unescaped) newline\n",
    "    take_token_delimited(stream, ['\\n'])\n",
    "    # Return the next read in expression.\n",
    "    return read(stream)"
   ]
  },
  {
   "cell_type": "code",
   "execution_count": 53,
   "id": "847587d5-898b-45c8-8e23-a9accce0236a",
   "metadata": {},
   "outputs": [
    {
     "data": {
      "text/plain": [
       "'followed by a string'"
      ]
     },
     "execution_count": 53,
     "metadata": {},
     "output_type": "execute_result"
    }
   ],
   "source": [
    "read(StringStream('; a line comment\\n\"followed by a string\"'))"
   ]
  },
  {
   "cell_type": "markdown",
   "id": "ecf3d944-922d-4342-8845-e2535789d947",
   "metadata": {},
   "source": [
    "In Scheme, block comments start with `#|` and go to the next _matching_ `|#`. Block comments can be nested, so they are a tiny bit more complex."
   ]
  },
  {
   "cell_type": "code",
   "execution_count": 54,
   "id": "4b47b86b-3fc9-4c3b-9934-7259b117391a",
   "metadata": {},
   "outputs": [],
   "source": [
    "lisp_token_table['#|'] = lambda stream: lisp_read_block_comment(stream)"
   ]
  },
  {
   "cell_type": "markdown",
   "id": "821397fd-8649-4fdd-83ae-14164830d536",
   "metadata": {},
   "source": [
    "We use a count `num_blocks_open` to determine how many nested block comments we are in. If we encounter a `#|` the number goes up. If we encounter a closing `|#`, the number goes down. When we reach 0, we end the comment and `scheme_read` the next expression."
   ]
  },
  {
   "cell_type": "code",
   "execution_count": 55,
   "id": "d448ebdf-df79-43c5-8b9c-d1f661713f23",
   "metadata": {},
   "outputs": [],
   "source": [
    "def lisp_read_block_comment(stream):\n",
    "    def take_token(stream): return take_token_delimited(stream, ['#|', '|#'])\n",
    "    num_open_blocks = 1\n",
    "    # loop until num_open_blocks is 0 (or we reach end of stream)\n",
    "    while True:\n",
    "        token = take_token(stream)\n",
    "        if   token == '#|': num_open_blocks += 1\n",
    "        elif token == '|#':        \n",
    "            num_open_blocks -= 1\n",
    "            # if we closed all the blocks\n",
    "            if num_open_blocks == 0: return read(stream)\n",
    "        elif not token: error(\"End of stream encountered while reading block comment\")"
   ]
  },
  {
   "cell_type": "code",
   "execution_count": 56,
   "id": "372d4de1-fe11-4cf8-95e3-77a094b32edf",
   "metadata": {},
   "outputs": [
    {
     "data": {
      "text/plain": [
       "'after'"
      ]
     },
     "execution_count": 56,
     "metadata": {},
     "output_type": "execute_result"
    }
   ],
   "source": [
    "read(StringStream('#| outer #| inner #| innermost \\|# gotcha |# |# |#\"after\"'))"
   ]
  },
  {
   "cell_type": "markdown",
   "id": "4575a66e-8007-495d-9dce-771485e10d66",
   "metadata": {},
   "source": [
    "Expression comments comment out the next expression. They start with `#;` and discard the next expression read in by `read`."
   ]
  },
  {
   "cell_type": "code",
   "execution_count": 57,
   "id": "909f0534-1ebf-4c09-b504-50c67910f108",
   "metadata": {},
   "outputs": [],
   "source": [
    "lisp_token_table['#;'] = lambda stream: lisp_read_expression_comment(stream)"
   ]
  },
  {
   "cell_type": "code",
   "execution_count": 58,
   "id": "f259bd7a-207b-4070-a1b8-0b0c5743ddc1",
   "metadata": {},
   "outputs": [],
   "source": [
    "def lisp_read_expression_comment(stream):\n",
    "    read(stream) # Discard the commented expression\n",
    "    return read(stream)"
   ]
  },
  {
   "cell_type": "code",
   "execution_count": 59,
   "id": "b735649d-c907-454d-8f54-8dcc0068fdc5",
   "metadata": {},
   "outputs": [
    {
     "data": {
      "text/plain": [
       "'an uncommented expression'"
      ]
     },
     "execution_count": 59,
     "metadata": {},
     "output_type": "execute_result"
    }
   ],
   "source": [
    "read(StringStream('#;\"A commented expression\" \"an uncommented expression\"'))"
   ]
  },
  {
   "cell_type": "markdown",
   "id": "def57bdb-0785-45d6-88ee-e7ee94f8a0c8",
   "metadata": {},
   "source": [
    "Now we come to lists (Lisp's bread and butter). There are two types:\n",
    "- `Proper` Lists are started with a `(` followed by zero or more expressions, followed by a `)`.\n",
    "    - Examples: `()`, `(1 2 3)`, `((1 2 3) (4 5 6) ((7 8 9) (10 11 12)))`\n",
    "- `Dotted` Lists are started with a `(` followed by _one_ or more expressions, followed by a `.`, followed by exactly one expression, followed by a `)`.\n",
    "    - Examples: `(1 . 2)` `(1 . (2 . (3 . 4)))` `(1 2 3 4 5 . 6)`"
   ]
  },
  {
   "cell_type": "code",
   "execution_count": 60,
   "id": "d9f422c7-61bc-4b59-bfa9-ffc0d4db324c",
   "metadata": {},
   "outputs": [],
   "source": [
    "lisp_token_table['('] = lambda stream: lisp_read_list(stream)"
   ]
  },
  {
   "cell_type": "markdown",
   "id": "eded1c0d-d57d-4b40-8e15-6d3478227753",
   "metadata": {},
   "source": [
    "Outside of a list, it's invalid to encounter a `)` or a `.`."
   ]
  },
  {
   "cell_type": "code",
   "execution_count": 61,
   "id": "193f7b86-a507-4c1a-a036-5a03035e48df",
   "metadata": {},
   "outputs": [],
   "source": [
    "lisp_token_table[')'] = lambda stream: error(\"Read unexpected token ')' when outside of a list.\")\n",
    "lisp_token_table['.'] = lambda stream: error(\"read unexpected token '.' when outside of a list.\")"
   ]
  },
  {
   "cell_type": "markdown",
   "id": "28b85263-9e51-47c9-97e5-ff86fc2da1db",
   "metadata": {},
   "source": [
    "Interestingly `.` is a token, but it is not a _delimiting_ token. That means `.` is _not_ a token when it is part of another symbol. "
   ]
  },
  {
   "cell_type": "code",
   "execution_count": 62,
   "id": "bc120a07-010e-41e2-bb66-c878f374c86d",
   "metadata": {},
   "outputs": [],
   "source": [
    "def lisp_read_list(stream):\n",
    "    def eos_error(): error(\"Encountered end of stream while reading list.\")\n",
    "    # a list of the expressions read in so far.\n",
    "    expressions = []\n",
    "    while not stream.is_eos():\n",
    "        token = take_token(stream)\n",
    "        # End of dotted list: (expression expressions... . last_expression)\n",
    "        if   token == '.':\n",
    "            # exactly one more expression expected\n",
    "            last_expression = read(stream)\n",
    "            close_list_token = take_token(stream)\n",
    "            if not close_list_token: eos_error()\n",
    "            if not close_list_token == ')': error(\"Expected end of list token after last expression in dotted list. Got: '\" + close_list_token + \"'\")\n",
    "            # return a dotted list\n",
    "            return python_list_to_lisp_dotted_list(expressions, last_expression)\n",
    "        # End of proper list: (expressions...)\n",
    "        elif token == ')':\n",
    "            return python_list_to_lisp_list(expressions)\n",
    "        \n",
    "        # token is an expression or part of an expression: read from the token\n",
    "        expression = read_from_token(stream, token)\n",
    "        expressions.append(expression)\n",
    "    eos_error()"
   ]
  },
  {
   "cell_type": "markdown",
   "id": "8a6ed88f-7cef-4bad-bdab-0b06756e9e92",
   "metadata": {},
   "source": [
    "`lisp_read_list` does its own dispatch on tokens, so that it can handle `)` and `.`. It splits up the work of `read`, and does `take_token` and `read_from_token` on its own. _Veeeeeery_ convenient."
   ]
  },
  {
   "cell_type": "markdown",
   "id": "eaae926d-c54d-49d9-8b45-6c641ff60ddb",
   "metadata": {},
   "source": [
    "Even more fundamental than lists are pairs (`cons`es in Lisp parlance). Lists and dotted lists are built up out of these pairs."
   ]
  },
  {
   "cell_type": "code",
   "execution_count": 63,
   "id": "8a96e656-dc42-42e4-91cc-fe23030bdaf5",
   "metadata": {},
   "outputs": [],
   "source": [
    "def python_list_to_lisp_dotted_list(list, last_element):\n",
    "    if len(list) == 0: error(\"Attempt to construct dotted list with no initial elements\")\n",
    "    result = last_element\n",
    "    # Build the result in reverse order\n",
    "    for x in reversed(list):\n",
    "        result = Pair(x, result)\n",
    "    return result"
   ]
  },
  {
   "cell_type": "markdown",
   "id": "c9a80828-220b-4670-8c8f-46c3a0fb3382",
   "metadata": {},
   "source": [
    "Proper lists are actually just dotted lists, whose dotted element is an empty list. E.g. `(1 2 3 . ())` is the same as `(1 2 3)`"
   ]
  },
  {
   "cell_type": "code",
   "execution_count": 64,
   "id": "891de0a7-0ec0-4e05-99e8-33dbced207f1",
   "metadata": {},
   "outputs": [],
   "source": [
    "def python_list_to_lisp_list(list):\n",
    "    if len(list) == 0: return empty_list()\n",
    "    return python_list_to_lisp_dotted_list(list, empty_list())"
   ]
  },
  {
   "cell_type": "markdown",
   "id": "f8be2750-5db1-47fd-8565-58eb7fdc072d",
   "metadata": {},
   "source": [
    "An empty list `()` is a list with zero elements (and therefore can't be represented as a pair). "
   ]
  },
  {
   "cell_type": "markdown",
   "id": "f1365ed7-15f8-4370-a26a-b9871920d46a",
   "metadata": {},
   "source": [
    "The actual Pair/EmptyList data types are trivial."
   ]
  },
  {
   "cell_type": "code",
   "execution_count": 65,
   "id": "0bb6cc76-bc11-4bb4-9a57-88c9af99b429",
   "metadata": {},
   "outputs": [],
   "source": [
    "class EmptyList:\n",
    "    def __repr__(self): return 'EmptyList()'\n",
    "the_empty_list = EmptyList()\n",
    "def empty_list(): return the_empty_list"
   ]
  },
  {
   "cell_type": "markdown",
   "id": "b46b8c55-79e6-4364-b595-525b0543f672",
   "metadata": {},
   "source": [
    "Having a single EmptyList `the_empty_list` makes equality check easier."
   ]
  },
  {
   "cell_type": "code",
   "execution_count": 66,
   "id": "41fd1340-d1d3-4634-9430-a964b27e3376",
   "metadata": {},
   "outputs": [],
   "source": [
    "class Pair:\n",
    "    def __init__(self, a, b):\n",
    "        self.a = a\n",
    "        self.b = b\n",
    "    def __repr__(self): return 'Pair(' + repr(self.a) + ', ' + repr(self.b) + ')'"
   ]
  },
  {
   "cell_type": "markdown",
   "id": "9cff65d4-946d-47c2-8fbb-22ebc90b36f2",
   "metadata": {},
   "source": [
    "We can sort of see our reader works with lists now..."
   ]
  },
  {
   "cell_type": "code",
   "execution_count": 67,
   "id": "5bc80585-b80e-499b-81a3-59deb7aa02ca",
   "metadata": {},
   "outputs": [
    {
     "data": {
      "text/plain": [
       "Pair(Symbol(\"a\"), Pair(Symbol(\"b\"), Pair(Pair(Symbol(\"c\"), Pair(Symbol(\"d\"), Symbol(\"e\"))), Pair(Symbol(\"f\"), Pair(Symbol(\"g\"), Pair(Symbol(\"h\"), Pair(EmptyList(), EmptyList())))))))"
      ]
     },
     "execution_count": 67,
     "metadata": {},
     "output_type": "execute_result"
    }
   ],
   "source": [
    "read(StringStream('(a b (c d . e) f g h ())'))"
   ]
  },
  {
   "cell_type": "markdown",
   "id": "571c22e9-4145-4917-8a6a-ac157db17c76",
   "metadata": {},
   "source": [
    "But the output is a bit noisy. To fix this, let's implement a `lisp_string` function which we can use to print Scheme text versions of objects to strings."
   ]
  },
  {
   "cell_type": "code",
   "execution_count": 68,
   "id": "27d8ef07-26b6-4b62-a22e-bf36445d6b33",
   "metadata": {},
   "outputs": [],
   "source": [
    "def lisp_string(object):\n",
    "    t = type(object)\n",
    "    if t in lisp_string_table: return lisp_string_table[t](object)\n",
    "    # Otherwise just use the python printer\n",
    "    else: return str(object)"
   ]
  },
  {
   "cell_type": "markdown",
   "id": "2dce6807-c608-41bc-9814-c4b3eab2c615",
   "metadata": {},
   "source": [
    "Once again, we're using a dispatch table. `lisp_string_table` returns a function from object->string given the type of the object."
   ]
  },
  {
   "cell_type": "code",
   "execution_count": 69,
   "id": "d02ffd9a-9f3a-4cef-9eea-204a9cb8de66",
   "metadata": {},
   "outputs": [],
   "source": [
    "lisp_string_table = {}"
   ]
  },
  {
   "cell_type": "code",
   "execution_count": 70,
   "id": "eea7fbf9-d104-4804-9ed1-7853daa6097e",
   "metadata": {},
   "outputs": [],
   "source": [
    "lisp_string_table[str] = lambda string: string_to_lisp_string(string)"
   ]
  },
  {
   "cell_type": "code",
   "execution_count": 71,
   "id": "c9257577-fe3f-4630-8a06-e6909ec14303",
   "metadata": {},
   "outputs": [],
   "source": [
    "def string_to_lisp_string(string):\n",
    "    def is_escape_char(char): return char in [lisp_escape_character, '\"']\n",
    "    return '\"' + escape_string(string, is_escape_char) + '\"'"
   ]
  },
  {
   "cell_type": "markdown",
   "id": "db98dce4-0e2f-4fd1-b6fb-8fd16f923655",
   "metadata": {},
   "source": [
    "Scheme strings need to escape any internal `\"`s and any internal `\\`s. We'll use `escape_string` to add those in."
   ]
  },
  {
   "cell_type": "code",
   "execution_count": 72,
   "id": "ac0555ae-ae8c-49e0-8269-71afd3dcd38e",
   "metadata": {},
   "outputs": [],
   "source": [
    "def escape_string(string, is_escaped_char):\n",
    "    result = ''\n",
    "    for char in string:\n",
    "        if is_escaped_char(char): result += lisp_escape_character\n",
    "        result += char\n",
    "    return result"
   ]
  },
  {
   "cell_type": "code",
   "execution_count": 73,
   "id": "9fbe65f1-6587-44df-9c10-f16c0b917dbc",
   "metadata": {},
   "outputs": [
    {
     "name": "stdout",
     "output_type": "stream",
     "text": [
      "Here\\ is\\ a\\ string\\ with\\ whitespace\\ escaped.\n"
     ]
    }
   ],
   "source": [
    "print(escape_string('Here is a string with whitespace escaped.', is_whitespace))"
   ]
  },
  {
   "cell_type": "code",
   "execution_count": 74,
   "id": "87f15b71-a6db-4c8c-ba46-fba5f1a24206",
   "metadata": {},
   "outputs": [
    {
     "name": "stdout",
     "output_type": "stream",
     "text": [
      "\"A string with \\\"quotes\\\" and \\\\backslashes\\\\\"\n"
     ]
    }
   ],
   "source": [
    "print(lisp_string(read(StringStream('\"A string with \\\\\"quotes\\\\\" and \\\\\\\\backslashes\\\\\\\\\"'))))"
   ]
  },
  {
   "cell_type": "markdown",
   "id": "c306192c-4998-442e-b56d-03c72058663b",
   "metadata": {},
   "source": [
    "Most numbers can be printed with the default `str`..."
   ]
  },
  {
   "cell_type": "code",
   "execution_count": 75,
   "id": "c9fa42ed-b756-47a1-8ddc-be904ddc0bba",
   "metadata": {},
   "outputs": [
    {
     "data": {
      "text/plain": [
       "'3.14159'"
      ]
     },
     "execution_count": 75,
     "metadata": {},
     "output_type": "execute_result"
    }
   ],
   "source": [
    "lisp_string(read(StringStream('3.14159')))"
   ]
  },
  {
   "cell_type": "markdown",
   "id": "43fe3b6a-4e92-4094-9d9f-b7e0a003c61c",
   "metadata": {},
   "source": [
    "But Python chooses to wrap complex numbers with `()`s. This is a problem for Scheme!"
   ]
  },
  {
   "cell_type": "code",
   "execution_count": 76,
   "id": "af2de0c7-90d1-4d63-9562-39f60e874a7c",
   "metadata": {},
   "outputs": [
    {
     "data": {
      "text/plain": [
       "'(3+4j)'"
      ]
     },
     "execution_count": 76,
     "metadata": {},
     "output_type": "execute_result"
    }
   ],
   "source": [
    "lisp_string(read(StringStream('3+4j')))"
   ]
  },
  {
   "cell_type": "code",
   "execution_count": 77,
   "id": "7576391c-a780-4dfc-b528-87cf34a0b852",
   "metadata": {},
   "outputs": [],
   "source": [
    "# If it is complex, we need to strip off the outer ()s that Python adds\n",
    "lisp_string_table[complex] = lambda number: str(number)[1:-1]"
   ]
  },
  {
   "cell_type": "code",
   "execution_count": 78,
   "id": "79eb30fb-aec3-48d1-98fb-69dcddcc3b38",
   "metadata": {},
   "outputs": [
    {
     "data": {
      "text/plain": [
       "'3+4j'"
      ]
     },
     "execution_count": 78,
     "metadata": {},
     "output_type": "execute_result"
    }
   ],
   "source": [
    "lisp_string(read(StringStream('3+4j')))"
   ]
  },
  {
   "cell_type": "markdown",
   "id": "e5d28a3b-6976-4554-836d-479d9abe5130",
   "metadata": {},
   "source": [
    "Problem solved.\n",
    "\n",
    "Symbols, like strings, also need to escape some internal characters."
   ]
  },
  {
   "cell_type": "code",
   "execution_count": 79,
   "id": "c05508e6-440d-421a-8bd9-ef2f2f574162",
   "metadata": {},
   "outputs": [],
   "source": [
    "lisp_string_table[Symbol] = lambda symbol: symbol_to_lisp_string(symbol)"
   ]
  },
  {
   "cell_type": "code",
   "execution_count": 80,
   "id": "0efdb6ff-bee8-45d4-9c54-817c1fb8466b",
   "metadata": {},
   "outputs": [],
   "source": [
    "def symbol_to_lisp_string(symbol):\n",
    "    delimiting_token_characters = lisp_delimiting_token_characters()\n",
    "    def is_escaped_char(char):\n",
    "        return char == lisp_escape_character or is_whitespace(char) or char in delimiting_token_characters\n",
    "    return escape_string(symbol.name, is_escaped_char)"
   ]
  },
  {
   "cell_type": "markdown",
   "id": "d3b996e0-100e-4807-a9a3-4bf0b81a0586",
   "metadata": {},
   "source": [
    "We start by collecting all characters that appear in delimiting tokens: when printing symbols, we want to escape all of these characters in addition to `\\` and whitespace."
   ]
  },
  {
   "cell_type": "code",
   "execution_count": 81,
   "id": "cf1f3e93-747b-4181-902a-53aa2da46998",
   "metadata": {},
   "outputs": [],
   "source": [
    "def lisp_delimiting_token_characters():\n",
    "    delimiting_token_characters = []\n",
    "    for token in lisp_delimiting_tokens:\n",
    "        for char in token:\n",
    "            if char not in delimiting_token_characters: \n",
    "                delimiting_token_characters.append(char)\n",
    "    return delimiting_token_characters"
   ]
  },
  {
   "cell_type": "code",
   "execution_count": 82,
   "id": "b60cfa72-3569-4fe7-b9e7-e297b996ec4e",
   "metadata": {},
   "outputs": [
    {
     "data": {
      "text/plain": [
       "['#', '|', ';', '(', ')', '\"']"
      ]
     },
     "execution_count": 82,
     "metadata": {},
     "output_type": "execute_result"
    }
   ],
   "source": [
    "lisp_delimiting_token_characters()"
   ]
  },
  {
   "cell_type": "markdown",
   "id": "f4ea9e88-006b-4086-8f8f-4b67e41f9a6f",
   "metadata": {},
   "source": [
    "Both `#` and `|` will be escaped, even though neither are a token on their own."
   ]
  },
  {
   "cell_type": "code",
   "execution_count": 83,
   "id": "6f1de886-57c2-40cf-bda0-0eb12b72caf1",
   "metadata": {},
   "outputs": [
    {
     "name": "stdout",
     "output_type": "stream",
     "text": [
      "A\\ symbol\\ with\\ whitespace\\ \\\"quotes\\\"\\ and\\ \\#\\|\\ yikes.\n"
     ]
    }
   ],
   "source": [
    "print(lisp_string(Symbol(\"A symbol with whitespace \\\"quotes\\\" and #| yikes.\")))"
   ]
  },
  {
   "cell_type": "code",
   "execution_count": 84,
   "id": "879f6466-e489-46f1-9605-0f2490572790",
   "metadata": {},
   "outputs": [],
   "source": [
    "lisp_string_table[EmptyList] = constantly('()')"
   ]
  },
  {
   "cell_type": "code",
   "execution_count": 85,
   "id": "e2d459e9-e4b3-40e9-8768-cf551c8c1baf",
   "metadata": {},
   "outputs": [
    {
     "name": "stdout",
     "output_type": "stream",
     "text": [
      "()\n"
     ]
    }
   ],
   "source": [
    "print(lisp_string(empty_list()))"
   ]
  },
  {
   "cell_type": "code",
   "execution_count": 86,
   "id": "f1f9ae05-3f92-4771-8cbc-8ee7c85f61a5",
   "metadata": {},
   "outputs": [],
   "source": [
    "lisp_string_table[Pair] = lambda pair: lisp_list_to_lisp_string(pair)"
   ]
  },
  {
   "cell_type": "markdown",
   "id": "a065e0c1-4902-400f-95ed-ba05accde860",
   "metadata": {},
   "source": [
    "Pairs will usually be rendered as lists. But sometimes, depending on the first expression in the list, it can be rendered differently.\n",
    "\n",
    "For example, later we will have special syntax `(quote expression)` which can be read and printed as `'expression`.\n",
    "Because of this, we'll have another dispatch table: `lisp_string_list_table`."
   ]
  },
  {
   "cell_type": "code",
   "execution_count": 87,
   "id": "98756089-e9c8-471b-970b-dc0e318666e9",
   "metadata": {},
   "outputs": [],
   "source": [
    "def lisp_list_to_lisp_string(pair):\n",
    "    # we attempt a dispatch to the lisp_string_list_table\n",
    "    if pair.a in lisp_string_list_table:\n",
    "        return lisp_string_list_table[pair.a](pair)\n",
    "    \n",
    "    # otherwise, print the pair as a list.\n",
    "    result = '('\n",
    "    # Loop over each pair in the list.\n",
    "    object = pair\n",
    "    while True:\n",
    "        t = type(object)\n",
    "        # 1+ elements in the list.\n",
    "        if   t is Pair:\n",
    "            if object is not pair: result += ' '\n",
    "            # object.a is assumed to be the next element in the list\n",
    "            # object.b is assumed to be the rest of the list.\n",
    "            result += lisp_string(object.a)\n",
    "            object = object.b # object = rest of list\n",
    "            \n",
    "        # End of list\n",
    "        elif t is EmptyList: return result + ')'\n",
    "        # End of dotted list\n",
    "        else: return result + ' . ' + lisp_string(object) + ')'"
   ]
  },
  {
   "cell_type": "code",
   "execution_count": 88,
   "id": "fe32cbfc-d99b-4af9-9879-5fefa3b0ac27",
   "metadata": {},
   "outputs": [],
   "source": [
    "lisp_string_list_table = {}"
   ]
  },
  {
   "cell_type": "code",
   "execution_count": 89,
   "id": "03bc6b31-1596-4548-9286-5dd6cbabd746",
   "metadata": {},
   "outputs": [],
   "source": [
    "def read_from_string(string): return read(StringStream(string))"
   ]
  },
  {
   "cell_type": "code",
   "execution_count": 90,
   "id": "09eb1036-6bb5-4606-99c9-857305ee2960",
   "metadata": {},
   "outputs": [
    {
     "name": "stdout",
     "output_type": "stream",
     "text": [
      "(a 3.14159 (3+4j \"the \\\"quick\\\" brown fox\" . elephant) a\\ symbol h ())\n"
     ]
    }
   ],
   "source": [
    "print(lisp_string(read_from_string('(a 3.14159 (3+4j \"the \\\\\"quick\\\\\" brown fox\" . elephant) a\\\\ symbol h ())')))"
   ]
  },
  {
   "cell_type": "code",
   "execution_count": 91,
   "id": "dc5101e4-1cd1-49d4-961e-413661c3b50b",
   "metadata": {},
   "outputs": [],
   "source": [
    "def lisp_eval(expression, environment):\n",
    "    # Evaluation is in a loop to enable tail call elimination.\n",
    "    while True:\n",
    "        # If an expression is not already analyzed, macroexpand it and analyze it.\n",
    "        if not type(expression) is Analyzed: expression = analyze(simplify(expand(expression, environment)))\n",
    "        \n",
    "        # Perform the operation by giving the analyzed_expression the current environment.\n",
    "        result = expression(environment)\n",
    "        # Tail call elimination handled here:\n",
    "        if type(result) is TailCallEvaluationResult:\n",
    "            # by looping instead of calling lisp_eval, we eliminate the need for a stack frame.\n",
    "            (expression, environment) = (result.expression, result.environment)\n",
    "        # Otherwise, no tail call, and we return the result.\n",
    "        else: return result"
   ]
  },
  {
   "cell_type": "code",
   "execution_count": 92,
   "id": "57b6c482-359c-44b2-ae41-bc7bbdbe4eac",
   "metadata": {},
   "outputs": [],
   "source": [
    "simplify = lambda expression: expression"
   ]
  },
  {
   "cell_type": "code",
   "execution_count": 93,
   "id": "19229a84-ec43-47bf-af69-f5a2e0c679b5",
   "metadata": {},
   "outputs": [],
   "source": [
    "def expand(expression, environment):\n",
    "    expression_type = type(expression)\n",
    "    if expression_type is Pair:\n",
    "        (first, rest) = (expression.a, expression.b)\n",
    "        macro_procedure = environment_macro_procedure(environment, first)\n",
    "        # Macro expansion?: Apply the macro procedure and expand the result.\n",
    "        if macro_procedure:\n",
    "            return expand(apply(macro_procedure, rest), environment)\n",
    "        # Special form?: Dispatch to the expand_table\n",
    "        elif first in expand_table:\n",
    "            return expand_table[first](rest, environment)\n",
    "        # Procedure application? Expand the procedure and each argument.\n",
    "        else:\n",
    "            (procedure, arguments) = parse_procedure_application(expression)\n",
    "            results = [expand(procedure, environment)]\n",
    "            while type(arguments) is Pair:\n",
    "                results.append(expand(arguments.a, environment))\n",
    "                arguments = arguments.b\n",
    "            return python_list_to_lisp_list(results)\n",
    "\n",
    "    # Symbol or self-evaluating? No expansion... but symbol macros _are_ a thing.\n",
    "    else: return expression"
   ]
  },
  {
   "cell_type": "code",
   "execution_count": 94,
   "id": "c6737a62-8da1-4f51-bcef-937282ee0fd7",
   "metadata": {},
   "outputs": [],
   "source": [
    "expand_table = {}"
   ]
  },
  {
   "cell_type": "markdown",
   "id": "4d516895-05bf-4c69-9cfb-657f39ed41ee",
   "metadata": {},
   "source": [
    "A `TailCallEvaluationResult` is just an expression and an environment."
   ]
  },
  {
   "cell_type": "code",
   "execution_count": 95,
   "id": "4f12b09a-0a09-43b1-8f03-b5b567f7e011",
   "metadata": {},
   "outputs": [],
   "source": [
    "class TailCallEvaluationResult:\n",
    "    def __init__(self, expression, environment):\n",
    "        self.expression = expression\n",
    "        self.environment = environment"
   ]
  },
  {
   "cell_type": "code",
   "execution_count": 96,
   "id": "65f9ccf8-fe20-49eb-be0f-bf1fe3c12e21",
   "metadata": {},
   "outputs": [],
   "source": [
    "def analyze(expression):\n",
    "    expression_type = type(expression)\n",
    "    # if an expression is a non-empty list it's a special form, a macro expansion, or a procedure application\n",
    "    if expression_type is Pair:\n",
    "        first = expression.a\n",
    "        rest = expression.b\n",
    "        # Special form?: Dispatch to the analyze_table\n",
    "        if first in analyze_table: return analyze_table[first](rest)\n",
    "        # Procedure Application? Analyze procedure application\n",
    "        return analyze_procedure_application(expression)\n",
    "    # Symbol?\n",
    "    elif expression_type is Symbol: return analyze_symbol(expression)\n",
    "    # Otherwise, we assume the expression is self-evaluating\n",
    "    else: return analyze_self_evaluating(expression)"
   ]
  },
  {
   "cell_type": "code",
   "execution_count": 97,
   "id": "4f7a67c1-75db-43fa-a66d-ac8a9150df64",
   "metadata": {},
   "outputs": [],
   "source": [
    "analyze_table = {}"
   ]
  },
  {
   "cell_type": "code",
   "execution_count": 98,
   "id": "91c82576-5b92-4f0e-b477-0753235744b0",
   "metadata": {},
   "outputs": [],
   "source": [
    "def analyze_self_evaluating(expression):\n",
    "    # Return the expression no matter what the evaluation environment is.\n",
    "    def evaluate_self_evaluating(_evaluation_environment): return expression\n",
    "    return Analyzed(evaluate_self_evaluating, expression)"
   ]
  },
  {
   "cell_type": "code",
   "execution_count": 99,
   "id": "46f2d1b7-d3d6-4c5c-ab55-06bc0dbef47e",
   "metadata": {},
   "outputs": [],
   "source": [
    "class Analyzed:\n",
    "    def __init__(self, eval, expression): \n",
    "        self.eval = eval\n",
    "        self.expression = expression\n",
    "    def __call__(self, environment): return self.eval(environment)"
   ]
  },
  {
   "cell_type": "code",
   "execution_count": 100,
   "id": "bbadc824-d507-4672-a485-4a0210e11beb",
   "metadata": {},
   "outputs": [],
   "source": [
    "global_environment = None"
   ]
  },
  {
   "cell_type": "code",
   "execution_count": 101,
   "id": "2873333e-2f13-445e-a3ca-ad3a3753b602",
   "metadata": {},
   "outputs": [],
   "source": [
    "def read_eval_print(string):\n",
    "    result = lisp_eval(read_from_string(string), global_environment)\n",
    "    print(lisp_string(result))\n",
    "    return result"
   ]
  },
  {
   "cell_type": "code",
   "execution_count": 102,
   "id": "21a8ba47-33aa-4899-a662-bb513e82a353",
   "metadata": {},
   "outputs": [
    {
     "name": "stdout",
     "output_type": "stream",
     "text": [
      "3.14159\n"
     ]
    },
    {
     "data": {
      "text/plain": [
       "3.14159"
      ]
     },
     "execution_count": 102,
     "metadata": {},
     "output_type": "execute_result"
    }
   ],
   "source": [
    "read_eval_print('3.14159')"
   ]
  },
  {
   "cell_type": "code",
   "execution_count": 103,
   "id": "ac0e598c-48df-4fbc-a078-77a895a77be9",
   "metadata": {},
   "outputs": [
    {
     "name": "stdout",
     "output_type": "stream",
     "text": [
      "\"Not very exciting to evaluate\"\n"
     ]
    },
    {
     "data": {
      "text/plain": [
       "'Not very exciting to evaluate'"
      ]
     },
     "execution_count": 103,
     "metadata": {},
     "output_type": "execute_result"
    }
   ],
   "source": [
    "read_eval_print('\"Not very exciting to evaluate\"')"
   ]
  },
  {
   "cell_type": "code",
   "execution_count": 104,
   "id": "fc826da7-2e37-491d-bd3b-adc9a57a5103",
   "metadata": {},
   "outputs": [],
   "source": [
    "def analyze_symbol(symbol):\n",
    "    # Lookup the value in the evaluation_environment\n",
    "    def evaluate_symbol(evaluation_environment):\n",
    "        return environment_symbol_value(evaluation_environment, symbol)\n",
    "    # If the symbol is a constant, look it up in the global environment ahead of time.\n",
    "    if is_locked_lisp_symbol(symbol):\n",
    "        value = environment_symbol_value(global_environment, symbol)\n",
    "        return Analyzed(lambda _: value, symbol)\n",
    "    else: return Analyzed(evaluate_symbol, symbol)"
   ]
  },
  {
   "cell_type": "code",
   "execution_count": 105,
   "id": "c27e22b8-5b97-429b-b3bd-5a8ee90712f8",
   "metadata": {},
   "outputs": [],
   "source": [
    "def is_locked_lisp_symbol(symbol): return symbol in locked_lisp_symbols"
   ]
  },
  {
   "cell_type": "code",
   "execution_count": 106,
   "id": "d4c91955-37ad-4c54-b71c-1556d9c081d7",
   "metadata": {},
   "outputs": [],
   "source": [
    "locked_lisp_symbols = []"
   ]
  },
  {
   "cell_type": "code",
   "execution_count": 107,
   "id": "97507df0-2484-4b6e-966b-1b96c02c9b7e",
   "metadata": {},
   "outputs": [],
   "source": [
    "expand_table[intern_symbol('define')] = lambda rest_expression, analysis_environment: expand_define(rest_expression, analysis_environment)"
   ]
  },
  {
   "cell_type": "code",
   "execution_count": 108,
   "id": "1d47122d-ef38-40eb-a93d-35429eed5a76",
   "metadata": {},
   "outputs": [],
   "source": [
    "def expand_define(expression, environment):\n",
    "    (name_symbol, value_expression) = parse_define(expression)\n",
    "    return python_list_to_lisp_list([intern_symbol('define'), name_symbol, expand(value_expression, environment)])"
   ]
  },
  {
   "cell_type": "code",
   "execution_count": 109,
   "id": "f2041aa8-3db5-4d9f-8417-89b56bbbdac9",
   "metadata": {},
   "outputs": [],
   "source": [
    "analyze_table[intern_symbol('define')] = lambda rest_expression: analyze_define(rest_expression)"
   ]
  },
  {
   "cell_type": "code",
   "execution_count": 110,
   "id": "cbe58cac-e6fe-4cdb-ad21-32d8e0ed9274",
   "metadata": {},
   "outputs": [],
   "source": [
    "def parse_define(expression):\n",
    "    if not type(expression) is Pair: error(\"Malformed define: missing name and value-expression. Expected (define symbol expression)\")\n",
    "    name_symbol = expression.a\n",
    "    if not type (name_symbol) is Symbol: error(\"Malformed define: name should be a symbol. Expected (define symbol expression)\")\n",
    "    \n",
    "    expression = expression.b\n",
    "    if not type(expression) is Pair: error(\"Malformed define: missing value-expression. Expected (define symbol expression)\")\n",
    "    value_expression = expression.a\n",
    "    \n",
    "    if not type(expression.b) is EmptyList: error(\"Malformed define: too many expressions. Expected (define symbol expression)\")\n",
    "    return (name_symbol, value_expression)"
   ]
  },
  {
   "cell_type": "code",
   "execution_count": 111,
   "id": "abd0d6b6-1c53-4b22-a5cf-91227c7ee2c1",
   "metadata": {},
   "outputs": [],
   "source": [
    "def test_parse(parser, string):\n",
    "    expression = read_from_string(string)\n",
    "    try: print(str(parser(expression.b)))\n",
    "    except Exception as e: print(str(e))"
   ]
  },
  {
   "cell_type": "code",
   "execution_count": 112,
   "id": "6c2611eb-0d0f-493b-921b-d99dc8cb8de8",
   "metadata": {},
   "outputs": [],
   "source": [
    "def test_parse_define(string): return test_parse(parse_define, string)"
   ]
  },
  {
   "cell_type": "code",
   "execution_count": 113,
   "id": "b82573b9-9d23-4564-88aa-d57a56f9c3fb",
   "metadata": {},
   "outputs": [
    {
     "name": "stdout",
     "output_type": "stream",
     "text": [
      "(Symbol(\"a\"), Pair(Symbol(\"+\"), Pair(3, Pair(4, EmptyList()))))\n",
      "Malformed define: name should be a symbol. Expected (define symbol expression)\n",
      "Malformed define: missing value-expression. Expected (define symbol expression)\n",
      "Malformed define: missing value-expression. Expected (define symbol expression)\n",
      "Malformed define: too many expressions. Expected (define symbol expression)\n"
     ]
    }
   ],
   "source": [
    "test_parse_define('(define a (+ 3 4))')\n",
    "test_parse_define('(define \"not a symbol\" expression)')\n",
    "test_parse_define('(define name)')\n",
    "test_parse_define('(define name . expression)')\n",
    "test_parse_define('(define name e1 e2)')"
   ]
  },
  {
   "cell_type": "code",
   "execution_count": 114,
   "id": "4cb9addb-850a-4f54-86ba-24911100fed5",
   "metadata": {},
   "outputs": [],
   "source": [
    "def analyze_define(expression):\n",
    "    (name_symbol, value_expression) = parse_define(expression)\n",
    "    if is_locked_lisp_symbol(name_symbol): error(\"Attempt to define locked symbol: \" + lisp_string(name_symbol))\n",
    "    value_expression = analyze(value_expression)\n",
    "    \n",
    "    # Evaluate the value expression, and bind it to name in the evaluation environment\n",
    "    def evaluate_define(environment):\n",
    "        value = lisp_eval(value_expression, environment)\n",
    "        # TODO: verify that the symbol is not already bound in the environment\n",
    "        environment_define_symbol_value(environment, name_symbol, value)\n",
    "        # Return the name. Other reasonable choices would be to return value, or None.\n",
    "        return name_symbol\n",
    "    return Analyzed(evaluate_define, expression)"
   ]
  },
  {
   "cell_type": "code",
   "execution_count": 115,
   "id": "1ec64c1f-09b1-45b0-a0bd-188a46dc06e3",
   "metadata": {},
   "outputs": [],
   "source": [
    "class Environment:\n",
    "    def __init__(self, parent):\n",
    "        self.bindings = {}\n",
    "        self.parent = parent\n",
    "        \n",
    "    def __repr__(self):\n",
    "        environments = []\n",
    "        env = self\n",
    "        while env:\n",
    "            bindings = {}\n",
    "            for (key, value) in env.bindings.items():\n",
    "                bindings[key.name] = value\n",
    "            environments.append(bindings)\n",
    "            env = env.parent\n",
    "        return '<Environment ' + str(environments) + '>'"
   ]
  },
  {
   "cell_type": "code",
   "execution_count": 116,
   "id": "b17a9a32-8492-4fd4-8c6c-41399098665d",
   "metadata": {},
   "outputs": [],
   "source": [
    "def environment_frame_with_symbol_value(environment, symbol):\n",
    "    # look for symbol in this environment frame, or the parent frame if not found.\n",
    "    # Return the associated value.\n",
    "    if not Environment or symbol in environment.bindings: return environment\n",
    "    elif environment.parent: return environment_frame_with_symbol_value(environment.parent, symbol)"
   ]
  },
  {
   "cell_type": "code",
   "execution_count": 117,
   "id": "7d5b945c-9b13-41c9-a1e7-c0c4d3cf8226",
   "metadata": {},
   "outputs": [],
   "source": [
    "def environment_symbol_value(environment, symbol):\n",
    "    environment_frame = environment_frame_with_symbol_value(environment, symbol)\n",
    "    if environment_frame: return environment_frame.bindings[symbol]\n",
    "    else: error(\"Symbol \" + lisp_string(symbol) + \" is unbound in the given environment\")"
   ]
  },
  {
   "cell_type": "code",
   "execution_count": 118,
   "id": "accf4cbe-c2ab-452a-b347-d9f977689b12",
   "metadata": {},
   "outputs": [],
   "source": [
    "def environment_set_symbol_value(environment, symbol, value):\n",
    "    if not type(symbol) is Symbol: error(\"Got non-symbol object: \" + lisp_string(symbol))\n",
    "    environment_frame = environment_frame_with_symbol_value(environment, symbol)\n",
    "    if environment_frame: environment_frame.bindings[symbol] = value\n",
    "    else: error(\"Symbol \" + lisp_string(symbol) + \" is unbound in the given environment\")"
   ]
  },
  {
   "cell_type": "code",
   "execution_count": 119,
   "id": "ad2c9a87-0463-49ee-b962-176c52fcd107",
   "metadata": {},
   "outputs": [],
   "source": [
    "def environment_define_symbol_value(environment, symbol, value):\n",
    "    # Add symbol to this environment frame, binding it to value.\n",
    "    if not type(symbol) is Symbol: error(\"Got non-symbol object: \" + lisp_string(symbol))\n",
    "    environment.bindings[symbol] = value"
   ]
  },
  {
   "cell_type": "code",
   "execution_count": 120,
   "id": "8494fec2-af14-4386-a781-fc1db249db10",
   "metadata": {},
   "outputs": [],
   "source": [
    "def environment_macro_procedure(environment, symbol):\n",
    "    try: \n",
    "        value = environment_symbol_value(environment, symbol)\n",
    "        if type(value) is MacroProcedure: return value\n",
    "        return None\n",
    "    except Exception: return None"
   ]
  },
  {
   "cell_type": "code",
   "execution_count": 121,
   "id": "779a9cbc-731a-4299-b807-bf83063f7c7c",
   "metadata": {},
   "outputs": [],
   "source": [
    "def environment_extend(environment): return Environment(environment)"
   ]
  },
  {
   "cell_type": "code",
   "execution_count": 122,
   "id": "fb895cf3-5ae9-4eaa-bd6e-7158f13cb7ed",
   "metadata": {},
   "outputs": [
    {
     "name": "stdout",
     "output_type": "stream",
     "text": [
      "parent_top_level\n",
      "child_in_extended\n",
      "parent_in_extended\n",
      "parent_top_level\n",
      "child_in_extended updated\n",
      "parent_in_extended updated\n",
      "parent_top_level\n"
     ]
    }
   ],
   "source": [
    "test_environment = Environment(None)\n",
    "environment_define_symbol_value(test_environment, intern_symbol('parent'), 'parent_top_level')\n",
    "print(environment_symbol_value(test_environment, intern_symbol('parent')))\n",
    "\n",
    "test_extended_environment = environment_extend(test_environment)\n",
    "environment_define_symbol_value(test_extended_environment, intern_symbol('child'), 'child_in_extended')\n",
    "environment_define_symbol_value(test_extended_environment, intern_symbol('parent'), 'parent_in_extended')\n",
    "\n",
    "print(environment_symbol_value(test_extended_environment, intern_symbol('child')))\n",
    "print(environment_symbol_value(test_extended_environment, intern_symbol('parent')))\n",
    "print(environment_symbol_value(test_environment, intern_symbol('parent')))\n",
    "\n",
    "environment_set_symbol_value(test_extended_environment, intern_symbol('child'), 'child_in_extended updated')\n",
    "environment_set_symbol_value(test_extended_environment, intern_symbol('parent'), 'parent_in_extended updated')\n",
    "\n",
    "print(environment_symbol_value(test_extended_environment, intern_symbol('child')))\n",
    "print(environment_symbol_value(test_extended_environment, intern_symbol('parent')))\n",
    "print(environment_symbol_value(test_environment, intern_symbol('parent')))"
   ]
  },
  {
   "cell_type": "code",
   "execution_count": 123,
   "id": "a826311b-b75b-4962-b146-b69e3b90c7ff",
   "metadata": {},
   "outputs": [
    {
     "name": "stdout",
     "output_type": "stream",
     "text": [
      "Symbol not-present is unbound in the given environment\n"
     ]
    }
   ],
   "source": [
    "try: environment_symbol_value(test_environment, intern_symbol('not-present'))\n",
    "except Exception as e: print(str(e))"
   ]
  },
  {
   "cell_type": "code",
   "execution_count": 124,
   "id": "bea085db-aa09-48fd-8210-801c154ffce5",
   "metadata": {},
   "outputs": [],
   "source": [
    "global_environment = Environment(None)"
   ]
  },
  {
   "cell_type": "code",
   "execution_count": 125,
   "id": "6d7a6538-e6c7-4e39-a991-5758b1792f22",
   "metadata": {},
   "outputs": [
    {
     "name": "stdout",
     "output_type": "stream",
     "text": [
      "test-variable\n"
     ]
    },
    {
     "data": {
      "text/plain": [
       "Symbol(\"test-variable\")"
      ]
     },
     "execution_count": 125,
     "metadata": {},
     "output_type": "execute_result"
    }
   ],
   "source": [
    "read_eval_print('(define test-variable 3)')"
   ]
  },
  {
   "cell_type": "code",
   "execution_count": 126,
   "id": "8117a3cb-df91-4bfb-9c9e-8884dcbeac2b",
   "metadata": {},
   "outputs": [
    {
     "name": "stdout",
     "output_type": "stream",
     "text": [
      "3\n"
     ]
    },
    {
     "data": {
      "text/plain": [
       "3"
      ]
     },
     "execution_count": 126,
     "metadata": {},
     "output_type": "execute_result"
    }
   ],
   "source": [
    "read_eval_print('test-variable')"
   ]
  },
  {
   "cell_type": "code",
   "execution_count": 127,
   "id": "3d887cb5-121a-4bdb-8aea-8f2f09a02af6",
   "metadata": {},
   "outputs": [],
   "source": [
    "expand_table[intern_symbol('set!')] = lambda rest_expression, analysis_environment: expand_set(rest_expression, analysis_environment)"
   ]
  },
  {
   "cell_type": "code",
   "execution_count": 128,
   "id": "c358e649-bd9a-4d51-bced-293df289c7fe",
   "metadata": {},
   "outputs": [],
   "source": [
    "def expand_set(expression, environment):\n",
    "    (name_symbol, value_expression) = parse_set(expression)\n",
    "    return python_list_to_lisp_list([intern_symbol('set!'), name_symbol, expand(value_expression, environment)])"
   ]
  },
  {
   "cell_type": "code",
   "execution_count": 129,
   "id": "9547eb3c-30e2-4d39-9c3f-837145613600",
   "metadata": {},
   "outputs": [],
   "source": [
    "analyze_table[intern_symbol('set!')] = lambda rest_expression: analyze_set(rest_expression)"
   ]
  },
  {
   "cell_type": "code",
   "execution_count": 130,
   "id": "c39d3b31-87e8-40a1-bdc6-694e5cb9545d",
   "metadata": {},
   "outputs": [],
   "source": [
    "def analyze_set(expression):\n",
    "    (name_symbol, value_expression) = parse_set(expression)\n",
    "    if is_locked_lisp_symbol(name_symbol): error(\"Attempt to set! the value of locked symbol: \" + lisp_string(name_symbol))\n",
    "    value_expression = analyze(value_expression)\n",
    "    \n",
    "    # Evaluate the value expression, and bind it to name in the evaluation environment\n",
    "    def evaluate_set(environment):\n",
    "        value = lisp_eval(value_expression, environment)\n",
    "        environment_set_symbol_value(environment, name_symbol, value)\n",
    "        return value\n",
    "    return Analyzed(evaluate_set, expression)"
   ]
  },
  {
   "cell_type": "code",
   "execution_count": 131,
   "id": "47b0f416-0f7a-435e-bd3a-6090538c1ce0",
   "metadata": {},
   "outputs": [],
   "source": [
    "def parse_set(expression):\n",
    "    if not type(expression) is Pair: error(\"Malformed set!: missing name and value-expression. Expected (set! symbol expression)\")\n",
    "    name_symbol = expression.a\n",
    "    if not type (name_symbol) is Symbol: error(\"Malformed set!: name should be a symbol. Expected (set! symbol expression)\")\n",
    "    \n",
    "    expression = expression.b\n",
    "    if not type(expression) is Pair: error(\"Malformed set!: missing value-expression. Expected (set! symbol expression)\")\n",
    "    value_expression = expression.a\n",
    "    \n",
    "    if not type(expression.b) is EmptyList: error(\"Malformed set!: too many expressions. Expected (set! symbol expression)\")\n",
    "    return (name_symbol, value_expression)"
   ]
  },
  {
   "cell_type": "code",
   "execution_count": 132,
   "id": "c6ae1906-f99e-45cd-8752-0c968d5eab78",
   "metadata": {},
   "outputs": [],
   "source": [
    "def test_parse_set(string): return test_parse(parse_set, string)"
   ]
  },
  {
   "cell_type": "code",
   "execution_count": 133,
   "id": "4e42c4f8-5e1d-4b7b-a84f-a70c7dd9c69a",
   "metadata": {},
   "outputs": [
    {
     "name": "stdout",
     "output_type": "stream",
     "text": [
      "(Symbol(\"a\"), Pair(Symbol(\"+\"), Pair(3, Pair(4, EmptyList()))))\n",
      "Malformed set!: name should be a symbol. Expected (set! symbol expression)\n",
      "Malformed set!: missing value-expression. Expected (set! symbol expression)\n",
      "Malformed set!: missing value-expression. Expected (set! symbol expression)\n",
      "Malformed set!: too many expressions. Expected (set! symbol expression)\n"
     ]
    }
   ],
   "source": [
    "test_parse_set('(set! a (+ 3 4))')\n",
    "test_parse_set('(set! \"not a symbol\" expression)')\n",
    "test_parse_set('(set! name)')\n",
    "test_parse_set('(set! name . expression)')\n",
    "test_parse_set('(set! name e1 e2)')"
   ]
  },
  {
   "cell_type": "code",
   "execution_count": 134,
   "id": "1d3259e7-3e97-4aac-9c53-cecc5f8fa8ef",
   "metadata": {},
   "outputs": [
    {
     "name": "stdout",
     "output_type": "stream",
     "text": [
      "foo\n",
      "\"foo\"\n",
      "\"foo updated\"\n",
      "\"foo updated\"\n"
     ]
    },
    {
     "data": {
      "text/plain": [
       "'foo updated'"
      ]
     },
     "execution_count": 134,
     "metadata": {},
     "output_type": "execute_result"
    }
   ],
   "source": [
    "read_eval_print(\"\"\"(define foo \"foo\")\"\"\")\n",
    "read_eval_print(\"\"\"foo\"\"\")\n",
    "read_eval_print(\"\"\"(set! foo \"foo updated\")\"\"\")\n",
    "read_eval_print(\"\"\"foo\"\"\")"
   ]
  },
  {
   "cell_type": "code",
   "execution_count": 135,
   "id": "468e042a-3525-4b29-848e-db2e1dbb75aa",
   "metadata": {},
   "outputs": [],
   "source": [
    "expand_table[intern_symbol('begin')] = lambda rest_expression, analysis_environment: expand_begin(rest_expression, analysis_environment)"
   ]
  },
  {
   "cell_type": "code",
   "execution_count": 136,
   "id": "d55fc0df-f5af-4ca8-92a2-f9c5c58dba81",
   "metadata": {},
   "outputs": [],
   "source": [
    "def expand_begin(expression, environment):\n",
    "    expressions = parse_begin(expression)\n",
    "    result = [intern_symbol('begin')]\n",
    "    for expression in expressions:\n",
    "        result.append(expand(expression, environment))\n",
    "    return python_list_to_lisp_list(result)"
   ]
  },
  {
   "cell_type": "code",
   "execution_count": 137,
   "id": "26ec3caa-6bbd-4837-9f57-a38c4b70f04e",
   "metadata": {},
   "outputs": [],
   "source": [
    "analyze_table[intern_symbol('begin')] = lambda rest_expression: analyze_begin(rest_expression)"
   ]
  },
  {
   "cell_type": "code",
   "execution_count": 138,
   "id": "f7944623-918b-4348-9ca3-7535c39e3b5a",
   "metadata": {},
   "outputs": [],
   "source": [
    "def analyze_begin(expression):\n",
    "    expressions = parse_begin(expression)\n",
    "    analyzed_expressions = list(map(lambda expr: analyze(expr), expressions))\n",
    "    \n",
    "    def evaluate_begin(environment):\n",
    "        # Evaluate all but the last expression\n",
    "        for expr in analyzed_expressions[0:-1]:\n",
    "            # discard the results\n",
    "            lisp_eval(expr, environment)\n",
    "        # Tail call elimination: return the last expression for lisp_eval to evaluate\n",
    "        return TailCallEvaluationResult(analyzed_expressions[-1], environment)\n",
    "    if len(analyzed_expressions) == 0: return None\n",
    "    else: return Analyzed(evaluate_begin, expression)"
   ]
  },
  {
   "cell_type": "code",
   "execution_count": 139,
   "id": "e1c30e7c-5231-493a-85eb-92ad18b44b63",
   "metadata": {},
   "outputs": [],
   "source": [
    "def parse_begin(expression):\n",
    "    expressions = []\n",
    "    while type(expression) is Pair:\n",
    "        expressions.append(expression.a)\n",
    "        expression = expression.b\n",
    "    if not type(expression) is EmptyList: error(\"Malformed begin: Expected expressions to be a proper list.\")\n",
    "    return expressions"
   ]
  },
  {
   "cell_type": "code",
   "execution_count": 140,
   "id": "d5128e0d-15b1-4704-aecc-8d74f8dd4eb1",
   "metadata": {},
   "outputs": [],
   "source": [
    "def test_parse_begin(string): return test_parse(parse_begin, string)"
   ]
  },
  {
   "cell_type": "code",
   "execution_count": 141,
   "id": "8ff52519-629e-46a2-9ebf-708775e33d04",
   "metadata": {},
   "outputs": [
    {
     "name": "stdout",
     "output_type": "stream",
     "text": [
      "[Pair(Symbol(\"define\"), Pair(Symbol(\"a\"), Pair(1, EmptyList()))), Pair(Symbol(\"define\"), Pair(Symbol(\"b\"), Pair(2, EmptyList()))), Symbol(\"c\")]\n",
      "[]\n",
      "Malformed begin: Expected expressions to be a proper list.\n",
      "Malformed begin: Expected expressions to be a proper list.\n"
     ]
    }
   ],
   "source": [
    "test_parse_begin('(begin (define a 1) (define b 2) c)')\n",
    "test_parse_begin('(begin)')\n",
    "test_parse_begin('(begin . a)')\n",
    "test_parse_begin('(begin a b . c)')"
   ]
  },
  {
   "cell_type": "code",
   "execution_count": 142,
   "id": "a1b2a585-3c46-448b-8a48-930bbd3c630c",
   "metadata": {},
   "outputs": [
    {
     "name": "stdout",
     "output_type": "stream",
     "text": [
      "\"one\"\n"
     ]
    },
    {
     "data": {
      "text/plain": [
       "'one'"
      ]
     },
     "execution_count": 142,
     "metadata": {},
     "output_type": "execute_result"
    }
   ],
   "source": [
    "read_eval_print('(begin (define test-a 1) (define test-b 2) (define test-a \"one\") test-a)')"
   ]
  },
  {
   "cell_type": "code",
   "execution_count": 143,
   "id": "1a0f7b81-5e24-448e-af32-fa69486034b6",
   "metadata": {},
   "outputs": [
    {
     "name": "stdout",
     "output_type": "stream",
     "text": [
      "2\n"
     ]
    },
    {
     "data": {
      "text/plain": [
       "2"
      ]
     },
     "execution_count": 143,
     "metadata": {},
     "output_type": "execute_result"
    }
   ],
   "source": [
    "read_eval_print('test-b')"
   ]
  },
  {
   "cell_type": "code",
   "execution_count": 144,
   "id": "c20f4074-b67c-4e3f-b60b-71de5d3669e9",
   "metadata": {},
   "outputs": [],
   "source": [
    "expand_table[intern_symbol('if')] = lambda rest_expression, analysis_environment: expand_if(rest_expression, analysis_environment)"
   ]
  },
  {
   "cell_type": "code",
   "execution_count": 145,
   "id": "d1b37816-fba5-4c13-8e91-f51c9ef483bb",
   "metadata": {},
   "outputs": [],
   "source": [
    "def expand_if(expression, environment):\n",
    "    (test_expression, consequent_expression, alternative_expression) = parse_if(expression)\n",
    "    return python_list_to_lisp_list([intern_symbol('if'),\n",
    "                                        expand(test_expression, environment),\n",
    "                                        expand(consequent_expression, environment),\n",
    "                                        expand(alternative_expression, environment)])    "
   ]
  },
  {
   "cell_type": "code",
   "execution_count": 146,
   "id": "6c2df165-9345-4e55-9673-890a646fa0e0",
   "metadata": {},
   "outputs": [],
   "source": [
    "analyze_table[intern_symbol('if')] = lambda rest_expression: analyze_if(rest_expression)"
   ]
  },
  {
   "cell_type": "code",
   "execution_count": 147,
   "id": "afaa8c3a-90b0-4e3a-895a-9c938d63d8eb",
   "metadata": {},
   "outputs": [],
   "source": [
    "def analyze_if(expression):\n",
    "    (test_expression, consequent_expression, alternative_expression) = parse_if(expression)\n",
    "    test_expression = analyze(test_expression)\n",
    "    consequent_expression = analyze(consequent_expression)\n",
    "    alternative_expression = analyze(alternative_expression)\n",
    "    \n",
    "    def evaluate_if(environment):\n",
    "        # Tail call elimination: either return the consequent or alternative expression to lisp_eval.\n",
    "        if lisp_eval(test_expression, environment):\n",
    "            return TailCallEvaluationResult(consequent_expression, environment)\n",
    "        else:\n",
    "            return TailCallEvaluationResult(alternative_expression, environment)\n",
    "    return Analyzed(evaluate_if, expression)"
   ]
  },
  {
   "cell_type": "code",
   "execution_count": 148,
   "id": "c0b507f1-5231-4082-ad80-86ed18b3f7ca",
   "metadata": {},
   "outputs": [],
   "source": [
    "def parse_if(expression):\n",
    "    if not type(expression) is Pair: error(\"Malformed if: missing test, consequent, and alternative\")\n",
    "    test_expression = expression.a\n",
    "    \n",
    "    expression = expression.b\n",
    "    if not type(expression) is Pair: error(\"Malformed if: missing consequent and alternative\")\n",
    "    consequent_expression = expression.a\n",
    "    \n",
    "    expression = expression.b\n",
    "    if not type(expression) is Pair: error(\"Malformed if: missing alternative\")\n",
    "    alternative_expression = expression.a\n",
    "    \n",
    "    if not type(expression.b) is EmptyList: error(\"Malformed if: too many expressions\")\n",
    "    return (test_expression, consequent_expression, alternative_expression)"
   ]
  },
  {
   "cell_type": "code",
   "execution_count": 149,
   "id": "105ccc71-dccd-458e-ac6f-1677e24891df",
   "metadata": {},
   "outputs": [],
   "source": [
    "def test_parse_if(string): return test_parse(parse_if, string)"
   ]
  },
  {
   "cell_type": "code",
   "execution_count": 150,
   "id": "1607896b-25d2-4154-a24f-e2af6f3d1f11",
   "metadata": {},
   "outputs": [
    {
     "name": "stdout",
     "output_type": "stream",
     "text": [
      "(Symbol(\"test\"), Symbol(\"consequent\"), Symbol(\"alternative\"))\n",
      "Malformed if: missing test, consequent, and alternative\n",
      "Malformed if: missing consequent and alternative\n",
      "Malformed if: missing alternative\n",
      "Malformed if: too many expressions\n"
     ]
    }
   ],
   "source": [
    "test_parse_if('(if test consequent alternative)')\n",
    "test_parse_if('(if)')\n",
    "test_parse_if('(if test)')\n",
    "test_parse_if('(if test consequent)')\n",
    "test_parse_if('(if test consequent alternative what?)')"
   ]
  },
  {
   "cell_type": "code",
   "execution_count": 151,
   "id": "77803c17-d6e8-4b4a-9594-58f7c06f7463",
   "metadata": {},
   "outputs": [],
   "source": [
    "def define_primitive(name_string, value):\n",
    "    environment_define_symbol_value(global_environment, intern_symbol(name_string), value)"
   ]
  },
  {
   "cell_type": "code",
   "execution_count": 152,
   "id": "78a3e444-1e41-42b8-aeb5-94f5dce429af",
   "metadata": {},
   "outputs": [],
   "source": [
    "def define_constant(name_string, value):\n",
    "    define_primitive(name_string, value)\n",
    "    name_symbol = intern_symbol(name_string)\n",
    "    if not name_symbol in locked_lisp_symbols:\n",
    "        locked_lisp_symbols.append(name_symbol)"
   ]
  },
  {
   "cell_type": "code",
   "execution_count": 153,
   "id": "199bcb41-fe69-4ca6-a619-96d30f698c14",
   "metadata": {},
   "outputs": [],
   "source": [
    "define_constant('#f', False)\n",
    "define_constant('#t', True)\n",
    "lisp_string_table[bool] = lambda boolean: '#t' if boolean else '#f'"
   ]
  },
  {
   "cell_type": "code",
   "execution_count": 154,
   "id": "8ad49b15-167a-4789-aee5-8e42919d531b",
   "metadata": {},
   "outputs": [
    {
     "name": "stdout",
     "output_type": "stream",
     "text": [
      "Attempt to define locked symbol: \\#t\n"
     ]
    }
   ],
   "source": [
    "try: read_eval_print('(define #t #f)')\n",
    "except Exception as e: print(str(e))"
   ]
  },
  {
   "cell_type": "code",
   "execution_count": 155,
   "id": "2d0e50f0-9978-4cc7-8133-4650d9ff0cbc",
   "metadata": {},
   "outputs": [
    {
     "name": "stdout",
     "output_type": "stream",
     "text": [
      "\"true\"\n",
      "\"false\"\n"
     ]
    }
   ],
   "source": [
    "read_eval_print('(begin (if #t (define a \"true\") (define a \"false\")) a)')\n",
    "read_eval_print('(begin (if #f (define a \"true\") (define a \"false\")) a)')\n",
    "None"
   ]
  },
  {
   "cell_type": "code",
   "execution_count": 156,
   "id": "cd16f5e2-c67f-4375-aa72-545c147e37e8",
   "metadata": {},
   "outputs": [],
   "source": [
    "expand_table[intern_symbol('lambda')] = lambda rest_expression, analysis_environment: expand_lambda(rest_expression, analysis_environment)"
   ]
  },
  {
   "cell_type": "code",
   "execution_count": 157,
   "id": "6e9ebcd3-223a-4100-b1ef-89098b66d714",
   "metadata": {},
   "outputs": [],
   "source": [
    "def expand_lambda(expression, environment):\n",
    "    (parameter, body_expression) = parse_lambda(expression)\n",
    "    return python_list_to_lisp_list([intern_symbol('lambda'), parameter, expand(body_expression, environment)])"
   ]
  },
  {
   "cell_type": "code",
   "execution_count": 158,
   "id": "70318d6f-6452-4f8d-8fc9-8ad2b0f6013c",
   "metadata": {},
   "outputs": [],
   "source": [
    "analyze_table[intern_symbol('lambda')] = lambda rest_expression: analyze_lambda(rest_expression)"
   ]
  },
  {
   "cell_type": "code",
   "execution_count": 159,
   "id": "bec7979c-3886-43a3-a358-f7aa77ee6818",
   "metadata": {},
   "outputs": [],
   "source": [
    "def analyze_lambda(expression):\n",
    "    (parameter, body_expression) = parse_lambda(expression)\n",
    "    body_expression = analyze(body_expression)\n",
    "    \n",
    "    def evaluate_lambda(environment):\n",
    "        return Procedure(parameter, body_expression, environment)\n",
    "    return Analyzed(evaluate_lambda, expression)"
   ]
  },
  {
   "cell_type": "code",
   "execution_count": 160,
   "id": "e373d4f4-6f66-4741-ac61-a08a88ee1652",
   "metadata": {},
   "outputs": [],
   "source": [
    "def parse_lambda(expression):\n",
    "    if not type(expression) is Pair: error(\"Malformed lambda: missing parameter and body expression. Expected (lambda parameter expression)\")\n",
    "    \n",
    "    parameter = expression.a\n",
    "    if not type(parameter) is Symbol: error(\"Malformed lambda: Expected parameter to be a symbol.\")\n",
    "    \n",
    "    expression = expression.b\n",
    "    if not type(expression) is Pair: error(\"Malformed lambda: missing body expression. Expected (lambda parameter expression)\")\n",
    "    body_expression = expression.a\n",
    "    \n",
    "    expression = expression.b\n",
    "    if not type(expression) is EmptyList: error(\"Malformed lambda: too many expressions. Expected (lambda parameter expression)\")\n",
    "    return (parameter, body_expression)"
   ]
  },
  {
   "cell_type": "code",
   "execution_count": 161,
   "id": "d74867ee-7f01-4d59-8305-94df2b1854d6",
   "metadata": {},
   "outputs": [],
   "source": [
    "def test_parse_lambda(string): return test_parse(parse_lambda, string)"
   ]
  },
  {
   "cell_type": "code",
   "execution_count": 162,
   "id": "9e7f5409-ccf3-4698-ae70-0da56e133f6e",
   "metadata": {},
   "outputs": [
    {
     "name": "stdout",
     "output_type": "stream",
     "text": [
      "(Symbol(\"parameter\"), Symbol(\"expression\"))\n",
      "Malformed lambda: Expected parameter to be a symbol.\n",
      "Malformed lambda: too many expressions. Expected (lambda parameter expression)\n",
      "Malformed lambda: missing parameter and body expression. Expected (lambda parameter expression)\n",
      "Malformed lambda: missing body expression. Expected (lambda parameter expression)\n"
     ]
    }
   ],
   "source": [
    "test_parse_lambda('(lambda parameter expression)')\n",
    "test_parse_lambda('(lambda (a b c) expression)')\n",
    "test_parse_lambda('(lambda parameter expression1 expression1)')\n",
    "test_parse_lambda('(lambda)')\n",
    "test_parse_lambda('(lambda parameter)')"
   ]
  },
  {
   "cell_type": "code",
   "execution_count": 163,
   "id": "f530e488-ef7d-4fcd-8f95-091bcba7d8c7",
   "metadata": {},
   "outputs": [],
   "source": [
    "class Procedure:\n",
    "    def __init__(self, parameter, expression, environment):\n",
    "        self.parameter = parameter\n",
    "        self.expression = expression\n",
    "        self.environment = environment"
   ]
  },
  {
   "cell_type": "code",
   "execution_count": 164,
   "id": "df851422-45f4-407e-a08b-956f921d42a4",
   "metadata": {},
   "outputs": [],
   "source": [
    "def procedure_to_lisp_string(procedure):\n",
    "    return '<lambda ' + lisp_string(procedure.parameter) + ' ' + lisp_string(procedure.expression) + '>'\n",
    "\n",
    "lisp_string_table[Procedure] = procedure_to_lisp_string"
   ]
  },
  {
   "cell_type": "code",
   "execution_count": 165,
   "id": "120c9cdb-eb5b-416c-b5b3-68513925647b",
   "metadata": {},
   "outputs": [
    {
     "name": "stdout",
     "output_type": "stream",
     "text": [
      "<lambda parameter <__main__.Analyzed object at 0x0000029867A12EE0>>\n"
     ]
    },
    {
     "data": {
      "text/plain": [
       "<__main__.Procedure at 0x29867a12730>"
      ]
     },
     "execution_count": 165,
     "metadata": {},
     "output_type": "execute_result"
    }
   ],
   "source": [
    "read_eval_print('(lambda parameter a)')"
   ]
  },
  {
   "cell_type": "code",
   "execution_count": 166,
   "id": "0b6d6049-e14d-4267-9c0b-83b528ceea25",
   "metadata": {},
   "outputs": [],
   "source": [
    "expand_table[intern_symbol('macro-lambda')] = lambda rest_expression, environment: expand_macro_lambda(rest_expression, environment)"
   ]
  },
  {
   "cell_type": "code",
   "execution_count": 167,
   "id": "cd5e8b15-4de0-4082-b156-1b53b6b84ed4",
   "metadata": {},
   "outputs": [],
   "source": [
    "def expand_macro_lambda(expression, environment):\n",
    "    (parameter, body_expression) = parse_lambda(expression)\n",
    "    return python_list_to_lisp_list([intern_symbol('macro-lambda'), parameter, expand(body_expression, environment)])"
   ]
  },
  {
   "cell_type": "code",
   "execution_count": 168,
   "id": "4a89407d-3ebe-41a0-a733-30b7070b5bee",
   "metadata": {},
   "outputs": [],
   "source": [
    "analyze_table[intern_symbol('macro-lambda')] = lambda rest_expression: analyze_macro_lambda(rest_expression)"
   ]
  },
  {
   "cell_type": "code",
   "execution_count": 169,
   "id": "3cc5e6c2-b7ae-48ad-ab73-140398309950",
   "metadata": {},
   "outputs": [],
   "source": [
    "def analyze_macro_lambda(expression):\n",
    "    (parameter, body_expression) = parse_lambda(expression)\n",
    "    body_expression = analyze(body_expression)\n",
    "    \n",
    "    def evaluate_lambda(environment):\n",
    "        return MacroProcedure(parameter, body_expression, environment)\n",
    "    return Analyzed(evaluate_lambda, expression)"
   ]
  },
  {
   "cell_type": "code",
   "execution_count": 170,
   "id": "0e9d09b4-0bd0-422c-9778-34db49030701",
   "metadata": {},
   "outputs": [],
   "source": [
    "class MacroProcedure(Procedure): pass"
   ]
  },
  {
   "cell_type": "code",
   "execution_count": 171,
   "id": "90675f6a-9239-42f4-a106-f18279ce8281",
   "metadata": {},
   "outputs": [],
   "source": [
    "def analyze_procedure_application(expression):\n",
    "    (procedure_expression, argument_expression_list) = parse_procedure_application(expression)\n",
    "    procedure_expression = analyze(procedure_expression)\n",
    "    \n",
    "    analyzed_argument_expression_list = empty_list()\n",
    "    expr = argument_expression_list\n",
    "    while type(expr) is Pair:\n",
    "        analyzed_argument_expression_list = Pair(analyze(expr.a), analyzed_argument_expression_list)\n",
    "        expr = expr.b\n",
    "    \n",
    "    def evaluate_procedure_application(environment):\n",
    "        # Evaluate procedure and all arguments\n",
    "        procedure = lisp_eval(procedure_expression, environment)\n",
    "        \n",
    "        argument_list = empty_list()\n",
    "        arguments = []\n",
    "        expr = analyzed_argument_expression_list\n",
    "        while type(expr) is Pair:\n",
    "            argument = lisp_eval(expr.a, environment)\n",
    "            argument_list = Pair(argument, argument_list)\n",
    "            arguments.append(argument)\n",
    "            expr = expr.b\n",
    "        \n",
    "        # Tail call elimination. Return the procedure expression and environment back to lisp_eval.\n",
    "        if type(procedure) is Procedure:\n",
    "            # Extend the procedure environment to have parameter bound to to the passed in argument_list\n",
    "            environment = environment_extend(procedure.environment)\n",
    "            environment_define_symbol_value(environment, procedure.parameter, argument_list)\n",
    "            return TailCallEvaluationResult(procedure.expression, environment)\n",
    "        # procedure is a python function.\n",
    "        else:\n",
    "            arguments.reverse()\n",
    "            return procedure(*arguments)\n",
    "    return Analyzed(evaluate_procedure_application, expression)"
   ]
  },
  {
   "cell_type": "code",
   "execution_count": 172,
   "id": "f022cd6d-40e3-4756-a265-a22adea12bc4",
   "metadata": {},
   "outputs": [],
   "source": [
    "def parse_procedure_application(expression):\n",
    "    whole_expression = expression\n",
    "    argument_expressions = []\n",
    "    procedure_expression = expression.a\n",
    "    argument_expressions = expression = expression.b\n",
    "    while type(expression) is Pair: expression = expression.b\n",
    "    if type(expression) is not EmptyList: error(\"Procedure application expects a proper list: \" + lisp_string(whole_expression))\n",
    "    return (procedure_expression, argument_expressions)"
   ]
  },
  {
   "cell_type": "code",
   "execution_count": 173,
   "id": "b74ce078-1e7a-41e8-bbff-9224a6fb9857",
   "metadata": {},
   "outputs": [],
   "source": [
    "expand_table[intern_symbol('quote')] = lambda rest_expression, environment: expand_quote(rest_expression, environment)"
   ]
  },
  {
   "cell_type": "code",
   "execution_count": 174,
   "id": "210eee3b-a989-4dd2-8b79-546f7a62d582",
   "metadata": {},
   "outputs": [],
   "source": [
    "def expand_quote(expression, environment):\n",
    "    return Pair(intern_symbol('quote'), expression)"
   ]
  },
  {
   "cell_type": "code",
   "execution_count": 175,
   "id": "c9b7ff60-4bae-42f2-8309-b84d5cad65a1",
   "metadata": {},
   "outputs": [],
   "source": [
    "analyze_table[intern_symbol('quote')] = lambda rest_expression: analyze_quote(rest_expression)"
   ]
  },
  {
   "cell_type": "code",
   "execution_count": 176,
   "id": "90b91517-8712-48be-8f72-bdd48ef2e718",
   "metadata": {},
   "outputs": [],
   "source": [
    "def analyze_quote(expression):\n",
    "    quoted_expression = parse_quote(expression)\n",
    "    def evaluate_quote(environment):\n",
    "        return quoted_expression\n",
    "    return Analyzed(evaluate_quote, expression)"
   ]
  },
  {
   "cell_type": "code",
   "execution_count": 177,
   "id": "552674d5-1afc-4e4c-9334-278e6cf8c9c0",
   "metadata": {},
   "outputs": [],
   "source": [
    "def parse_quote(expression):\n",
    "    if not type(expression) is Pair: error(\"Malformed quote: expected expression\")\n",
    "    quoted_expression = expression.a\n",
    "    if not type(expression.b) is EmptyList: error(\"Malformed quote: expected exactly one expression.\")\n",
    "    return quoted_expression"
   ]
  },
  {
   "cell_type": "code",
   "execution_count": 178,
   "id": "a9a97d36-db06-4884-b255-3d8904db109b",
   "metadata": {},
   "outputs": [],
   "source": [
    "def test_parse_quote(string): return test_parse(parse_quote, string)"
   ]
  },
  {
   "cell_type": "code",
   "execution_count": 179,
   "id": "4818ab6b-5bdc-4684-aae3-60d17080658f",
   "metadata": {},
   "outputs": [
    {
     "name": "stdout",
     "output_type": "stream",
     "text": [
      "Symbol(\"expression\")\n",
      "Malformed quote: expected expression\n",
      "Malformed quote: expected expression\n",
      "Malformed quote: expected exactly one expression.\n"
     ]
    }
   ],
   "source": [
    "test_parse_quote('(quote expression)')\n",
    "test_parse_quote('(quote)')\n",
    "test_parse_quote('(quote . rest)')\n",
    "test_parse_quote('(quote a b)')"
   ]
  },
  {
   "cell_type": "code",
   "execution_count": 180,
   "id": "37365456-b301-4573-a0c8-192aa54d1ff8",
   "metadata": {},
   "outputs": [
    {
     "name": "stdout",
     "output_type": "stream",
     "text": [
      "(the quick brown (fox))\n"
     ]
    },
    {
     "data": {
      "text/plain": [
       "Pair(Symbol(\"the\"), Pair(Symbol(\"quick\"), Pair(Symbol(\"brown\"), Pair(Pair(Symbol(\"fox\"), EmptyList()), EmptyList()))))"
      ]
     },
     "execution_count": 180,
     "metadata": {},
     "output_type": "execute_result"
    }
   ],
   "source": [
    "read_eval_print('(quote (the quick brown (fox)))')"
   ]
  },
  {
   "cell_type": "code",
   "execution_count": 181,
   "id": "615823f5-c0fd-48c2-8382-a56f5219cf93",
   "metadata": {},
   "outputs": [],
   "source": [
    "register_lisp_delimiting_token(\"'\")\n",
    "lisp_token_table[\"'\"] = lambda stream: Pair(intern_symbol('quote'), Pair(read(stream), empty_list()))\n",
    "lisp_string_list_table[intern_symbol('quote')] = lambda pair: \"'\" + lisp_string(pair.b.a)"
   ]
  },
  {
   "cell_type": "code",
   "execution_count": 182,
   "id": "5a9c07e4-7983-4020-b055-3b268f3b862c",
   "metadata": {},
   "outputs": [
    {
     "name": "stdout",
     "output_type": "stream",
     "text": [
      "(the quick brown (fox))\n"
     ]
    },
    {
     "data": {
      "text/plain": [
       "Pair(Symbol(\"the\"), Pair(Symbol(\"quick\"), Pair(Symbol(\"brown\"), Pair(Pair(Symbol(\"fox\"), EmptyList()), EmptyList()))))"
      ]
     },
     "execution_count": 182,
     "metadata": {},
     "output_type": "execute_result"
    }
   ],
   "source": [
    "read_eval_print(\"'(the quick brown (fox))\")"
   ]
  },
  {
   "cell_type": "code",
   "execution_count": 183,
   "id": "7b6315bb-0d88-4866-9495-3eb645af8959",
   "metadata": {},
   "outputs": [
    {
     "name": "stdout",
     "output_type": "stream",
     "text": [
      "'(the quick brown '(fox))\n"
     ]
    },
    {
     "data": {
      "text/plain": [
       "Pair(Symbol(\"quote\"), Pair(Pair(Symbol(\"the\"), Pair(Symbol(\"quick\"), Pair(Symbol(\"brown\"), Pair(Pair(Symbol(\"quote\"), Pair(Pair(Symbol(\"fox\"), EmptyList()), EmptyList())), EmptyList())))), EmptyList()))"
      ]
     },
     "execution_count": 183,
     "metadata": {},
     "output_type": "execute_result"
    }
   ],
   "source": [
    "read_eval_print(\"''(the quick brown '(fox))\")"
   ]
  },
  {
   "cell_type": "code",
   "execution_count": 184,
   "id": "da0ad740-46b4-4448-a006-4e50a1371598",
   "metadata": {},
   "outputs": [],
   "source": [
    "define_primitive('eval-python', eval)\n",
    "define_primitive('exec-python', exec)\n",
    "define_primitive('procedure->python', lambda procedure: lisp_procedure_to_python(procedure))\n",
    "define_primitive('python-list', lambda *arguments: [*arguments])"
   ]
  },
  {
   "cell_type": "code",
   "execution_count": 185,
   "id": "c339574f-4834-4a3b-bf99-43f100bf33a6",
   "metadata": {},
   "outputs": [
    {
     "name": "stdout",
     "output_type": "stream",
     "text": [
      "symbol?\n"
     ]
    },
    {
     "data": {
      "text/plain": [
       "Symbol(\"symbol?\")"
      ]
     },
     "execution_count": 185,
     "metadata": {},
     "output_type": "execute_result"
    }
   ],
   "source": [
    "# TODO: bootstrap\n",
    "read_eval_print(\"\"\"\n",
    "(begin\n",
    "    (exec-python \"global op; import operator as op\")\n",
    "    (define attr (eval-python \"op.attrgetter\"))\n",
    "    (define eq? (eval-python \"op.is_\"))\n",
    "    \n",
    "    (define empty?\n",
    "        (lambda args \n",
    "            (begin \n",
    "                (define object (first args))\n",
    "                (eq? object ()))))\n",
    "    \n",
    "    (define type? (eval-python \"isinstance\"))\n",
    "    (define type-predicate \n",
    "        (lambda args\n",
    "            (begin\n",
    "                (define type (first args)) \n",
    "                (lambda args\n",
    "                    (begin\n",
    "                        (define object (first args))\n",
    "                        (type? object type))))))\n",
    "    \n",
    "    (define pair (eval-python \"Pair\"))\n",
    "    (define first (attr \"a\"))\n",
    "    (define rest (attr \"b\"))\n",
    "    \n",
    "    (define pair? (type-predicate pair))\n",
    "    (define cons pair)\n",
    "    (define car first)\n",
    "    (define cdr rest)\n",
    "    \n",
    "    (define integer (eval-python \"int\"))\n",
    "    (define integer? (type-predicate integer))\n",
    "    \n",
    "    (define complex (eval-python \"complex\"))\n",
    "    (define complex? (type-predicate complex))\n",
    "    \n",
    "    (define boolean (eval-python \"bool\"))\n",
    "    (define boolean? (type-predicate boolean))\n",
    "    \n",
    "    (define floating-point (eval-python \"float\"))\n",
    "    (define floating-point? (type-predicate floating-point))\n",
    "\n",
    "    (define procedure (eval-python \"Procedure\"))\n",
    "    (define procedure? (type-predicate procedure))\n",
    "\n",
    "    (define symbol (eval-python \"Symbol\"))\n",
    "    (define symbol? (type-predicate symbol)))\n",
    "\"\"\")"
   ]
  },
  {
   "cell_type": "code",
   "execution_count": 186,
   "id": "0c37644c-fa84-46d3-ac82-46daa05bf794",
   "metadata": {},
   "outputs": [
    {
     "name": "stdout",
     "output_type": "stream",
     "text": [
      "\"true\"\n"
     ]
    },
    {
     "data": {
      "text/plain": [
       "'true'"
      ]
     },
     "execution_count": 186,
     "metadata": {},
     "output_type": "execute_result"
    }
   ],
   "source": [
    "read_eval_print(\"\"\"(begin\n",
    "(define foo\n",
    "    (lambda args\n",
    "        (begin\n",
    "            (define a (first args))\n",
    "            (define true (first (rest args)))\n",
    "            (define false (first (rest (rest args))))\n",
    "            (if a (true a) (false a)))))\n",
    "(foo \"a\" (lambda _ (begin (define b \"true\") b)) (lambda _ \"false\")))\"\"\")"
   ]
  },
  {
   "cell_type": "code",
   "execution_count": 187,
   "id": "d85f866c-0622-41f9-a0a7-70c69172fe31",
   "metadata": {},
   "outputs": [
    {
     "name": "stdout",
     "output_type": "stream",
     "text": [
      "\"a\"\n",
      "c\n",
      "\"b\"\n",
      "\"c\"\n"
     ]
    },
    {
     "data": {
      "text/plain": [
       "'c'"
      ]
     },
     "execution_count": 187,
     "metadata": {},
     "output_type": "execute_result"
    }
   ],
   "source": [
    "read_eval_print(\"\"\"((lambda args (begin (define x (first args)) x)) \"a\" \"b\" \"c\")\"\"\")\n",
    "read_eval_print(\"\"\"(begin\n",
    "(define f\n",
    "    (lambda args\n",
    "        (begin\n",
    "            (define a (first args))\n",
    "            (define b (first (rest args)))\n",
    "            (define c (first (rest (rest args))))\n",
    "            (if a b  c))))\n",
    "(define b (f #t \"b\" \"c\"))\n",
    "(define c (f #f \"b\" \"c\")))\"\"\")\n",
    "read_eval_print('b')\n",
    "read_eval_print('c')"
   ]
  },
  {
   "cell_type": "code",
   "execution_count": 188,
   "id": "3c80bc04-ab39-4737-bc5f-55d808bdbb16",
   "metadata": {},
   "outputs": [],
   "source": [
    "def lisp_procedure_to_python(procedure):\n",
    "    if isinstance(procedure, Procedure):\n",
    "        def function(*arguments):\n",
    "            environment = environment_extend(procedure.environment)\n",
    "            environment_define_symbol_value(environment, procedure.parameter, python_list_to_lisp_list(arguments))\n",
    "            return lisp_eval(procedure.expression, environment)\n",
    "        return function\n",
    "    else: return procedure"
   ]
  },
  {
   "cell_type": "code",
   "execution_count": 189,
   "id": "2b209f5c-e8f1-463b-8a6b-8d302708a7b1",
   "metadata": {},
   "outputs": [
    {
     "name": "stdout",
     "output_type": "stream",
     "text": [
      "not\n"
     ]
    },
    {
     "data": {
      "text/plain": [
       "Symbol(\"not\")"
      ]
     },
     "execution_count": 189,
     "metadata": {},
     "output_type": "execute_result"
    }
   ],
   "source": [
    "# TODO: bootstrap\n",
    "read_eval_print(\"\"\"\n",
    "(begin\n",
    "  (exec-python \"global op; import operator as op\")\n",
    "  (define + (eval-python \"op.add\"))\n",
    "  (define - (eval-python \"op.sub\"))\n",
    "  (define * (eval-python \"op.mul\"))\n",
    "  (define / (eval-python \"op.truediv\"))\n",
    "  \n",
    "  (define > (eval-python \"op.gt\"))\n",
    "  (define < (eval-python \"op.lt\"))\n",
    "  (define >= (eval-python \"op.ge\"))\n",
    "  (define <= (eval-python \"op.le\"))\n",
    "  (define = (eval-python \"op.eq\"))\n",
    "  \n",
    "  (define not (eval-python \"op.not_\")))\n",
    "\"\"\")"
   ]
  },
  {
   "cell_type": "code",
   "execution_count": 190,
   "id": "85f35db9-6879-4377-bee2-68ecbcd43fbe",
   "metadata": {},
   "outputs": [
    {
     "name": "stdout",
     "output_type": "stream",
     "text": [
      "3\n"
     ]
    },
    {
     "data": {
      "text/plain": [
       "3"
      ]
     },
     "execution_count": 190,
     "metadata": {},
     "output_type": "execute_result"
    }
   ],
   "source": [
    "read_eval_print('(+ 1 2)')"
   ]
  },
  {
   "cell_type": "code",
   "execution_count": 191,
   "id": "db95c55a-2ad2-4b31-83b0-6fac08fa36f6",
   "metadata": {},
   "outputs": [
    {
     "name": "stdout",
     "output_type": "stream",
     "text": [
      "append\n"
     ]
    },
    {
     "data": {
      "text/plain": [
       "Symbol(\"append\")"
      ]
     },
     "execution_count": 191,
     "metadata": {},
     "output_type": "execute_result"
    }
   ],
   "source": [
    "read_eval_print(\"\"\"\n",
    "(define append \n",
    "    (lambda args\n",
    "        (begin\n",
    "            (define a (first args))\n",
    "            (define b (first (rest args)))\n",
    "            (if (empty? a) \n",
    "                b\n",
    "                (cons (first a) (append (rest a) b))))))\n",
    "\"\"\")"
   ]
  },
  {
   "cell_type": "code",
   "execution_count": 192,
   "id": "9ef65aeb-8695-4297-84be-57313f5d7ee0",
   "metadata": {},
   "outputs": [
    {
     "name": "stdout",
     "output_type": "stream",
     "text": [
      "(one two three 4 5 6)\n"
     ]
    },
    {
     "data": {
      "text/plain": [
       "Pair(Symbol(\"one\"), Pair(Symbol(\"two\"), Pair(Symbol(\"three\"), Pair(4, Pair(5, Pair(6, EmptyList()))))))"
      ]
     },
     "execution_count": 192,
     "metadata": {},
     "output_type": "execute_result"
    }
   ],
   "source": [
    "read_eval_print(\"(append '(one two three) '(4 5 6))\")"
   ]
  },
  {
   "cell_type": "code",
   "execution_count": 193,
   "id": "274e1d0d-4d74-4f0e-816e-e188fcd5c455",
   "metadata": {},
   "outputs": [
    {
     "name": "stdout",
     "output_type": "stream",
     "text": [
      "sin\n"
     ]
    },
    {
     "data": {
      "text/plain": [
       "Symbol(\"sin\")"
      ]
     },
     "execution_count": 193,
     "metadata": {},
     "output_type": "execute_result"
    }
   ],
   "source": [
    "read_eval_print(\"\"\"\n",
    "(begin\n",
    "    (exec-python \"global math; import math\")\n",
    "    (define cos (eval-python \"math.cos\"))\n",
    "    (define sin (eval-python \"math.sin\")))\n",
    "\"\"\")"
   ]
  },
  {
   "cell_type": "code",
   "execution_count": 194,
   "id": "15ee31d9-3214-45c7-a258-27374fc3b27a",
   "metadata": {},
   "outputs": [
    {
     "name": "stdout",
     "output_type": "stream",
     "text": [
      "#t\n",
      "#t\n"
     ]
    },
    {
     "data": {
      "text/plain": [
       "True"
      ]
     },
     "execution_count": 194,
     "metadata": {},
     "output_type": "execute_result"
    }
   ],
   "source": [
    "read_eval_print(\"\"\"(begin\n",
    "(define square (lambda args (begin (define x (first args)) (* x x))))\n",
    "\n",
    "(define floating-point=\n",
    "    (lambda args\n",
    "        (begin\n",
    "            (define v1 (first args))\n",
    "            (define v2 (first (rest args)))\n",
    "            (define epsilon (first (rest (rest args))))\n",
    "            (if (> v1 (- v2 epsilon))\n",
    "                (if (< v1 (+ v2 epsilon))\n",
    "                    #t\n",
    "                    #f)\n",
    "                #f))))\n",
    "\n",
    "(define cos-squared+sin-squared\n",
    "    (lambda args \n",
    "        (begin \n",
    "            (define x (first args))\n",
    "            (+ (square (cos x)) (square (sin x))))))\n",
    "(floating-point= 1.0 (cos-squared+sin-squared .4) .01))\n",
    "\"\"\")\n",
    "read_eval_print(\"\"\"(floating-point= 1.0 (cos-squared+sin-squared 42.424242) .01)\"\"\")"
   ]
  },
  {
   "cell_type": "code",
   "execution_count": 195,
   "id": "4a7f6301-f84e-48d7-bed7-de920a8e5622",
   "metadata": {},
   "outputs": [
    {
     "name": "stdout",
     "output_type": "stream",
     "text": [
      "<function lisp_procedure_to_python.<locals>.function at 0x0000029867A6C940>\n",
      "(a b c)\n",
      "(d e f)\n"
     ]
    },
    {
     "data": {
      "text/plain": [
       "'(a b c d e f)'"
      ]
     },
     "execution_count": 195,
     "metadata": {},
     "output_type": "execute_result"
    }
   ],
   "source": [
    "test_lisp_append = read_eval_print('(procedure->python append)')\n",
    "test_list_a = read_eval_print(\"'(a b c)\")\n",
    "test_list_b = read_eval_print(\"'(d e f)\")\n",
    "lisp_string(test_lisp_append(test_list_a, test_list_b))"
   ]
  },
  {
   "cell_type": "code",
   "execution_count": 196,
   "id": "2d7bf075-0a3a-43dc-a004-0aa2abbef990",
   "metadata": {},
   "outputs": [
    {
     "name": "stdout",
     "output_type": "stream",
     "text": [
      "[1, 'two', 3.0, (4+5j)]\n"
     ]
    },
    {
     "data": {
      "text/plain": [
       "[1, 'two', 3.0, (4+5j)]"
      ]
     },
     "execution_count": 196,
     "metadata": {},
     "output_type": "execute_result"
    }
   ],
   "source": [
    "read_eval_print('(python-list 1 \"two\" 3.0 4+5j)')"
   ]
  },
  {
   "cell_type": "code",
   "execution_count": 197,
   "id": "163ab9b2-75ad-4bff-8605-9983b95be5d3",
   "metadata": {},
   "outputs": [
    {
     "name": "stdout",
     "output_type": "stream",
     "text": [
      "list\n"
     ]
    },
    {
     "data": {
      "text/plain": [
       "Symbol(\"list\")"
      ]
     },
     "execution_count": 197,
     "metadata": {},
     "output_type": "execute_result"
    }
   ],
   "source": [
    "read_eval_print('(define list (lambda args args))')"
   ]
  },
  {
   "cell_type": "code",
   "execution_count": 198,
   "id": "d4417ff7-ef19-4b93-92bd-c54c8b0445d6",
   "metadata": {},
   "outputs": [
    {
     "name": "stdout",
     "output_type": "stream",
     "text": [
      "(1 2 3)\n"
     ]
    },
    {
     "data": {
      "text/plain": [
       "Pair(1, Pair(2, Pair(3, EmptyList())))"
      ]
     },
     "execution_count": 198,
     "metadata": {},
     "output_type": "execute_result"
    }
   ],
   "source": [
    "read_eval_print(\"\"\"(list 1 2 3)\"\"\")"
   ]
  },
  {
   "cell_type": "code",
   "execution_count": 199,
   "id": "b9f3dce3-5717-4112-8bbc-e19829af34b2",
   "metadata": {},
   "outputs": [],
   "source": [
    "def apply(procedure, argument_list):\n",
    "    if isinstance(procedure, Procedure):\n",
    "        environment = environment_extend(procedure.environment)\n",
    "        environment_define_symbol_value(procedure.environment, procedure.parameter, argument_list)\n",
    "        return lisp_eval(procedure.expression, environment)\n",
    "    else:\n",
    "        return procedure(*lisp_list_to_python_list(argument_list))"
   ]
  },
  {
   "cell_type": "code",
   "execution_count": 200,
   "id": "4b3a4474-1dcf-43a3-96d5-a2de8c9b3f14",
   "metadata": {},
   "outputs": [],
   "source": [
    "def lisp_list_to_python_list(expr):\n",
    "    arguments = []\n",
    "    while type(expr) is Pair:\n",
    "        arguments.append(expr.a)\n",
    "        expr = expr.b\n",
    "    return arguments"
   ]
  },
  {
   "cell_type": "code",
   "execution_count": 201,
   "id": "945a7b6b-831a-46cc-bc46-434e123814f8",
   "metadata": {},
   "outputs": [
    {
     "name": "stdout",
     "output_type": "stream",
     "text": [
      "apply\n"
     ]
    },
    {
     "data": {
      "text/plain": [
       "Symbol(\"apply\")"
      ]
     },
     "execution_count": 201,
     "metadata": {},
     "output_type": "execute_result"
    }
   ],
   "source": [
    "read_eval_print(\"\"\"(define apply (eval-python \"apply\"))\"\"\")"
   ]
  },
  {
   "cell_type": "code",
   "execution_count": 202,
   "id": "e914c9d5-ae02-46f3-b49d-c87eedd3befa",
   "metadata": {},
   "outputs": [
    {
     "name": "stdout",
     "output_type": "stream",
     "text": [
      "fourth\n"
     ]
    },
    {
     "data": {
      "text/plain": [
       "Symbol(\"fourth\")"
      ]
     },
     "execution_count": 202,
     "metadata": {},
     "output_type": "execute_result"
    }
   ],
   "source": [
    "# TODO: boostrap\n",
    "read_eval_print(\"\"\"(begin\n",
    "(define second (lambda args (first (apply rest args))))\n",
    "(define third (lambda args (first (rest (apply rest args)))))\n",
    "(define fourth (lambda args (first (rest (rest (apply rest args)))))))\n",
    "\"\"\")"
   ]
  },
  {
   "cell_type": "code",
   "execution_count": 203,
   "id": "0aec60ec-58de-4c60-89a5-2ba5ce3a171e",
   "metadata": {},
   "outputs": [
    {
     "name": "stdout",
     "output_type": "stream",
     "text": [
      "2\n",
      "3\n"
     ]
    },
    {
     "data": {
      "text/plain": [
       "3"
      ]
     },
     "execution_count": 203,
     "metadata": {},
     "output_type": "execute_result"
    }
   ],
   "source": [
    "read_eval_print(\"\"\"(second (list 1 2 3))\"\"\")\n",
    "read_eval_print(\"\"\"(third (list 1 2 3))\"\"\")"
   ]
  },
  {
   "cell_type": "code",
   "execution_count": 204,
   "id": "7d6af85d-12a5-4aaa-960c-c7a9c9ebc3c7",
   "metadata": {},
   "outputs": [
    {
     "name": "stdout",
     "output_type": "stream",
     "text": [
      "positional-spec->definition\n"
     ]
    },
    {
     "data": {
      "text/plain": [
       "Symbol(\"positional-spec->definition\")"
      ]
     },
     "execution_count": 204,
     "metadata": {},
     "output_type": "execute_result"
    }
   ],
   "source": [
    "# TODO: boostrap\n",
    "read_eval_print(\"\"\"\n",
    "(define positional-spec->definition\n",
    "    (lambda args\n",
    "        (begin\n",
    "            (define parameter (first args))\n",
    "            (define arguments (first (rest args)))\n",
    "            (list 'if (list 'pair? arguments) \n",
    "                      (list 'define parameter (list 'pop! arguments))\n",
    "                      (list 'missing-positional-argument-error (list 'quote parameter))))))\"\"\")"
   ]
  },
  {
   "cell_type": "code",
   "execution_count": 205,
   "id": "940dfa53-a9bd-453b-b7ed-35bfeb16a556",
   "metadata": {},
   "outputs": [
    {
     "name": "stdout",
     "output_type": "stream",
     "text": [
      "(if (pair? <argument>) (define a (pop! <argument>)) (missing-positional-argument-error 'a))\n"
     ]
    }
   ],
   "source": [
    "read_eval_print(\"\"\"(positional-spec->definition 'a '<argument>)\"\"\")\n",
    "None"
   ]
  },
  {
   "cell_type": "code",
   "execution_count": 206,
   "id": "4c4df662-53db-4fa9-be0e-0261e04a5eb7",
   "metadata": {},
   "outputs": [
    {
     "name": "stdout",
     "output_type": "stream",
     "text": [
      "optional-spec->definition\n"
     ]
    },
    {
     "data": {
      "text/plain": [
       "Symbol(\"optional-spec->definition\")"
      ]
     },
     "execution_count": 206,
     "metadata": {},
     "output_type": "execute_result"
    }
   ],
   "source": [
    "# TODO: boostrap\n",
    "read_eval_print(\"\"\"\n",
    "(define optional-spec->definition\n",
    "    (lambda args\n",
    "        (begin\n",
    "            (define spec (first args))\n",
    "            (define spec-name (first spec))\n",
    "            (define spec-default (second spec))\n",
    "            (define arguments (first (rest args)))\n",
    "            (list 'if (list 'pair? arguments) \n",
    "                      (list 'define spec-name (list 'pop! arguments))\n",
    "                      (list 'define spec-name spec-default)))))\"\"\")"
   ]
  },
  {
   "cell_type": "code",
   "execution_count": 207,
   "id": "1081d85a-2a0d-4fbd-af82-6e5d66c481c8",
   "metadata": {},
   "outputs": [
    {
     "name": "stdout",
     "output_type": "stream",
     "text": [
      "(if (pair? <argument>) (define optional-c (pop! <argument>)) (define optional-c 'default-value))\n"
     ]
    }
   ],
   "source": [
    "# TODO: boostrap\n",
    "read_eval_print(\"\"\"(optional-spec->definition '(optional-c 'default-value) '<argument>)\"\"\")\n",
    "None"
   ]
  },
  {
   "cell_type": "code",
   "execution_count": 208,
   "id": "77f08d32-8aa8-44c3-93fd-f0f68bfab650",
   "metadata": {},
   "outputs": [
    {
     "name": "stdout",
     "output_type": "stream",
     "text": [
      "rest-spec->definition\n"
     ]
    },
    {
     "data": {
      "text/plain": [
       "Symbol(\"rest-spec->definition\")"
      ]
     },
     "execution_count": 208,
     "metadata": {},
     "output_type": "execute_result"
    }
   ],
   "source": [
    "# TODO: boostrap\n",
    "read_eval_print(\"\"\"\n",
    "(define rest-spec->definition\n",
    "    (lambda args\n",
    "        (begin\n",
    "            (define spec (first args))\n",
    "            (define arguments (first (rest args)))\n",
    "            (list 'define spec arguments))))\"\"\")"
   ]
  },
  {
   "cell_type": "code",
   "execution_count": 209,
   "id": "8878a092-aa05-44c3-8587-77d81403c1f6",
   "metadata": {},
   "outputs": [
    {
     "name": "stdout",
     "output_type": "stream",
     "text": [
      "(define rest <argument>)\n"
     ]
    }
   ],
   "source": [
    "read_eval_print(\"\"\"(rest-spec->definition 'rest '<argument>)\"\"\")\n",
    "None"
   ]
  },
  {
   "cell_type": "code",
   "execution_count": 210,
   "id": "00f7b4c0-5a59-40e5-af10-af738a89f58e",
   "metadata": {},
   "outputs": [
    {
     "name": "stdout",
     "output_type": "stream",
     "text": [
      "parameter-spec->definition\n"
     ]
    },
    {
     "data": {
      "text/plain": [
       "Symbol(\"parameter-spec->definition\")"
      ]
     },
     "execution_count": 210,
     "metadata": {},
     "output_type": "execute_result"
    }
   ],
   "source": [
    "# TODO: boostrap\n",
    "read_eval_print(\"\"\"\n",
    "(define parameter-spec->definition\n",
    "    (lambda args\n",
    "        (begin\n",
    "            (define spec (first args))\n",
    "            (define arguments (first (rest args)))\n",
    "            (if (pair? spec)\n",
    "                (optional-spec->definition spec arguments)\n",
    "                (positional-spec->definition spec arguments)))))\"\"\")"
   ]
  },
  {
   "cell_type": "code",
   "execution_count": 211,
   "id": "40c2e0c5-3d22-4602-a584-86e2a8f729ac",
   "metadata": {},
   "outputs": [
    {
     "name": "stdout",
     "output_type": "stream",
     "text": [
      "(if (pair? <argument>) (define a (pop! <argument>)) (missing-positional-argument-error 'a))\n"
     ]
    }
   ],
   "source": [
    "read_eval_print(\"\"\"(parameter-spec->definition 'a '<argument>)\"\"\")\n",
    "None"
   ]
  },
  {
   "cell_type": "code",
   "execution_count": 212,
   "id": "11702b87-c4c4-4d18-86bc-b702d9a8d828",
   "metadata": {},
   "outputs": [
    {
     "name": "stdout",
     "output_type": "stream",
     "text": [
      "(if (pair? <argument>) (define optional-c (pop! <argument>)) (define optional-c 'default-c))\n"
     ]
    }
   ],
   "source": [
    "read_eval_print(\"\"\"(parameter-spec->definition '(optional-c 'default-c) '<argument>)\"\"\")\n",
    "None"
   ]
  },
  {
   "cell_type": "code",
   "execution_count": 213,
   "id": "ce965d3b-3c22-42b9-94f3-69484a08449c",
   "metadata": {},
   "outputs": [
    {
     "name": "stdout",
     "output_type": "stream",
     "text": [
      "parameter-specs->definitions\n"
     ]
    },
    {
     "data": {
      "text/plain": [
       "Symbol(\"parameter-specs->definitions\")"
      ]
     },
     "execution_count": 213,
     "metadata": {},
     "output_type": "execute_result"
    }
   ],
   "source": [
    "# TODO: boostrap\n",
    "read_eval_print(\"\"\"\n",
    "(define parameter-specs->definitions\n",
    "    (lambda args\n",
    "        (begin\n",
    "            (define parameters (first args))\n",
    "            (define arguments (first (rest args)))\n",
    "            (if (pair? parameters) \n",
    "                (cons (parameter-spec->definition (first parameters) arguments)\n",
    "                      (parameter-specs->definitions (rest parameters) arguments))\n",
    "                (if (empty? parameters)\n",
    "                    ()\n",
    "                    (list (rest-spec->definition parameters arguments)))))))\"\"\")"
   ]
  },
  {
   "cell_type": "code",
   "execution_count": 214,
   "id": "885ea54d-5213-42f5-8ad3-f3804016797c",
   "metadata": {},
   "outputs": [
    {
     "name": "stdout",
     "output_type": "stream",
     "text": [
      "parameter-specs->definition\n"
     ]
    },
    {
     "data": {
      "text/plain": [
       "Symbol(\"parameter-specs->definition\")"
      ]
     },
     "execution_count": 214,
     "metadata": {},
     "output_type": "execute_result"
    }
   ],
   "source": [
    "# TODO: boostrap\n",
    "read_eval_print(\"\"\"\n",
    "(define parameter-specs->definition\n",
    "    (lambda args\n",
    "        (begin\n",
    "            (define parameters (first args))\n",
    "            (define arguments (first (rest args)))\n",
    "            (cons 'begin (parameter-specs->definitions parameters arguments)))))\"\"\")"
   ]
  },
  {
   "cell_type": "code",
   "execution_count": 215,
   "id": "f7931ec0-3991-4802-b647-8cb24fc846f0",
   "metadata": {},
   "outputs": [
    {
     "name": "stdout",
     "output_type": "stream",
     "text": [
      "(begin (if (pair? argument) (define a (pop! argument)) (missing-positional-argument-error 'a)) (if (pair? argument) (define b (pop! argument)) (missing-positional-argument-error 'b)) (if (pair? argument) (define optional-c (pop! argument)) (define optional-c \\#f)) (define rest argument))\n"
     ]
    }
   ],
   "source": [
    "read_eval_print(\"\"\"(parameter-specs->definition '(a b (optional-c #f) . rest) 'argument)\"\"\")\n",
    "None"
   ]
  },
  {
   "cell_type": "code",
   "execution_count": 216,
   "id": "b3fe853c-0c05-4eac-9859-416c9899e07b",
   "metadata": {},
   "outputs": [
    {
     "name": "stdout",
     "output_type": "stream",
     "text": [
      "fn\n",
      "<__main__.MacroProcedure object at 0x0000029867A89D30>\n"
     ]
    },
    {
     "data": {
      "text/plain": [
       "<__main__.MacroProcedure at 0x29867a89d30>"
      ]
     },
     "execution_count": 216,
     "metadata": {},
     "output_type": "execute_result"
    }
   ],
   "source": [
    "# TODO: boostrap\n",
    "read_eval_print(\"\"\"\n",
    "(define fn\n",
    "    (macro-lambda args\n",
    "        (begin\n",
    "            (define parameter-specs (first args))\n",
    "            (define body (rest args))\n",
    "            (define <arguments> (make-symbol \"arguments\"))\n",
    "            (list 'lambda <arguments> (cons 'begin (cons (parameter-specs->definition parameter-specs <arguments>) body))))))\"\"\")\n",
    "read_eval_print(\"\"\"fn\"\"\")"
   ]
  },
  {
   "cell_type": "code",
   "execution_count": 217,
   "id": "eb46f94e-e74a-482a-a947-c39d52582171",
   "metadata": {},
   "outputs": [
    {
     "name": "stdout",
     "output_type": "stream",
     "text": [
      "make-symbol\n"
     ]
    },
    {
     "data": {
      "text/plain": [
       "Symbol(\"make-symbol\")"
      ]
     },
     "execution_count": 217,
     "metadata": {},
     "output_type": "execute_result"
    }
   ],
   "source": [
    "# TODO: boostrap\n",
    "read_eval_print(\"\"\"(define make-symbol (eval-python \"Symbol\"))\"\"\")"
   ]
  },
  {
   "cell_type": "code",
   "execution_count": 218,
   "id": "37b852b4-7252-4d52-bc3d-e85a0f782686",
   "metadata": {},
   "outputs": [
    {
     "name": "stdout",
     "output_type": "stream",
     "text": [
      "pop!\n"
     ]
    },
    {
     "data": {
      "text/plain": [
       "Symbol(\"pop!\")"
      ]
     },
     "execution_count": 218,
     "metadata": {},
     "output_type": "execute_result"
    }
   ],
   "source": [
    "# TODO: boostrap\n",
    "read_eval_print(\"\"\"\n",
    "(define pop!\n",
    "    (macro-lambda args\n",
    "        (begin\n",
    "            (define stack (first args))\n",
    "            (list 'apply \n",
    "                (list 'lambda 'value\n",
    "                    (list 'begin \n",
    "                        (list 'set! stack (list 'rest stack))\n",
    "                        'value))\n",
    "                (list 'first stack)))))\"\"\")"
   ]
  },
  {
   "cell_type": "code",
   "execution_count": 219,
   "id": "85388ee3-67e4-456a-92ba-6a5019dd096b",
   "metadata": {},
   "outputs": [
    {
     "name": "stdout",
     "output_type": "stream",
     "text": [
      "(apply (lambda value (begin (set! stack (rest stack)) value)) (first stack))\n"
     ]
    }
   ],
   "source": [
    "read_eval_print(\"\"\"(apply pop! '(stack))\"\"\")\n",
    "None"
   ]
  },
  {
   "cell_type": "code",
   "execution_count": 220,
   "id": "aab02ce3-eae3-4d66-b0bc-f8617293e12c",
   "metadata": {},
   "outputs": [
    {
     "data": {
      "text/plain": [
       "\"(lambda arguments (begin (begin (if (pair? arguments) (define a (apply (lambda value (begin (set! arguments (rest arguments)) value)) (first arguments))) (missing-positional-argument-error 'a)) (if (pair? arguments) (define b (apply (lambda value (begin (set! arguments (rest arguments)) value)) (first arguments))) (missing-positional-argument-error 'b)) (if (pair? arguments) (define c (apply (lambda value (begin (set! arguments (rest arguments)) value)) (first arguments))) (define c \\\\#f)) (define rest arguments)) (list 'a a 'b b 'c c 'rest rest)))\""
      ]
     },
     "execution_count": 220,
     "metadata": {},
     "output_type": "execute_result"
    }
   ],
   "source": [
    "lisp_string(expand(read_from_string(\"\"\"(fn (a b (c #f) . rest) (list 'a a 'b b 'c c 'rest rest))\"\"\"), global_environment))"
   ]
  },
  {
   "cell_type": "code",
   "execution_count": 221,
   "id": "b6445203-479f-4577-a8f2-d5f8db0f6826",
   "metadata": {},
   "outputs": [
    {
     "name": "stdout",
     "output_type": "stream",
     "text": [
      "test-fn\n",
      "(a 1 b 2 c #f rest ())\n",
      "(a 1 b 2 c 3 rest (4 5 6))\n"
     ]
    }
   ],
   "source": [
    "read_eval_print(\"\"\"(define test-fn (fn (a b (c #f) . rest) (list 'a a 'b b 'c c 'rest rest)))\"\"\")\n",
    "read_eval_print(\"\"\"(test-fn 1 2)\"\"\")\n",
    "read_eval_print(\"\"\"(test-fn 1 2 3 4 5 6)\"\"\")\n",
    "None"
   ]
  },
  {
   "cell_type": "code",
   "execution_count": 222,
   "id": "ee95dd9e-44f6-432c-ace6-06f816370502",
   "metadata": {},
   "outputs": [
    {
     "name": "stdout",
     "output_type": "stream",
     "text": [
      "missing-positional-argument-error\n"
     ]
    },
    {
     "data": {
      "text/plain": [
       "Symbol(\"missing-positional-argument-error\")"
      ]
     },
     "execution_count": 222,
     "metadata": {},
     "output_type": "execute_result"
    }
   ],
   "source": [
    "read_eval_print(\"\"\"(define missing-positional-argument-error (fn (argument-name) (error (+ \"Argument missing: \" (symbol-name argument-name)))))\"\"\")"
   ]
  },
  {
   "cell_type": "code",
   "execution_count": 223,
   "id": "1208a892-21ba-4dd1-a93d-7a13a8bd651f",
   "metadata": {},
   "outputs": [
    {
     "name": "stdout",
     "output_type": "stream",
     "text": [
      "symbol-name\n"
     ]
    },
    {
     "data": {
      "text/plain": [
       "Symbol(\"symbol-name\")"
      ]
     },
     "execution_count": 223,
     "metadata": {},
     "output_type": "execute_result"
    }
   ],
   "source": [
    "# TODO: boostrap\n",
    "read_eval_print(\"\"\"(define symbol-name (eval-python \"op.attrgetter('name')\"))\"\"\")"
   ]
  },
  {
   "cell_type": "code",
   "execution_count": 224,
   "id": "538e701a-5eb3-4f5c-b6aa-06d61b4e68e1",
   "metadata": {},
   "outputs": [
    {
     "name": "stdout",
     "output_type": "stream",
     "text": [
      "list*\n"
     ]
    },
    {
     "data": {
      "text/plain": [
       "Symbol(\"list*\")"
      ]
     },
     "execution_count": 224,
     "metadata": {},
     "output_type": "execute_result"
    }
   ],
   "source": [
    "# TODO: boostrap\n",
    "read_eval_print(\"\"\"\n",
    "(define list*\n",
    "    (fn (arg . args)\n",
    "        (if (empty? args)\n",
    "            arg\n",
    "            (cons arg (apply list* args)))))\n",
    "\"\"\")"
   ]
  },
  {
   "cell_type": "code",
   "execution_count": 225,
   "id": "c79f346d-9246-4581-ac96-848375bdb531",
   "metadata": {},
   "outputs": [
    {
     "name": "stdout",
     "output_type": "stream",
     "text": [
      "(1 2 3 4 5 6)\n"
     ]
    },
    {
     "data": {
      "text/plain": [
       "Pair(1, Pair(2, Pair(3, Pair(4, Pair(5, Pair(6, EmptyList()))))))"
      ]
     },
     "execution_count": 225,
     "metadata": {},
     "output_type": "execute_result"
    }
   ],
   "source": [
    "read_eval_print(\"\"\"(list* 1 2 3 (list 4 5 6))\"\"\")"
   ]
  },
  {
   "cell_type": "code",
   "execution_count": 226,
   "id": "7ec8eb02-1b3c-464c-85ef-270e8faf88d5",
   "metadata": {},
   "outputs": [
    {
     "name": "stdout",
     "output_type": "stream",
     "text": [
      "cond->if\n"
     ]
    },
    {
     "data": {
      "text/plain": [
       "Symbol(\"cond->if\")"
      ]
     },
     "execution_count": 226,
     "metadata": {},
     "output_type": "execute_result"
    }
   ],
   "source": [
    "# TODO: boostrap\n",
    "read_eval_print(\"\"\"\n",
    "(define cond->if\n",
    "    (fn (cond-specs)\n",
    "        (if (pair? cond-specs)\n",
    "            (cond-spec->if (first cond-specs) (rest cond-specs))\n",
    "            #f)))\n",
    "\"\"\")"
   ]
  },
  {
   "cell_type": "code",
   "execution_count": 227,
   "id": "84f502da-f6d7-41f9-ae27-48d97c1d6305",
   "metadata": {},
   "outputs": [
    {
     "name": "stdout",
     "output_type": "stream",
     "text": [
      "cond-spec->if\n"
     ]
    },
    {
     "data": {
      "text/plain": [
       "Symbol(\"cond-spec->if\")"
      ]
     },
     "execution_count": 227,
     "metadata": {},
     "output_type": "execute_result"
    }
   ],
   "source": [
    "# TODO: boostra\n",
    "read_eval_print(\"\"\"\n",
    "(define cond-spec->if\n",
    "    (fn (cond-spec cond-specs)\n",
    "        (list 'if (first cond-spec)\n",
    "                  (cons 'begin (rest cond-spec))\n",
    "                  (cond->if cond-specs))))\"\"\")"
   ]
  },
  {
   "cell_type": "code",
   "execution_count": 228,
   "id": "830c0995-ff44-496f-a7b9-64ff167f7f04",
   "metadata": {},
   "outputs": [
    {
     "name": "stdout",
     "output_type": "stream",
     "text": [
      "(if (pair? a) (begin (first a)) (if (number? a) (begin (print a) (+ a 2)) (if \\#t (begin \"default case\") #f)))\n"
     ]
    }
   ],
   "source": [
    "read_eval_print(\"\"\"\n",
    "(cond->if\n",
    "    '(((pair? a) (first a))\n",
    "      ((number? a) (print a) (+ a 2))\n",
    "      (#t \"default case\")))\n",
    "\"\"\")\n",
    "None"
   ]
  },
  {
   "cell_type": "code",
   "execution_count": 229,
   "id": "11f42e8e-4c59-4e39-8ffe-71319d9b0b9b",
   "metadata": {},
   "outputs": [
    {
     "name": "stdout",
     "output_type": "stream",
     "text": [
      "cond\n"
     ]
    },
    {
     "data": {
      "text/plain": [
       "Symbol(\"cond\")"
      ]
     },
     "execution_count": 229,
     "metadata": {},
     "output_type": "execute_result"
    }
   ],
   "source": [
    "# TODO: boostrap\n",
    "read_eval_print(\"\"\"(define cond (macro-lambda cond-specs (cond->if cond-specs)))\"\"\")"
   ]
  },
  {
   "cell_type": "code",
   "execution_count": 230,
   "id": "5dcc62e7-3599-49f1-b107-58d9cd6f6871",
   "metadata": {},
   "outputs": [
    {
     "name": "stdout",
     "output_type": "stream",
     "text": [
      "test-cond\n"
     ]
    },
    {
     "data": {
      "text/plain": [
       "Symbol(\"test-cond\")"
      ]
     },
     "execution_count": 230,
     "metadata": {},
     "output_type": "execute_result"
    }
   ],
   "source": [
    "read_eval_print(\"\"\"\n",
    "(define test-cond\n",
    "    (fn (object)\n",
    "        (cond \n",
    "            ((pair? object) (list (first object) \"It's a pair!\"))\n",
    "            ((integer? object) (list (+ object 1) \"Behold! it's an integer\"))\n",
    "            ((complex? object) (list (* object 1j) \"It is very complicated.\"))\n",
    "            ((empty? object) (list object \"The glass is 0% full.\"))\n",
    "            (#t (list object \"What is this garbage?\"))))))\n",
    "\"\"\")"
   ]
  },
  {
   "cell_type": "code",
   "execution_count": 231,
   "id": "fe941f2d-c535-4acf-b466-154a22cce078",
   "metadata": {},
   "outputs": [
    {
     "name": "stdout",
     "output_type": "stream",
     "text": [
      "(1 \"It's a pair!\")\n",
      "(() \"The glass is 0% full.\")\n",
      "(3.14159 \"What is this garbage?\")\n",
      "(4 \"Behold! it's an integer\")\n"
     ]
    }
   ],
   "source": [
    "read_eval_print(\"\"\"(test-cond (cons 1 2))\"\"\")\n",
    "read_eval_print(\"\"\"(test-cond ())\"\"\")\n",
    "read_eval_print(\"\"\"(test-cond 3.14159)\"\"\")\n",
    "read_eval_print(\"\"\"(test-cond 3)\"\"\")\n",
    "None"
   ]
  },
  {
   "cell_type": "code",
   "execution_count": 232,
   "id": "7937e050-adda-45ef-93e2-a67dc37f616a",
   "metadata": {},
   "outputs": [
    {
     "name": "stdout",
     "output_type": "stream",
     "text": [
      "let->lambda\n"
     ]
    },
    {
     "data": {
      "text/plain": [
       "Symbol(\"let->lambda\")"
      ]
     },
     "execution_count": 232,
     "metadata": {},
     "output_type": "execute_result"
    }
   ],
   "source": [
    "# TODO: boostrap\n",
    "\n",
    "read_eval_print(\"\"\"\n",
    "(define let->lambda\n",
    "    (fn (bindings body)\n",
    "        (list* (list* 'fn (map first bindings)\n",
    "                    body)\n",
    "              (map second bindings))))\n",
    "\"\"\")"
   ]
  },
  {
   "cell_type": "code",
   "execution_count": 233,
   "id": "31617cc1-d8ad-4f03-a7d1-6d3a1b2cbe8b",
   "metadata": {},
   "outputs": [
    {
     "name": "stdout",
     "output_type": "stream",
     "text": [
      "map\n"
     ]
    },
    {
     "data": {
      "text/plain": [
       "Symbol(\"map\")"
      ]
     },
     "execution_count": 233,
     "metadata": {},
     "output_type": "execute_result"
    }
   ],
   "source": [
    "# TODO: boostrap\n",
    "\n",
    "read_eval_print(\"\"\"\n",
    "(define map\n",
    "    (fn (f list)\n",
    "        (if (pair? list)\n",
    "            (cons (f (first list)) (map f (rest list)))\n",
    "            ())))\"\"\")"
   ]
  },
  {
   "cell_type": "code",
   "execution_count": 234,
   "id": "f2b85c65-48e3-4d62-9dbd-e4eff009e9ae",
   "metadata": {},
   "outputs": [
    {
     "name": "stdout",
     "output_type": "stream",
     "text": [
      "(2 3 4)\n"
     ]
    }
   ],
   "source": [
    "read_eval_print(\"\"\"(map (fn (x) (+ x 1)) '(1 2 3))\"\"\")\n",
    "None"
   ]
  },
  {
   "cell_type": "code",
   "execution_count": 235,
   "id": "7cafaef3-b5d5-488f-9c1f-db72123df700",
   "metadata": {},
   "outputs": [
    {
     "name": "stdout",
     "output_type": "stream",
     "text": [
      "((fn (a b c) (define d 'd) (list a b c d)) 1 2 'c)\n"
     ]
    }
   ],
   "source": [
    "read_eval_print(\"\"\"(let->lambda '((a 1) (b 2) (c 'c)) '((define d 'd) (list a b c d)))\"\"\")\n",
    "None"
   ]
  },
  {
   "cell_type": "code",
   "execution_count": 236,
   "id": "8f733ff7-47e9-494e-bc26-855e3a4e3702",
   "metadata": {},
   "outputs": [
    {
     "name": "stdout",
     "output_type": "stream",
     "text": [
      "(1 2 c d)\n"
     ]
    }
   ],
   "source": [
    "read_eval_print(\"\"\"((fn (a b c) (define d 'd) (list a b c d)) 1 2 'c)\"\"\")\n",
    "None"
   ]
  },
  {
   "cell_type": "code",
   "execution_count": 237,
   "id": "36690697-eca3-44e9-b050-b75f84bd041c",
   "metadata": {},
   "outputs": [
    {
     "name": "stdout",
     "output_type": "stream",
     "text": [
      "let\n"
     ]
    },
    {
     "data": {
      "text/plain": [
       "Symbol(\"let\")"
      ]
     },
     "execution_count": 237,
     "metadata": {},
     "output_type": "execute_result"
    }
   ],
   "source": [
    "read_eval_print(\"\"\"(define let (macro-lambda arguments (let->lambda (first arguments) (rest arguments))))\"\"\")"
   ]
  },
  {
   "cell_type": "code",
   "execution_count": 238,
   "id": "d523e757-6e72-4f9a-be53-86b394454cc1",
   "metadata": {},
   "outputs": [
    {
     "name": "stdout",
     "output_type": "stream",
     "text": [
      "(1 2 3 4)\n"
     ]
    }
   ],
   "source": [
    "read_eval_print(\"\"\"\n",
    "(let ((a 1)\n",
    "      (b 2)\n",
    "      (c 3))\n",
    "  (define d 4)\n",
    "  (list a b c d))\"\"\")\n",
    "None"
   ]
  },
  {
   "cell_type": "code",
   "execution_count": 239,
   "id": "eaa02605-e1f6-456f-926b-14c5324d30a9",
   "metadata": {},
   "outputs": [
    {
     "name": "stdout",
     "output_type": "stream",
     "text": [
      "reverse\n"
     ]
    },
    {
     "data": {
      "text/plain": [
       "Symbol(\"reverse\")"
      ]
     },
     "execution_count": 239,
     "metadata": {},
     "output_type": "execute_result"
    }
   ],
   "source": [
    "# TODO: boostrap\n",
    "\n",
    "read_eval_print(\"\"\"\n",
    "(define reverse\n",
    "    (let ((reverse-iter #f))\n",
    "        (set! reverse-iter\n",
    "            (fn (list result)\n",
    "                (if (empty? list)\n",
    "                    result\n",
    "                    (reverse-iter (rest list) (cons (first list) result)))))\n",
    "        (fn (list) (reverse-iter list ()))))\n",
    "\"\"\")"
   ]
  },
  {
   "cell_type": "code",
   "execution_count": 240,
   "id": "94309494-96f6-4685-932c-cfaa83fd19f2",
   "metadata": {},
   "outputs": [
    {
     "name": "stdout",
     "output_type": "stream",
     "text": [
      "map\n"
     ]
    },
    {
     "data": {
      "text/plain": [
       "Symbol(\"map\")"
      ]
     },
     "execution_count": 240,
     "metadata": {},
     "output_type": "execute_result"
    }
   ],
   "source": [
    "# TODO: boostrap\n",
    "\n",
    "read_eval_print(\"\"\"(begin\n",
    "(define map-reverse\n",
    "    (let ((map-reverse-iter #f))\n",
    "        (set! map-reverse-iter\n",
    "            (fn (f list result)\n",
    "                (if (pair? list)\n",
    "                    (map-reverse-iter f (rest list) (cons (f (first list)) result))\n",
    "                    result)))\n",
    "        (fn (f list) (map-reverse-iter f list ()))))\n",
    "(define map (fn (f list) (reverse (map-reverse f list)))))\n",
    "\"\"\")"
   ]
  },
  {
   "cell_type": "code",
   "execution_count": 241,
   "id": "59d0557b-9ddd-4281-8a97-1b224e889862",
   "metadata": {},
   "outputs": [
    {
     "name": "stdout",
     "output_type": "stream",
     "text": [
      "(2 3 4)\n"
     ]
    },
    {
     "data": {
      "text/plain": [
       "Pair(2, Pair(3, Pair(4, EmptyList())))"
      ]
     },
     "execution_count": 241,
     "metadata": {},
     "output_type": "execute_result"
    }
   ],
   "source": [
    "read_eval_print(\"\"\"(map (fn (x) (+ x 1)) '(1 2 3))\"\"\")"
   ]
  },
  {
   "cell_type": "code",
   "execution_count": 242,
   "id": "405a52e2-95d0-4002-a844-38b992cdccdf",
   "metadata": {},
   "outputs": [
    {
     "name": "stdout",
     "output_type": "stream",
     "text": [
      "and->if\n"
     ]
    },
    {
     "data": {
      "text/plain": [
       "Symbol(\"and->if\")"
      ]
     },
     "execution_count": 242,
     "metadata": {},
     "output_type": "execute_result"
    }
   ],
   "source": [
    "# TODO: boostrap\n",
    "\n",
    "read_eval_print(\"\"\"\n",
    "(define and->if\n",
    "    (fn (arguments)\n",
    "        (if (pair? arguments) \n",
    "            (if (empty? (rest arguments))\n",
    "                (first arguments)\n",
    "                (list 'if (first arguments) \n",
    "                          (and->if (rest arguments))\n",
    "                          #f))\n",
    "            #f)))\n",
    "\"\"\")"
   ]
  },
  {
   "cell_type": "code",
   "execution_count": 243,
   "id": "28f73b7e-aac0-4f78-a361-7d893188165f",
   "metadata": {},
   "outputs": [
    {
     "name": "stdout",
     "output_type": "stream",
     "text": [
      "(if a (if b (if c d #f) #f) #f)\n",
      "#f\n",
      "v\n"
     ]
    },
    {
     "data": {
      "text/plain": [
       "Symbol(\"v\")"
      ]
     },
     "execution_count": 243,
     "metadata": {},
     "output_type": "execute_result"
    }
   ],
   "source": [
    "read_eval_print(\"\"\"(and->if '(a b c d))\"\"\") # (if a (and b c d) #f)\n",
    "read_eval_print(\"\"\"(and->if '())\"\"\") # #f\n",
    "read_eval_print(\"\"\"(and->if '(v))\"\"\") # v"
   ]
  },
  {
   "cell_type": "code",
   "execution_count": 244,
   "id": "80669447-5540-462c-8915-47780996f63b",
   "metadata": {},
   "outputs": [
    {
     "name": "stdout",
     "output_type": "stream",
     "text": [
      "and\n"
     ]
    },
    {
     "data": {
      "text/plain": [
       "Symbol(\"and\")"
      ]
     },
     "execution_count": 244,
     "metadata": {},
     "output_type": "execute_result"
    }
   ],
   "source": [
    "# TODO: boostrap\n",
    "\n",
    "read_eval_print(\"\"\"(define and (macro-lambda arguments (and->if arguments)))\"\"\")"
   ]
  },
  {
   "cell_type": "code",
   "execution_count": 245,
   "id": "c420cdb5-f032-40aa-8f78-3fdda2e9067b",
   "metadata": {},
   "outputs": [
    {
     "name": "stdout",
     "output_type": "stream",
     "text": [
      "quasiquote->list\n"
     ]
    },
    {
     "data": {
      "text/plain": [
       "Symbol(\"quasiquote->list\")"
      ]
     },
     "execution_count": 245,
     "metadata": {},
     "output_type": "execute_result"
    }
   ],
   "source": [
    "read_eval_print(\"\"\"\n",
    "(define quasiquote->list\n",
    "    (fn (arg)\n",
    "        (cond\n",
    "            ((pair? arg)\n",
    "             (cond\n",
    "                 ((eq? (first arg) 'quasiquote-unquote) (second arg))\n",
    "                 ((and (pair? (first arg)) (eq? (first (first arg)) 'quasiquote-unquote-splice))\n",
    "                  (list 'append (second (first arg)) (quasiquote->list (rest arg))))\n",
    "                 (#t (list 'cons (quasiquote->list (first arg)) (quasiquote->list (rest arg))))))\n",
    "            (#t (list 'quote arg)))))\n",
    "\"\"\")"
   ]
  },
  {
   "cell_type": "code",
   "execution_count": 246,
   "id": "ec8aca11-579d-4869-bffb-fc9b5510d6ad",
   "metadata": {},
   "outputs": [
    {
     "name": "stdout",
     "output_type": "stream",
     "text": [
      "'a\n",
      "(list 'a)\n",
      "(cons 'a (cons 'b (cons 'c (append (list 1 2 3) '()))))\n"
     ]
    }
   ],
   "source": [
    "read_eval_print(\"\"\"(quasiquote->list 'a)\"\"\") # 'a\n",
    "read_eval_print(\"\"\"(quasiquote->list '(quasiquote-unquote (list 'a)))\"\"\") # (a)\n",
    "read_eval_print(\"\"\"(quasiquote->list '(a b c (quasiquote-unquote-splice (list 1 2 3)) . ()))\"\"\") # (a b c 1 2 3)\n",
    "None"
   ]
  },
  {
   "cell_type": "code",
   "execution_count": 247,
   "id": "c5f9afd4-3c6b-4ead-aa36-f82a250976dc",
   "metadata": {},
   "outputs": [
    {
     "name": "stdout",
     "output_type": "stream",
     "text": [
      "quasiquote\n"
     ]
    },
    {
     "data": {
      "text/plain": [
       "Symbol(\"quasiquote\")"
      ]
     },
     "execution_count": 247,
     "metadata": {},
     "output_type": "execute_result"
    }
   ],
   "source": [
    "read_eval_print(\"\"\"(define quasiquote (macro-lambda args (quasiquote->list (first args))))\"\"\")"
   ]
  },
  {
   "cell_type": "code",
   "execution_count": 248,
   "id": "920b72c1-e54a-4728-b17a-3b710efc47e3",
   "metadata": {},
   "outputs": [
    {
     "name": "stdout",
     "output_type": "stream",
     "text": [
      "a\n",
      "(a)\n",
      "(a b c 1 2 3)\n"
     ]
    }
   ],
   "source": [
    "read_eval_print(\"\"\"(quasiquote a)\"\"\") # a\n",
    "read_eval_print(\"\"\"(quasiquote (quasiquote-unquote (list 'a)))\"\"\") # (a)\n",
    "read_eval_print(\"\"\"(quasiquote (a b c (quasiquote-unquote-splice (list 1 2 3)) . ()))\"\"\") # (a b c 1 2 3)\n",
    "None"
   ]
  },
  {
   "cell_type": "code",
   "execution_count": 249,
   "id": "2ec2b2f0-de7f-4595-8764-7bafa6b93996",
   "metadata": {},
   "outputs": [],
   "source": [
    "register_lisp_delimiting_token(\"`\")\n",
    "lisp_token_table[\"`\"] = lambda stream: tag_expression('quasiquote', read(stream))\n",
    "register_lisp_delimiting_token(\",\")\n",
    "lisp_token_table[\",\"] = lambda stream: tag_expression('quasiquote-unquote', read(stream))\n",
    "register_lisp_delimiting_token(\",@\")\n",
    "lisp_token_table[\",@\"] = lambda stream: tag_expression('quasiquote-unquote-splice', read(stream))"
   ]
  },
  {
   "cell_type": "code",
   "execution_count": 250,
   "id": "9ceb3475-2893-415f-9463-05370796b264",
   "metadata": {},
   "outputs": [],
   "source": [
    "def tag_expression(symbol_name, expression):\n",
    "    return python_list_to_lisp_list([intern_symbol(symbol_name), expression])"
   ]
  },
  {
   "cell_type": "code",
   "execution_count": 251,
   "id": "ef70a82a-6af6-480a-bf08-2599ae971b43",
   "metadata": {},
   "outputs": [
    {
     "name": "stdout",
     "output_type": "stream",
     "text": [
      "a\n",
      "(a)\n",
      "(a b c 1 2 3)\n"
     ]
    },
    {
     "data": {
      "text/plain": [
       "Pair(Symbol(\"a\"), Pair(Symbol(\"b\"), Pair(Symbol(\"c\"), Pair(1, Pair(2, Pair(3, EmptyList()))))))"
      ]
     },
     "execution_count": 251,
     "metadata": {},
     "output_type": "execute_result"
    }
   ],
   "source": [
    "read_eval_print(\"\"\" `a \"\"\") # 'a\n",
    "read_eval_print(\"\"\" `,(list 'a) \"\"\") # (a)\n",
    "read_eval_print(\"\"\" `(a b c ,@(list 1 2 3) . ()) \"\"\") # (a b c 1 2 3)"
   ]
  },
  {
   "cell_type": "code",
   "execution_count": 252,
   "id": "51d00ee2-c45c-4a2b-acc2-bef1c9596313",
   "metadata": {},
   "outputs": [
    {
     "name": "stdout",
     "output_type": "stream",
     "text": [
      "error\n"
     ]
    },
    {
     "data": {
      "text/plain": [
       "Symbol(\"error\")"
      ]
     },
     "execution_count": 252,
     "metadata": {},
     "output_type": "execute_result"
    }
   ],
   "source": [
    "read_eval_print(\"\"\"(define error (eval-python \"error\"))\"\"\")"
   ]
  },
  {
   "cell_type": "code",
   "execution_count": 253,
   "id": "c291c6c1-9544-4d97-84df-d360def65da3",
   "metadata": {},
   "outputs": [
    {
     "name": "stdout",
     "output_type": "stream",
     "text": [
      "quasiquote-unquote\n",
      "quasiquote-unquote-splice\n"
     ]
    },
    {
     "data": {
      "text/plain": [
       "Symbol(\"quasiquote-unquote-splice\")"
      ]
     },
     "execution_count": 253,
     "metadata": {},
     "output_type": "execute_result"
    }
   ],
   "source": [
    "read_eval_print(\"\"\"(define quasiquote-unquote (lambda _ (error \"quasiquote-unquote is invalid outside of a quasiquote form\")))\"\"\") \n",
    "read_eval_print(\"\"\"(define quasiquote-unquote-splice (lambda _ (error \"quasiquote-unquote-splice is invalid outside of a quasiquote form\")))\"\"\") "
   ]
  },
  {
   "cell_type": "code",
   "execution_count": 254,
   "id": "05531ddd-4dd8-4a67-a6ea-79fc0d5361e5",
   "metadata": {},
   "outputs": [
    {
     "name": "stdout",
     "output_type": "stream",
     "text": [
      "quasiquote-unquote is invalid outside of a quasiquote form\n"
     ]
    }
   ],
   "source": [
    "try: read_eval_print(\"\"\" ,\"hello\" \"\"\")\n",
    "except Exception as e: print(str(e))"
   ]
  },
  {
   "cell_type": "code",
   "execution_count": 255,
   "id": "a0b71fb3-d8f0-405d-9daa-ab0c2bb18646",
   "metadata": {},
   "outputs": [
    {
     "name": "stdout",
     "output_type": "stream",
     "text": [
      "or->if\n"
     ]
    },
    {
     "data": {
      "text/plain": [
       "Symbol(\"or->if\")"
      ]
     },
     "execution_count": 255,
     "metadata": {},
     "output_type": "execute_result"
    }
   ],
   "source": [
    "# TODO: boostrap\n",
    "\n",
    "read_eval_print(\"\"\"\n",
    "(define or->if\n",
    "    (fn (arguments)\n",
    "        (if (pair? arguments)\n",
    "            (if (empty? (rest arguments))\n",
    "                (first arguments)\n",
    "                (let ((<value> (make-symbol \"<value>\")))\n",
    "                    `(let ((,<value> ,(first arguments)))\n",
    "                        (if ,<value> \n",
    "                            ,<value>\n",
    "                            ,(or->if (rest arguments))))))\n",
    "            #t)))\n",
    "\"\"\")"
   ]
  },
  {
   "cell_type": "code",
   "execution_count": 256,
   "id": "eaa28e53-866a-489d-a448-da1f3873f705",
   "metadata": {},
   "outputs": [
    {
     "name": "stdout",
     "output_type": "stream",
     "text": [
      "#t\n",
      "a\n",
      "(let ((<value> a)) (if <value> <value> (let ((<value> b)) (if <value> <value> c))))\n"
     ]
    }
   ],
   "source": [
    "read_eval_print(\"\"\"(or->if '())\"\"\")\n",
    "read_eval_print(\"\"\"(or->if '(a))\"\"\")\n",
    "read_eval_print(\"\"\"(or->if '(a b c))\"\"\")\n",
    "None"
   ]
  },
  {
   "cell_type": "code",
   "execution_count": 257,
   "id": "ec65cdf6-69af-42bb-9f8b-005045de6747",
   "metadata": {},
   "outputs": [
    {
     "name": "stdout",
     "output_type": "stream",
     "text": [
      "or\n"
     ]
    },
    {
     "data": {
      "text/plain": [
       "Symbol(\"or\")"
      ]
     },
     "execution_count": 257,
     "metadata": {},
     "output_type": "execute_result"
    }
   ],
   "source": [
    "# TODO: boostrap\n",
    "\n",
    "read_eval_print(\"\"\"(define or (macro-lambda args (or->if args)))\"\"\")"
   ]
  },
  {
   "cell_type": "code",
   "execution_count": 258,
   "id": "22724316-5684-4b2e-b6d5-b584eebe84fa",
   "metadata": {},
   "outputs": [
    {
     "name": "stdout",
     "output_type": "stream",
     "text": [
      "2\n"
     ]
    },
    {
     "data": {
      "text/plain": [
       "2"
      ]
     },
     "execution_count": 258,
     "metadata": {},
     "output_type": "execute_result"
    }
   ],
   "source": [
    "read_eval_print(\"\"\"(or #f #f 2)\"\"\")"
   ]
  },
  {
   "cell_type": "code",
   "execution_count": 259,
   "id": "1d2412de-b43a-4b00-9bcd-b0043b39d76c",
   "metadata": {},
   "outputs": [
    {
     "name": "stdout",
     "output_type": "stream",
     "text": [
      "let*->let\n"
     ]
    },
    {
     "data": {
      "text/plain": [
       "Symbol(\"let*->let\")"
      ]
     },
     "execution_count": 259,
     "metadata": {},
     "output_type": "execute_result"
    }
   ],
   "source": [
    "# TODO: boostrap\n",
    "\n",
    "read_eval_print(\"\"\"\n",
    "(define let*->let\n",
    "    (fn (bindings body)\n",
    "        (cond\n",
    "            ((pair? bindings) `(let (,(first bindings)) ,(let*->let (rest bindings) body)))\n",
    "            (#t `(begin ,@body)))))\n",
    "\"\"\")"
   ]
  },
  {
   "cell_type": "code",
   "execution_count": 260,
   "id": "ea6b1946-0a67-4e5e-ad81-d54780f553dd",
   "metadata": {},
   "outputs": [
    {
     "name": "stdout",
     "output_type": "stream",
     "text": [
      "(let ((a 1)) (let ((b a)) (let ((c b)) (begin (list a b c)))))\n"
     ]
    }
   ],
   "source": [
    "read_eval_print(\"\"\"(let*->let '((a 1) (b a) (c b)) '((list a b c)))\"\"\")\n",
    "None"
   ]
  },
  {
   "cell_type": "code",
   "execution_count": 261,
   "id": "bbcdd826-195e-485b-82e9-5616ffba2afd",
   "metadata": {},
   "outputs": [
    {
     "name": "stdout",
     "output_type": "stream",
     "text": [
      "let*\n"
     ]
    },
    {
     "data": {
      "text/plain": [
       "Symbol(\"let*\")"
      ]
     },
     "execution_count": 261,
     "metadata": {},
     "output_type": "execute_result"
    }
   ],
   "source": [
    "# TODO: boostrap\n",
    "\n",
    "read_eval_print(\"\"\"\n",
    "(define let* (macro-lambda arguments (let*->let (first arguments) (rest arguments))))\n",
    "\"\"\")"
   ]
  },
  {
   "cell_type": "code",
   "execution_count": 262,
   "id": "38b948cf-5df9-4703-b6e6-7d1c6a11a1c6",
   "metadata": {},
   "outputs": [
    {
     "name": "stdout",
     "output_type": "stream",
     "text": [
      "(a 1 b 2 c 4)\n"
     ]
    }
   ],
   "source": [
    "read_eval_print(\"\"\"\n",
    "(let* ((a 1)\n",
    "       (b (+ a 1))\n",
    "       (c (* b 2)))\n",
    " (list 'a a 'b b 'c c))\n",
    "\"\"\")\n",
    "None"
   ]
  },
  {
   "cell_type": "code",
   "execution_count": 263,
   "id": "d9e19b3e-176d-4f7f-b2b5-bdcbe7ea6948",
   "metadata": {},
   "outputs": [
    {
     "name": "stdout",
     "output_type": "stream",
     "text": [
      "letrec-form\n"
     ]
    },
    {
     "data": {
      "text/plain": [
       "Symbol(\"letrec-form\")"
      ]
     },
     "execution_count": 263,
     "metadata": {},
     "output_type": "execute_result"
    }
   ],
   "source": [
    "# TODO: boostrap\n",
    "\n",
    "read_eval_print(\"\"\"\n",
    "(define letrec-form\n",
    "    (fn (bindings body)\n",
    "        `(let ,(map (fn (binding) `(,(first binding) #f)) bindings)\n",
    "            (begin\n",
    "              ,@(map (fn (binding) `(set! ,(first binding) ,(second binding))) bindings))\n",
    "              ,@body)))\n",
    "\"\"\")"
   ]
  },
  {
   "cell_type": "code",
   "execution_count": 264,
   "id": "8188ca41-3b0c-48cf-a05d-0808c31f845b",
   "metadata": {},
   "outputs": [
    {
     "name": "stdout",
     "output_type": "stream",
     "text": [
      "(let ((a \\#f) (b \\#f) (c \\#f)) (begin (set! a 1) (set! b (+ 2 a)) (set! c (* 3 b))) (list a b c))\n"
     ]
    }
   ],
   "source": [
    "read_eval_print(\"\"\"(letrec-form '((a 1) (b (+ 2 a)) (c (* 3 b))) '((list a b c)))\"\"\")\n",
    "None"
   ]
  },
  {
   "cell_type": "code",
   "execution_count": 265,
   "id": "9e4820ee-d70e-4742-9ddc-99fd5e811c18",
   "metadata": {},
   "outputs": [
    {
     "name": "stdout",
     "output_type": "stream",
     "text": [
      "letrec\n"
     ]
    },
    {
     "data": {
      "text/plain": [
       "Symbol(\"letrec\")"
      ]
     },
     "execution_count": 265,
     "metadata": {},
     "output_type": "execute_result"
    }
   ],
   "source": [
    "# TODO: boostrap\n",
    "\n",
    "read_eval_print(\"\"\"(define letrec (macro-lambda arguments (letrec-form (first arguments) (rest arguments))))\"\"\")"
   ]
  },
  {
   "cell_type": "code",
   "execution_count": 266,
   "id": "9555f9d0-265b-4cf5-8903-be0e8284b4d1",
   "metadata": {},
   "outputs": [
    {
     "name": "stdout",
     "output_type": "stream",
     "text": [
      "((lambda arguments (begin (begin (if (pair? arguments) (define is-even? (apply (lambda value (begin (set! arguments (rest arguments)) value)) (first arguments))) (missing-positional-argument-error 'is-even?)) (if (pair? arguments) (define is-odd? (apply (lambda value (begin (set! arguments (rest arguments)) value)) (first arguments))) (missing-positional-argument-error 'is-odd?))) (begin (set! is-even? (lambda arguments (begin (begin (if (pair? arguments) (define n (apply (lambda value (begin (set! arguments (rest arguments)) value)) (first arguments))) (missing-positional-argument-error 'n))) ((lambda arguments (begin (begin (if (pair? arguments) (define <value> (apply (lambda value (begin (set! arguments (rest arguments)) value)) (first arguments))) (missing-positional-argument-error '<value>))) (if <value> <value> (is-odd? (- n 1))))) (= 0 n))))) (set! is-odd? (lambda arguments (begin (begin (if (pair? arguments) (define n (apply (lambda value (begin (set! arguments (rest arguments)) value)) (first arguments))) (missing-positional-argument-error 'n))) (if (not (= 0 n)) (is-even? (- n 1)) #f))))) (is-odd? 10001))) \\#f \\#f)\n"
     ]
    }
   ],
   "source": [
    "test_expression = analyze(expand(read(StringStream(\"\"\"\n",
    "(letrec ((is-even? (fn (n)\n",
    "                     (or (= 0 n) (is-odd? (- n 1)))))\n",
    "         (is-odd? (fn (n)\n",
    "                    (and (not (= 0 n))\n",
    "                         (is-even? (- n 1))))))\n",
    "    (is-odd? 10001))\n",
    "\"\"\")), global_environment))\n",
    "print(lisp_string(test_expression.expression))"
   ]
  },
  {
   "cell_type": "code",
   "execution_count": 377,
   "id": "d0434e05-1acc-4b59-a0a2-2e497a217f60",
   "metadata": {},
   "outputs": [
    {
     "data": {
      "text/plain": [
       "True"
      ]
     },
     "execution_count": 377,
     "metadata": {},
     "output_type": "execute_result"
    }
   ],
   "source": [
    "lisp_eval(test_expression, global_environment)"
   ]
  },
  {
   "cell_type": "code",
   "execution_count": 370,
   "id": "a123841b-9c1b-4ab6-97a3-3c96cc795adb",
   "metadata": {},
   "outputs": [],
   "source": [
    "def lisp(string): return lisp_string(lisp_eval(python_list_to_lisp_list([intern_symbol('begin'), read_from_string(string)]), global_environment))"
   ]
  },
  {
   "cell_type": "code",
   "execution_count": 374,
   "id": "f701d62a-76bb-4d87-b9c2-9c91f74b52ab",
   "metadata": {},
   "outputs": [
    {
     "ename": "Exception",
     "evalue": "Symbol define-simplify-rule is unbound in the given environment",
     "output_type": "error",
     "traceback": [
      "\u001b[1;31m---------------------------------------------------------------------------\u001b[0m",
      "\u001b[1;31mException\u001b[0m                                 Traceback (most recent call last)",
      "Input \u001b[1;32mIn [374]\u001b[0m, in \u001b[0;36m<cell line: 1>\u001b[1;34m()\u001b[0m\n\u001b[1;32m----> 1\u001b[0m \u001b[43mlisp\u001b[49m\u001b[43m(\u001b[49m\u001b[38;5;124;43m\"\"\"\u001b[39;49m\n\u001b[0;32m      2\u001b[0m \u001b[38;5;124;43m(define-simplify-rule \u001b[39;49m\u001b[38;5;124;43m'\u001b[39;49m\u001b[38;5;124;43m(begin) #f)\u001b[39;49m\n\u001b[0;32m      3\u001b[0m \u001b[38;5;124;43m(define-simplify-rule \u001b[39;49m\u001b[38;5;124;43m'\u001b[39;49m\u001b[38;5;124;43m(begin (? a)) a)\u001b[39;49m\n\u001b[0;32m      4\u001b[0m \u001b[38;5;124;43m;; Eliminate constant expressions within begin\u001b[39;49m\n\u001b[0;32m      5\u001b[0m \u001b[38;5;124;43m(define-simplify-rule \u001b[39;49m\u001b[38;5;124;43m'\u001b[39;49m\u001b[38;5;124;43m(begin (?? before) (? c constant-expression?) (? a) (?? after))\u001b[39;49m\n\u001b[0;32m      6\u001b[0m \u001b[38;5;124;43m                      `(begin ,@before ,a ,@after))\u001b[39;49m\n\u001b[0;32m      7\u001b[0m \u001b[38;5;124;43m;; Lift inner begin forms to outer begin forms\u001b[39;49m\n\u001b[0;32m      8\u001b[0m \u001b[38;5;124;43m(define-simplify-rule \u001b[39;49m\u001b[38;5;124;43m'\u001b[39;49m\u001b[38;5;124;43m(begin (?? before) (begin (?? inside)) (?? after)) \u001b[39;49m\n\u001b[0;32m      9\u001b[0m \u001b[38;5;124;43m                      `(begin ,@before ,@inside ,@after))\u001b[39;49m\n\u001b[0;32m     10\u001b[0m \n\u001b[0;32m     11\u001b[0m \u001b[38;5;124;43m\"\"\"\u001b[39;49m\u001b[43m)\u001b[49m\n",
      "Input \u001b[1;32mIn [370]\u001b[0m, in \u001b[0;36mlisp\u001b[1;34m(string)\u001b[0m\n\u001b[1;32m----> 1\u001b[0m \u001b[38;5;28;01mdef\u001b[39;00m \u001b[38;5;21mlisp\u001b[39m(string): \u001b[38;5;28;01mreturn\u001b[39;00m lisp_string(\u001b[43mlisp_eval\u001b[49m\u001b[43m(\u001b[49m\u001b[43mpython_list_to_lisp_list\u001b[49m\u001b[43m(\u001b[49m\u001b[43m[\u001b[49m\u001b[43mintern_symbol\u001b[49m\u001b[43m(\u001b[49m\u001b[38;5;124;43m'\u001b[39;49m\u001b[38;5;124;43mbegin\u001b[39;49m\u001b[38;5;124;43m'\u001b[39;49m\u001b[43m)\u001b[49m\u001b[43m,\u001b[49m\u001b[43m \u001b[49m\u001b[43mread_from_string\u001b[49m\u001b[43m(\u001b[49m\u001b[43mstring\u001b[49m\u001b[43m)\u001b[49m\u001b[43m]\u001b[49m\u001b[43m)\u001b[49m\u001b[43m,\u001b[49m\u001b[43m \u001b[49m\u001b[43mglobal_environment\u001b[49m\u001b[43m)\u001b[49m)\n",
      "Input \u001b[1;32mIn [91]\u001b[0m, in \u001b[0;36mlisp_eval\u001b[1;34m(expression, environment)\u001b[0m\n\u001b[0;32m      5\u001b[0m \u001b[38;5;28;01mif\u001b[39;00m \u001b[38;5;129;01mnot\u001b[39;00m \u001b[38;5;28mtype\u001b[39m(expression) \u001b[38;5;129;01mis\u001b[39;00m Analyzed: expression \u001b[38;5;241m=\u001b[39m analyze(simplify(expand(expression, environment)))\n\u001b[0;32m      7\u001b[0m \u001b[38;5;66;03m# Perform the operation by giving the analyzed_expression the current environment.\u001b[39;00m\n\u001b[1;32m----> 8\u001b[0m result \u001b[38;5;241m=\u001b[39m \u001b[43mexpression\u001b[49m\u001b[43m(\u001b[49m\u001b[43menvironment\u001b[49m\u001b[43m)\u001b[49m\n\u001b[0;32m      9\u001b[0m \u001b[38;5;66;03m# Tail call elimination handled here:\u001b[39;00m\n\u001b[0;32m     10\u001b[0m \u001b[38;5;28;01mif\u001b[39;00m \u001b[38;5;28mtype\u001b[39m(result) \u001b[38;5;129;01mis\u001b[39;00m TailCallEvaluationResult:\n\u001b[0;32m     11\u001b[0m     \u001b[38;5;66;03m# by looping instead of calling lisp_eval, we eliminate the need for a stack frame.\u001b[39;00m\n",
      "Input \u001b[1;32mIn [99]\u001b[0m, in \u001b[0;36mAnalyzed.__call__\u001b[1;34m(self, environment)\u001b[0m\n\u001b[1;32m----> 5\u001b[0m \u001b[38;5;28;01mdef\u001b[39;00m \u001b[38;5;21m__call__\u001b[39m(\u001b[38;5;28mself\u001b[39m, environment): \u001b[38;5;28;01mreturn\u001b[39;00m \u001b[38;5;28;43mself\u001b[39;49m\u001b[38;5;241;43m.\u001b[39;49m\u001b[43meval\u001b[49m\u001b[43m(\u001b[49m\u001b[43menvironment\u001b[49m\u001b[43m)\u001b[49m\n",
      "Input \u001b[1;32mIn [171]\u001b[0m, in \u001b[0;36manalyze_procedure_application.<locals>.evaluate_procedure_application\u001b[1;34m(environment)\u001b[0m\n\u001b[0;32m     11\u001b[0m \u001b[38;5;28;01mdef\u001b[39;00m \u001b[38;5;21mevaluate_procedure_application\u001b[39m(environment):\n\u001b[0;32m     12\u001b[0m     \u001b[38;5;66;03m# Evaluate procedure and all arguments\u001b[39;00m\n\u001b[1;32m---> 13\u001b[0m     procedure \u001b[38;5;241m=\u001b[39m \u001b[43mlisp_eval\u001b[49m\u001b[43m(\u001b[49m\u001b[43mprocedure_expression\u001b[49m\u001b[43m,\u001b[49m\u001b[43m \u001b[49m\u001b[43menvironment\u001b[49m\u001b[43m)\u001b[49m\n\u001b[0;32m     15\u001b[0m     argument_list \u001b[38;5;241m=\u001b[39m empty_list()\n\u001b[0;32m     16\u001b[0m     arguments \u001b[38;5;241m=\u001b[39m []\n",
      "Input \u001b[1;32mIn [91]\u001b[0m, in \u001b[0;36mlisp_eval\u001b[1;34m(expression, environment)\u001b[0m\n\u001b[0;32m      5\u001b[0m \u001b[38;5;28;01mif\u001b[39;00m \u001b[38;5;129;01mnot\u001b[39;00m \u001b[38;5;28mtype\u001b[39m(expression) \u001b[38;5;129;01mis\u001b[39;00m Analyzed: expression \u001b[38;5;241m=\u001b[39m analyze(simplify(expand(expression, environment)))\n\u001b[0;32m      7\u001b[0m \u001b[38;5;66;03m# Perform the operation by giving the analyzed_expression the current environment.\u001b[39;00m\n\u001b[1;32m----> 8\u001b[0m result \u001b[38;5;241m=\u001b[39m \u001b[43mexpression\u001b[49m\u001b[43m(\u001b[49m\u001b[43menvironment\u001b[49m\u001b[43m)\u001b[49m\n\u001b[0;32m      9\u001b[0m \u001b[38;5;66;03m# Tail call elimination handled here:\u001b[39;00m\n\u001b[0;32m     10\u001b[0m \u001b[38;5;28;01mif\u001b[39;00m \u001b[38;5;28mtype\u001b[39m(result) \u001b[38;5;129;01mis\u001b[39;00m TailCallEvaluationResult:\n\u001b[0;32m     11\u001b[0m     \u001b[38;5;66;03m# by looping instead of calling lisp_eval, we eliminate the need for a stack frame.\u001b[39;00m\n",
      "Input \u001b[1;32mIn [99]\u001b[0m, in \u001b[0;36mAnalyzed.__call__\u001b[1;34m(self, environment)\u001b[0m\n\u001b[1;32m----> 5\u001b[0m \u001b[38;5;28;01mdef\u001b[39;00m \u001b[38;5;21m__call__\u001b[39m(\u001b[38;5;28mself\u001b[39m, environment): \u001b[38;5;28;01mreturn\u001b[39;00m \u001b[38;5;28;43mself\u001b[39;49m\u001b[38;5;241;43m.\u001b[39;49m\u001b[43meval\u001b[49m\u001b[43m(\u001b[49m\u001b[43menvironment\u001b[49m\u001b[43m)\u001b[49m\n",
      "Input \u001b[1;32mIn [104]\u001b[0m, in \u001b[0;36manalyze_symbol.<locals>.evaluate_symbol\u001b[1;34m(evaluation_environment)\u001b[0m\n\u001b[0;32m      3\u001b[0m \u001b[38;5;28;01mdef\u001b[39;00m \u001b[38;5;21mevaluate_symbol\u001b[39m(evaluation_environment):\n\u001b[1;32m----> 4\u001b[0m     \u001b[38;5;28;01mreturn\u001b[39;00m \u001b[43menvironment_symbol_value\u001b[49m\u001b[43m(\u001b[49m\u001b[43mevaluation_environment\u001b[49m\u001b[43m,\u001b[49m\u001b[43m \u001b[49m\u001b[43msymbol\u001b[49m\u001b[43m)\u001b[49m\n",
      "Input \u001b[1;32mIn [117]\u001b[0m, in \u001b[0;36menvironment_symbol_value\u001b[1;34m(environment, symbol)\u001b[0m\n\u001b[0;32m      2\u001b[0m environment_frame \u001b[38;5;241m=\u001b[39m environment_frame_with_symbol_value(environment, symbol)\n\u001b[0;32m      3\u001b[0m \u001b[38;5;28;01mif\u001b[39;00m environment_frame: \u001b[38;5;28;01mreturn\u001b[39;00m environment_frame\u001b[38;5;241m.\u001b[39mbindings[symbol]\n\u001b[1;32m----> 4\u001b[0m \u001b[38;5;28;01melse\u001b[39;00m: \u001b[43merror\u001b[49m\u001b[43m(\u001b[49m\u001b[38;5;124;43m\"\u001b[39;49m\u001b[38;5;124;43mSymbol \u001b[39;49m\u001b[38;5;124;43m\"\u001b[39;49m\u001b[43m \u001b[49m\u001b[38;5;241;43m+\u001b[39;49m\u001b[43m \u001b[49m\u001b[43mlisp_string\u001b[49m\u001b[43m(\u001b[49m\u001b[43msymbol\u001b[49m\u001b[43m)\u001b[49m\u001b[43m \u001b[49m\u001b[38;5;241;43m+\u001b[39;49m\u001b[43m \u001b[49m\u001b[38;5;124;43m\"\u001b[39;49m\u001b[38;5;124;43m is unbound in the given environment\u001b[39;49m\u001b[38;5;124;43m\"\u001b[39;49m\u001b[43m)\u001b[49m\n",
      "Input \u001b[1;32mIn [3]\u001b[0m, in \u001b[0;36merror\u001b[1;34m(string)\u001b[0m\n\u001b[1;32m----> 1\u001b[0m \u001b[38;5;28;01mdef\u001b[39;00m \u001b[38;5;21merror\u001b[39m(string): \u001b[38;5;28;01mraise\u001b[39;00m \u001b[38;5;167;01mException\u001b[39;00m(string)\n",
      "\u001b[1;31mException\u001b[0m: Symbol define-simplify-rule is unbound in the given environment"
     ]
    }
   ],
   "source": [
    "lisp(\"\"\"\n",
    "(define-simplify-rule '(begin) #f)\n",
    "(define-simplify-rule '(begin (? a)) a)\n",
    ";; Eliminate constant expressions within begin\n",
    "(define-simplify-rule '(begin (?? before) (? c constant-expression?) (? a) (?? after))\n",
    "                      `(begin ,@before ,a ,@after))\n",
    ";; Lift inner begin forms to outer begin forms\n",
    "(define-simplify-rule '(begin (?? before) (begin (?? inside)) (?? after)) \n",
    "                      `(begin ,@before ,@inside ,@after))\n",
    "\n",
    "\"\"\")"
   ]
  },
  {
   "cell_type": "code",
   "execution_count": 270,
   "id": "1018ceaa-1c19-40ca-8e7b-b5a3dd9b6374",
   "metadata": {},
   "outputs": [
    {
     "name": "stdout",
     "output_type": "stream",
     "text": [
      "scheme:eval\n"
     ]
    },
    {
     "data": {
      "text/plain": [
       "Symbol(\"scheme:eval\")"
      ]
     },
     "execution_count": 270,
     "metadata": {},
     "output_type": "execute_result"
    }
   ],
   "source": [
    "read_eval_print(\"\"\"\n",
    "(define scheme:eval\n",
    "    (fn (k expression (environment scheme:global-environment))\n",
    "        (if (procedure? expression)\n",
    "            (expresssion k environment)\n",
    "            ((scheme:analyze (scheme:expand expression environment)) k environment))))\n",
    "\"\"\")"
   ]
  },
  {
   "cell_type": "code",
   "execution_count": 271,
   "id": "ac70132e-fb0c-40ef-918a-d36b1d3d0f71",
   "metadata": {},
   "outputs": [
    {
     "name": "stdout",
     "output_type": "stream",
     "text": [
      "make-environment-frame\n",
      "environment-symbol-value\n",
      "environment-macro-procedure\n",
      "environment-define-symbol-value\n",
      "environment-set-symbol-value\n",
      "environment-extend\n"
     ]
    },
    {
     "data": {
      "text/plain": [
       "Symbol(\"environment-extend\")"
      ]
     },
     "execution_count": 271,
     "metadata": {},
     "output_type": "execute_result"
    }
   ],
   "source": [
    "# TODO: boostrap\n",
    "\n",
    "read_eval_print(\"\"\"(define make-environment-frame (eval-python \"Environment\"))\"\"\")\n",
    "read_eval_print(\"\"\"(define environment-symbol-value (eval-python \"environment_symbol_value\"))\"\"\")\n",
    "read_eval_print(\"\"\"(define environment-macro-procedure (eval-python \"environment_macro_procedure\"))\"\"\")\n",
    "read_eval_print(\"\"\"(define environment-define-symbol-value (eval-python \"environment_define_symbol_value\"))\"\"\")\n",
    "read_eval_print(\"\"\"(define environment-set-symbol-value (eval-python \"environment_set_symbol_value\"))\"\"\")\n",
    "read_eval_print(\"\"\"(define environment-extend (eval-python \"environment_extend\"))\"\"\")"
   ]
  },
  {
   "cell_type": "code",
   "execution_count": 272,
   "id": "e9beecc3-0238-452f-b9ec-1e1fbe9f1c02",
   "metadata": {},
   "outputs": [
    {
     "name": "stdout",
     "output_type": "stream",
     "text": [
      "scheme:global-environment\n"
     ]
    },
    {
     "data": {
      "text/plain": [
       "Symbol(\"scheme:global-environment\")"
      ]
     },
     "execution_count": 272,
     "metadata": {},
     "output_type": "execute_result"
    }
   ],
   "source": [
    "read_eval_print(\"\"\"(define scheme:global-environment (make-environment-frame #f))\"\"\")"
   ]
  },
  {
   "cell_type": "code",
   "execution_count": 273,
   "id": "d02d9abd-1842-438e-81b7-b9f28221382d",
   "metadata": {},
   "outputs": [
    {
     "name": "stdout",
     "output_type": "stream",
     "text": [
      "scheme:expand\n"
     ]
    },
    {
     "data": {
      "text/plain": [
       "Symbol(\"scheme:expand\")"
      ]
     },
     "execution_count": 273,
     "metadata": {},
     "output_type": "execute_result"
    }
   ],
   "source": [
    "read_eval_print(\"\"\"\n",
    "(define scheme:expand\n",
    "    (fn (expression environment)\n",
    "        (cond\n",
    "            ((pair? expression) (scheme:expand-combination expression environment))\n",
    "            ;; Symbol\n",
    "            ((symbol? expression) (scheme:expand-symbol expression environment))\n",
    "            ;; Self-evaluating\n",
    "            (#t expression))))\n",
    "\"\"\")"
   ]
  },
  {
   "cell_type": "code",
   "execution_count": 274,
   "id": "c1b75009-5ec5-4290-8ca2-91b5bbadc1bc",
   "metadata": {},
   "outputs": [
    {
     "name": "stdout",
     "output_type": "stream",
     "text": [
      "scheme:expand-combination\n"
     ]
    },
    {
     "data": {
      "text/plain": [
       "Symbol(\"scheme:expand-combination\")"
      ]
     },
     "execution_count": 274,
     "metadata": {},
     "output_type": "execute_result"
    }
   ],
   "source": [
    "read_eval_print(\"\"\"\n",
    "(define scheme:expand-combination\n",
    "    (fn (expression environment)\n",
    "        (let ((macro-procedure #f))\n",
    "            (cond\n",
    "                ;; special form?\n",
    "                ((hash-contains-key? scheme:expand-table (first expression))\n",
    "                 ((hash-ref scheme:expand-table (first expression)) (rest expression) environment))\n",
    "                ;; macro-procedure application?\n",
    "                ((set! macro-procedure (environment-macro-procedure environment (first expression)))\n",
    "                 ;; Apply the macro procedure to the rest of the unevaluated arguments\n",
    "                 ;; And then expand the result.\n",
    "                 (scheme:apply (fn (expression) (scheme:expand expression environment))\n",
    "                               macro-procedure (rest expression)))\n",
    "                ;; procedure application\n",
    "                (#t (scheme:expand-procedure-application expression environment))))))\n",
    "\"\"\")"
   ]
  },
  {
   "cell_type": "code",
   "execution_count": 275,
   "id": "f33b23d5-514a-4878-b88d-4da406a9a9bc",
   "metadata": {},
   "outputs": [
    {
     "name": "stdout",
     "output_type": "stream",
     "text": [
      "make-hash-table\n",
      "hash-contains-key?\n",
      "hash-ref\n",
      "hash-set!\n"
     ]
    },
    {
     "data": {
      "text/plain": [
       "Symbol(\"hash-set!\")"
      ]
     },
     "execution_count": 275,
     "metadata": {},
     "output_type": "execute_result"
    }
   ],
   "source": [
    "read_eval_print(\"\"\"(define make-hash-table (eval-python \"dict\"))\"\"\")\n",
    "read_eval_print(\"\"\"(define hash-contains-key? (eval-python \"op.contains\"))\"\"\")\n",
    "read_eval_print(\"\"\"(define hash-ref (eval-python \"op.getitem\"))\"\"\")\n",
    "read_eval_print(\"\"\"(define hash-set! (eval-python \"op.setitem\"))\"\"\")"
   ]
  },
  {
   "cell_type": "code",
   "execution_count": 276,
   "id": "8d13bef8-082a-4f0d-b87c-4ab150b3bcd5",
   "metadata": {},
   "outputs": [
    {
     "name": "stdout",
     "output_type": "stream",
     "text": [
      "scheme:expand-table\n"
     ]
    },
    {
     "data": {
      "text/plain": [
       "Symbol(\"scheme:expand-table\")"
      ]
     },
     "execution_count": 276,
     "metadata": {},
     "output_type": "execute_result"
    }
   ],
   "source": [
    "read_eval_print(\"\"\"(define scheme:expand-table (make-hash-table))\"\"\")"
   ]
  },
  {
   "cell_type": "code",
   "execution_count": 277,
   "id": "b7f6bd42-8749-4fbf-9fe0-cbdb4f79a270",
   "metadata": {},
   "outputs": [
    {
     "name": "stdout",
     "output_type": "stream",
     "text": [
      "1.2345\n"
     ]
    },
    {
     "data": {
      "text/plain": [
       "1.2345"
      ]
     },
     "execution_count": 277,
     "metadata": {},
     "output_type": "execute_result"
    }
   ],
   "source": [
    "read_eval_print(\"\"\"(scheme:expand '1.2345 scheme:global-environment)\"\"\")"
   ]
  },
  {
   "cell_type": "code",
   "execution_count": 278,
   "id": "f07db8ce-e86d-4ccc-9517-79cd1d86ee0c",
   "metadata": {},
   "outputs": [
    {
     "name": "stdout",
     "output_type": "stream",
     "text": [
      "scheme:expand-symbol\n"
     ]
    },
    {
     "data": {
      "text/plain": [
       "Symbol(\"scheme:expand-symbol\")"
      ]
     },
     "execution_count": 278,
     "metadata": {},
     "output_type": "execute_result"
    }
   ],
   "source": [
    "read_eval_print(\"\"\"\n",
    "(define scheme:expand-symbol (fn (expression environment) expression))\n",
    "\"\"\")"
   ]
  },
  {
   "cell_type": "code",
   "execution_count": 279,
   "id": "cb10a6e7-9b3f-4142-aa76-823c97224f60",
   "metadata": {},
   "outputs": [
    {
     "name": "stdout",
     "output_type": "stream",
     "text": [
      "symbol\n"
     ]
    },
    {
     "data": {
      "text/plain": [
       "Symbol(\"symbol\")"
      ]
     },
     "execution_count": 279,
     "metadata": {},
     "output_type": "execute_result"
    }
   ],
   "source": [
    "read_eval_print(\"\"\"(scheme:expand 'symbol scheme:global-environment)\"\"\")"
   ]
  },
  {
   "cell_type": "code",
   "execution_count": 280,
   "id": "99d0aa3b-a2e4-4bd0-b08d-8e32d267bf45",
   "metadata": {},
   "outputs": [
    {
     "name": "stdout",
     "output_type": "stream",
     "text": [
      "scheme:expand-procedure-application\n"
     ]
    },
    {
     "data": {
      "text/plain": [
       "Symbol(\"scheme:expand-procedure-application\")"
      ]
     },
     "execution_count": 280,
     "metadata": {},
     "output_type": "execute_result"
    }
   ],
   "source": [
    "read_eval_print(\"\"\"\n",
    "(define scheme:expand-procedure-application\n",
    "    (fn (expression environment)\n",
    "        (map (fn (expression) (scheme:expand expression environment)) expression)))\n",
    "\"\"\")"
   ]
  },
  {
   "cell_type": "code",
   "execution_count": 281,
   "id": "b2ecb227-e74f-4a05-a55e-8330a1c24ab2",
   "metadata": {},
   "outputs": [
    {
     "name": "stdout",
     "output_type": "stream",
     "text": [
      "(+ 1 a)\n"
     ]
    },
    {
     "data": {
      "text/plain": [
       "Pair(Symbol(\"+\"), Pair(1, Pair(Symbol(\"a\"), EmptyList())))"
      ]
     },
     "execution_count": 281,
     "metadata": {},
     "output_type": "execute_result"
    }
   ],
   "source": [
    "read_eval_print(\"\"\"(scheme:expand '(+ 1 a) scheme:global-environment)\"\"\")"
   ]
  },
  {
   "cell_type": "code",
   "execution_count": 282,
   "id": "a187a0da-193f-4d80-9396-2594db1a4312",
   "metadata": {},
   "outputs": [
    {
     "name": "stdout",
     "output_type": "stream",
     "text": [
      "None\n",
      "expand-define\n"
     ]
    },
    {
     "data": {
      "text/plain": [
       "Symbol(\"expand-define\")"
      ]
     },
     "execution_count": 282,
     "metadata": {},
     "output_type": "execute_result"
    }
   ],
   "source": [
    "read_eval_print(\"\"\"(hash-set! scheme:expand-table 'define (lambda args (apply expand-define args)))\"\"\")\n",
    "read_eval_print(\"\"\"\n",
    "(define expand-define\n",
    "    (fn (expression environment)\n",
    "        `(define ,(first expression) ,(scheme:expand (second expression) environment))))\n",
    "\"\"\")"
   ]
  },
  {
   "cell_type": "code",
   "execution_count": 283,
   "id": "4dc7acb9-fdba-4818-a04d-fbdd46675610",
   "metadata": {},
   "outputs": [
    {
     "name": "stdout",
     "output_type": "stream",
     "text": [
      "(define a (+ 1 2))\n"
     ]
    },
    {
     "data": {
      "text/plain": [
       "Pair(Symbol(\"define\"), Pair(Symbol(\"a\"), Pair(Pair(Symbol(\"+\"), Pair(1, Pair(2, EmptyList()))), EmptyList())))"
      ]
     },
     "execution_count": 283,
     "metadata": {},
     "output_type": "execute_result"
    }
   ],
   "source": [
    "read_eval_print(\"\"\"(scheme:expand '(define a (+ 1 2)) scheme:global-environment)\"\"\")"
   ]
  },
  {
   "cell_type": "code",
   "execution_count": 284,
   "id": "3f4f99e9-2c51-4a14-a9c5-e450905a3634",
   "metadata": {},
   "outputs": [
    {
     "name": "stdout",
     "output_type": "stream",
     "text": [
      "None\n",
      "expand-set!\n"
     ]
    },
    {
     "data": {
      "text/plain": [
       "Symbol(\"expand-set!\")"
      ]
     },
     "execution_count": 284,
     "metadata": {},
     "output_type": "execute_result"
    }
   ],
   "source": [
    "read_eval_print(\"\"\"(hash-set! scheme:expand-table 'set! (lambda args (apply expand-set! args)))\"\"\")\n",
    "read_eval_print(\"\"\"\n",
    "(define expand-set!\n",
    "    (fn (expression environment)\n",
    "        `(set! ,(first expression) ,(scheme:expand (second expression) environment))))\n",
    "\"\"\")"
   ]
  },
  {
   "cell_type": "code",
   "execution_count": 285,
   "id": "9e3c715e-8790-4e64-8356-649945cc71c5",
   "metadata": {},
   "outputs": [
    {
     "name": "stdout",
     "output_type": "stream",
     "text": [
      "(set! a (+ 1 2))\n"
     ]
    },
    {
     "data": {
      "text/plain": [
       "Pair(Symbol(\"set!\"), Pair(Symbol(\"a\"), Pair(Pair(Symbol(\"+\"), Pair(1, Pair(2, EmptyList()))), EmptyList())))"
      ]
     },
     "execution_count": 285,
     "metadata": {},
     "output_type": "execute_result"
    }
   ],
   "source": [
    "read_eval_print(\"\"\"(scheme:expand '(set! a (+ 1 2)) scheme:global-environment)\"\"\")"
   ]
  },
  {
   "cell_type": "code",
   "execution_count": 286,
   "id": "79d05be9-dc30-426b-be32-d8dce30f6d79",
   "metadata": {},
   "outputs": [
    {
     "name": "stdout",
     "output_type": "stream",
     "text": [
      "None\n",
      "expand-begin\n"
     ]
    },
    {
     "data": {
      "text/plain": [
       "Symbol(\"expand-begin\")"
      ]
     },
     "execution_count": 286,
     "metadata": {},
     "output_type": "execute_result"
    }
   ],
   "source": [
    "read_eval_print(\"\"\"(hash-set! scheme:expand-table 'begin (lambda args (apply expand-begin args)))\"\"\")\n",
    "read_eval_print(\"\"\"\n",
    "(define expand-begin\n",
    "    (fn (expression environment)\n",
    "        `(begin ,@(map (fn (expression) (scheme:expand expression environment)) expression))))\n",
    "\"\"\")"
   ]
  },
  {
   "cell_type": "code",
   "execution_count": 287,
   "id": "f2fdd519-1475-4c0f-b9f6-00497a22340f",
   "metadata": {},
   "outputs": [
    {
     "name": "stdout",
     "output_type": "stream",
     "text": [
      "(begin a b)\n"
     ]
    },
    {
     "data": {
      "text/plain": [
       "Pair(Symbol(\"begin\"), Pair(Symbol(\"a\"), Pair(Symbol(\"b\"), EmptyList())))"
      ]
     },
     "execution_count": 287,
     "metadata": {},
     "output_type": "execute_result"
    }
   ],
   "source": [
    "read_eval_print(\"\"\"(scheme:expand '(begin a b) scheme:global-environment)\"\"\")"
   ]
  },
  {
   "cell_type": "code",
   "execution_count": 288,
   "id": "12d81ad9-012e-4d46-9ac8-9013de6d06de",
   "metadata": {},
   "outputs": [
    {
     "name": "stdout",
     "output_type": "stream",
     "text": [
      "None\n",
      "expand-lambda\n"
     ]
    },
    {
     "data": {
      "text/plain": [
       "Symbol(\"expand-lambda\")"
      ]
     },
     "execution_count": 288,
     "metadata": {},
     "output_type": "execute_result"
    }
   ],
   "source": [
    "read_eval_print(\"\"\"(hash-set! scheme:expand-table 'lambda (lambda args (apply expand-lambda args)))\"\"\")\n",
    "read_eval_print(\"\"\"\n",
    "(define expand-lambda\n",
    "    (fn (expression environment)\n",
    "        `(lambda ,(first expression) ,(scheme:expand (second expression) environment))))\n",
    "\"\"\")"
   ]
  },
  {
   "cell_type": "code",
   "execution_count": 289,
   "id": "de3b62f3-7def-4a37-8efc-7982f0e42413",
   "metadata": {},
   "outputs": [
    {
     "name": "stdout",
     "output_type": "stream",
     "text": [
      "(lambda expr body)\n"
     ]
    },
    {
     "data": {
      "text/plain": [
       "Pair(Symbol(\"lambda\"), Pair(Symbol(\"expr\"), Pair(Symbol(\"body\"), EmptyList())))"
      ]
     },
     "execution_count": 289,
     "metadata": {},
     "output_type": "execute_result"
    }
   ],
   "source": [
    "read_eval_print(\"\"\"(scheme:expand '(lambda expr body) scheme:global-environment)\"\"\")"
   ]
  },
  {
   "cell_type": "code",
   "execution_count": 290,
   "id": "7b63a2a8-ad15-417b-8594-697fa85bcc1b",
   "metadata": {},
   "outputs": [
    {
     "name": "stdout",
     "output_type": "stream",
     "text": [
      "None\n",
      "expand-macro-lambda\n"
     ]
    },
    {
     "data": {
      "text/plain": [
       "Symbol(\"expand-macro-lambda\")"
      ]
     },
     "execution_count": 290,
     "metadata": {},
     "output_type": "execute_result"
    }
   ],
   "source": [
    "read_eval_print(\"\"\"(hash-set! scheme:expand-table 'macro-lambda (lambda args (apply expand-macro-lambda args)))\"\"\")\n",
    "read_eval_print(\"\"\"\n",
    "(define expand-macro-lambda\n",
    "    (fn (expression environment)\n",
    "        `(macro-lambda ,(first expression) ,(scheme:expand (second expression) environment))))\n",
    "\"\"\")"
   ]
  },
  {
   "cell_type": "code",
   "execution_count": 291,
   "id": "1168210e-a65a-43e9-b4d1-7e8b3e2ee6af",
   "metadata": {},
   "outputs": [
    {
     "name": "stdout",
     "output_type": "stream",
     "text": [
      "(macro-lambda expr body)\n"
     ]
    },
    {
     "data": {
      "text/plain": [
       "Pair(Symbol(\"macro-lambda\"), Pair(Symbol(\"expr\"), Pair(Symbol(\"body\"), EmptyList())))"
      ]
     },
     "execution_count": 291,
     "metadata": {},
     "output_type": "execute_result"
    }
   ],
   "source": [
    "read_eval_print(\"\"\"(scheme:expand '(macro-lambda expr body) scheme:global-environment)\"\"\")"
   ]
  },
  {
   "cell_type": "code",
   "execution_count": 292,
   "id": "c37c9c9a-c41e-44bc-ae72-95cb4ad886ad",
   "metadata": {},
   "outputs": [
    {
     "name": "stdout",
     "output_type": "stream",
     "text": [
      "None\n",
      "expand-quote\n"
     ]
    },
    {
     "data": {
      "text/plain": [
       "Symbol(\"expand-quote\")"
      ]
     },
     "execution_count": 292,
     "metadata": {},
     "output_type": "execute_result"
    }
   ],
   "source": [
    "read_eval_print(\"\"\"(hash-set! scheme:expand-table 'quote (lambda args (apply expand-quote args)))\"\"\")\n",
    "read_eval_print(\"\"\"\n",
    "(define expand-quote\n",
    "    (fn (expression environment)\n",
    "        `(quote ,(first expression))))\n",
    "\"\"\")"
   ]
  },
  {
   "cell_type": "code",
   "execution_count": 293,
   "id": "ee5d0bac-9c1b-4fa6-b7c9-f61e0eb37fb1",
   "metadata": {},
   "outputs": [
    {
     "name": "stdout",
     "output_type": "stream",
     "text": [
      "'expr\n"
     ]
    },
    {
     "data": {
      "text/plain": [
       "Pair(Symbol(\"quote\"), Pair(Symbol(\"expr\"), EmptyList()))"
      ]
     },
     "execution_count": 293,
     "metadata": {},
     "output_type": "execute_result"
    }
   ],
   "source": [
    "read_eval_print(\"\"\"(scheme:expand '(quote expr) scheme:global-environment)\"\"\")"
   ]
  },
  {
   "cell_type": "code",
   "execution_count": 294,
   "id": "f8cfd667-25ec-44ad-ba85-15d65533f7f6",
   "metadata": {},
   "outputs": [
    {
     "name": "stdout",
     "output_type": "stream",
     "text": [
      "scheme:analyze\n"
     ]
    },
    {
     "data": {
      "text/plain": [
       "Symbol(\"scheme:analyze\")"
      ]
     },
     "execution_count": 294,
     "metadata": {},
     "output_type": "execute_result"
    }
   ],
   "source": [
    "read_eval_print(\"\"\"\n",
    "(define scheme:analyze\n",
    "    (fn (expression)\n",
    "        (cond ((symbol? expression) (scheme:analyze-symbol expression))\n",
    "              ((pair? expression)\n",
    "               (cond ((hash-contains-key? scheme:analyze-table (first expression))\n",
    "                      ((hash-ref scheme:analyze-table (first expression)) (rest expression)))\n",
    "                     (#t (scheme:analyze-procedure-application expression))))\n",
    "              (#t (scheme:analyze-self-evaluating expression)))))\n",
    "\"\"\")"
   ]
  },
  {
   "cell_type": "code",
   "execution_count": 295,
   "id": "1b1c2bf1-589e-4a16-864f-c9c7f9064033",
   "metadata": {},
   "outputs": [
    {
     "name": "stdout",
     "output_type": "stream",
     "text": [
      "scheme:analyze-self-evaluating\n"
     ]
    },
    {
     "data": {
      "text/plain": [
       "Symbol(\"scheme:analyze-self-evaluating\")"
      ]
     },
     "execution_count": 295,
     "metadata": {},
     "output_type": "execute_result"
    }
   ],
   "source": [
    "read_eval_print(\"\"\"\n",
    "(define scheme:analyze-self-evaluating\n",
    "    (fn (expression)\n",
    "        (fn (k environment)\n",
    "            (k expression))))\n",
    "\"\"\")"
   ]
  },
  {
   "cell_type": "code",
   "execution_count": 296,
   "id": "b0737cca-e6b8-4542-b50b-46d98ca0821a",
   "metadata": {},
   "outputs": [
    {
     "name": "stdout",
     "output_type": "stream",
     "text": [
      "(1.0)\n"
     ]
    },
    {
     "data": {
      "text/plain": [
       "Pair(1.0, EmptyList())"
      ]
     },
     "execution_count": 296,
     "metadata": {},
     "output_type": "execute_result"
    }
   ],
   "source": [
    "read_eval_print(\"\"\"(scheme:eval list 1.0)\"\"\")"
   ]
  },
  {
   "cell_type": "code",
   "execution_count": 297,
   "id": "d28757c8-1ab3-45c1-9b71-b108c33cd26f",
   "metadata": {},
   "outputs": [
    {
     "name": "stdout",
     "output_type": "stream",
     "text": [
      "scheme:analyze-symbol\n"
     ]
    },
    {
     "data": {
      "text/plain": [
       "Symbol(\"scheme:analyze-symbol\")"
      ]
     },
     "execution_count": 297,
     "metadata": {},
     "output_type": "execute_result"
    }
   ],
   "source": [
    "read_eval_print(\"\"\"\n",
    "(define scheme:analyze-symbol\n",
    "    (fn (expression)\n",
    "        (fn (k environment) (k (environment-symbol-value environment expression)))))\n",
    "\"\"\")"
   ]
  },
  {
   "cell_type": "code",
   "execution_count": 298,
   "id": "92c628f4-24eb-4604-8a53-d9245ebebc8c",
   "metadata": {},
   "outputs": [
    {
     "name": "stdout",
     "output_type": "stream",
     "text": [
      "scheme:analyze-table\n"
     ]
    },
    {
     "data": {
      "text/plain": [
       "Symbol(\"scheme:analyze-table\")"
      ]
     },
     "execution_count": 298,
     "metadata": {},
     "output_type": "execute_result"
    }
   ],
   "source": [
    "read_eval_print(\"\"\"(define scheme:analyze-table (make-hash-table))\"\"\")"
   ]
  },
  {
   "cell_type": "code",
   "execution_count": 299,
   "id": "209235af-3fa0-4186-801d-7c313a2a050d",
   "metadata": {},
   "outputs": [
    {
     "name": "stdout",
     "output_type": "stream",
     "text": [
      "None\n"
     ]
    }
   ],
   "source": [
    "read_eval_print(\"\"\"(hash-set! scheme:analyze-table 'define (fn args (apply scheme:analyze-define args)))\"\"\")"
   ]
  },
  {
   "cell_type": "code",
   "execution_count": 300,
   "id": "0c8f4163-108e-4987-931a-b30158157105",
   "metadata": {},
   "outputs": [
    {
     "name": "stdout",
     "output_type": "stream",
     "text": [
      "scheme:analyze-define\n"
     ]
    },
    {
     "data": {
      "text/plain": [
       "Symbol(\"scheme:analyze-define\")"
      ]
     },
     "execution_count": 300,
     "metadata": {},
     "output_type": "execute_result"
    }
   ],
   "source": [
    "read_eval_print(\"\"\"\n",
    "(define scheme:analyze-define\n",
    "    (fn (expression)\n",
    "        (let ((name (first expression))\n",
    "              (value-expression (scheme:analyze (second expression))))\n",
    "            (fn (k environment)\n",
    "                (value-expression (fn (value)\n",
    "                                      (environment-define-symbol-value environment name value)\n",
    "                                      (k name))\n",
    "                                   environment)))))\n",
    "\"\"\")"
   ]
  },
  {
   "cell_type": "code",
   "execution_count": 301,
   "id": "12a08f55-eb40-4969-a4ae-793527f162b4",
   "metadata": {},
   "outputs": [
    {
     "name": "stdout",
     "output_type": "stream",
     "text": [
      "(foo)\n",
      "(42+1j)\n"
     ]
    },
    {
     "data": {
      "text/plain": [
       "Pair((42+1j), EmptyList())"
      ]
     },
     "execution_count": 301,
     "metadata": {},
     "output_type": "execute_result"
    }
   ],
   "source": [
    "read_eval_print(\"\"\"(scheme:eval list '(define foo 42+j))\"\"\")\n",
    "read_eval_print(\"\"\"(scheme:eval list 'foo)\"\"\")"
   ]
  },
  {
   "cell_type": "code",
   "execution_count": 302,
   "id": "03fd07e5-1b05-41e6-acd4-b6c19c534bef",
   "metadata": {},
   "outputs": [
    {
     "name": "stdout",
     "output_type": "stream",
     "text": [
      "None\n"
     ]
    }
   ],
   "source": [
    "read_eval_print(\"\"\"(hash-set! scheme:analyze-table 'set! (fn args (apply scheme:analyze-set! args)))\"\"\")"
   ]
  },
  {
   "cell_type": "code",
   "execution_count": 303,
   "id": "23ecd3fb-80c8-40a8-b6e7-2c686e21b697",
   "metadata": {},
   "outputs": [
    {
     "name": "stdout",
     "output_type": "stream",
     "text": [
      "scheme:analyze-set!\n"
     ]
    },
    {
     "data": {
      "text/plain": [
       "Symbol(\"scheme:analyze-set!\")"
      ]
     },
     "execution_count": 303,
     "metadata": {},
     "output_type": "execute_result"
    }
   ],
   "source": [
    "read_eval_print(\"\"\"\n",
    "(define scheme:analyze-set!\n",
    "    (fn (expression)\n",
    "        (let ((name (first expression))\n",
    "              (value-expression (scheme:analyze (second expression))))\n",
    "            (fn (k environment)\n",
    "                (value-expression (fn (value)\n",
    "                                      (environment-set-symbol-value environment name value)\n",
    "                                      (k value))\n",
    "                                   environment)))))\n",
    "\"\"\")"
   ]
  },
  {
   "cell_type": "code",
   "execution_count": 304,
   "id": "6ea338ad-0c0b-4892-9065-122db1b37034",
   "metadata": {},
   "outputs": [
    {
     "name": "stdout",
     "output_type": "stream",
     "text": [
      "(42)\n",
      "(42)\n"
     ]
    },
    {
     "data": {
      "text/plain": [
       "Pair(42, EmptyList())"
      ]
     },
     "execution_count": 304,
     "metadata": {},
     "output_type": "execute_result"
    }
   ],
   "source": [
    "read_eval_print(\"\"\"(scheme:eval list '(set! foo 42))\"\"\")\n",
    "read_eval_print(\"\"\"(scheme:eval list 'foo)\"\"\")"
   ]
  },
  {
   "cell_type": "code",
   "execution_count": 305,
   "id": "2fdfa33b-1b13-4d3e-aad2-5f4e225a7b95",
   "metadata": {},
   "outputs": [
    {
     "name": "stdout",
     "output_type": "stream",
     "text": [
      "None\n"
     ]
    }
   ],
   "source": [
    "read_eval_print(\"\"\"(hash-set! scheme:analyze-table 'begin (fn args (apply scheme:analyze-begin args)))\"\"\")"
   ]
  },
  {
   "cell_type": "code",
   "execution_count": 306,
   "id": "df419b1c-80d3-4f65-afd4-ba8af3188ba6",
   "metadata": {},
   "outputs": [
    {
     "name": "stdout",
     "output_type": "stream",
     "text": [
      "scheme:analyze-begin\n"
     ]
    },
    {
     "data": {
      "text/plain": [
       "Symbol(\"scheme:analyze-begin\")"
      ]
     },
     "execution_count": 306,
     "metadata": {},
     "output_type": "execute_result"
    }
   ],
   "source": [
    "read_eval_print(\"\"\"\n",
    "(define scheme:analyze-begin\n",
    "    (fn (expression)\n",
    "        (cond ((empty? expression) (error \"Expected at least one expression in begin\"))\n",
    "              (#t (let ((expressions (map (fn (expression) (scheme:analyze expression)) expression)))\n",
    "                    (define evaluate-expressions (fn (k environment expressions)\n",
    "                                                    (cond ((empty? (rest expressions)) ((first expressions) k environment))\n",
    "                                                          (#t ((first expressions) \n",
    "                                                                  (fn _ (evaluate-expressions k environment (rest expressions)))\n",
    "                                                                  environment)))))\n",
    "                    (fn (k environment)\n",
    "                        (evaluate-expressions k environment expressions)))))))\n",
    "\"\"\")"
   ]
  },
  {
   "cell_type": "code",
   "execution_count": 307,
   "id": "64352f4f-1dae-4e61-8187-57ccedf2a263",
   "metadata": {},
   "outputs": [
    {
     "name": "stdout",
     "output_type": "stream",
     "text": [
      "(3)\n",
      "(2)\n"
     ]
    },
    {
     "data": {
      "text/plain": [
       "Pair(2, EmptyList())"
      ]
     },
     "execution_count": 307,
     "metadata": {},
     "output_type": "execute_result"
    }
   ],
   "source": [
    "read_eval_print(\"\"\"(scheme:eval list '(begin 3))\"\"\")\n",
    "read_eval_print(\"\"\"(scheme:eval list '(begin (define foo 1) (set! foo 2) foo))\"\"\")"
   ]
  },
  {
   "cell_type": "code",
   "execution_count": 308,
   "id": "3bb8e8ab-94ab-4c95-9e11-9c94a811ec5a",
   "metadata": {},
   "outputs": [
    {
     "name": "stdout",
     "output_type": "stream",
     "text": [
      "None\n"
     ]
    }
   ],
   "source": [
    "read_eval_print(\"\"\"(hash-set! scheme:analyze-table 'quote (fn args (apply scheme:analyze-quote args)))\"\"\")"
   ]
  },
  {
   "cell_type": "code",
   "execution_count": 309,
   "id": "0c73c7c0-5383-4f8b-ac91-d993973b4a09",
   "metadata": {},
   "outputs": [
    {
     "name": "stdout",
     "output_type": "stream",
     "text": [
      "scheme:analyze-quote\n"
     ]
    },
    {
     "data": {
      "text/plain": [
       "Symbol(\"scheme:analyze-quote\")"
      ]
     },
     "execution_count": 309,
     "metadata": {},
     "output_type": "execute_result"
    }
   ],
   "source": [
    "read_eval_print(\"\"\"\n",
    "(define scheme:analyze-quote\n",
    "    (fn (expression)\n",
    "        (let ((quoted-expression (first expression)))\n",
    "            (fn (k environment) (k quoted-expression)))))\n",
    "\"\"\")"
   ]
  },
  {
   "cell_type": "code",
   "execution_count": 310,
   "id": "aee61fb5-42df-40e9-9c40-cb5b8c3ebddf",
   "metadata": {},
   "outputs": [
    {
     "name": "stdout",
     "output_type": "stream",
     "text": [
      "((the quick brown fox))\n"
     ]
    },
    {
     "data": {
      "text/plain": [
       "Pair(Pair(Symbol(\"the\"), Pair(Symbol(\"quick\"), Pair(Symbol(\"brown\"), Pair(Symbol(\"fox\"), EmptyList())))), EmptyList())"
      ]
     },
     "execution_count": 310,
     "metadata": {},
     "output_type": "execute_result"
    }
   ],
   "source": [
    "read_eval_print(\"(scheme:eval list '(quote (the quick brown fox)))\")"
   ]
  },
  {
   "cell_type": "code",
   "execution_count": 311,
   "id": "5d868616-b2ae-4ef7-be68-6865990d9f3d",
   "metadata": {},
   "outputs": [
    {
     "name": "stdout",
     "output_type": "stream",
     "text": [
      "None\n",
      "None\n"
     ]
    }
   ],
   "source": [
    "read_eval_print(\"\"\"(hash-set! scheme:analyze-table 'if (fn args (apply scheme:analyze-if args)))\"\"\")\n",
    "read_eval_print(\"\"\"(hash-set! scheme:expand-table 'if (fn args (apply scheme:expand-if args)))\"\"\")"
   ]
  },
  {
   "cell_type": "code",
   "execution_count": 312,
   "id": "2c9342cf-25ba-48b5-b2ad-26ca1635e647",
   "metadata": {},
   "outputs": [
    {
     "name": "stdout",
     "output_type": "stream",
     "text": [
      "scheme:expand-if\n"
     ]
    },
    {
     "data": {
      "text/plain": [
       "Symbol(\"scheme:expand-if\")"
      ]
     },
     "execution_count": 312,
     "metadata": {},
     "output_type": "execute_result"
    }
   ],
   "source": [
    "read_eval_print(\"\"\"\n",
    "(define scheme:expand-if\n",
    "    (fn (expression environment)\n",
    "        (let ((test (scheme:expand (first expression) environment))\n",
    "              (consequent (scheme:expand (second expression) environment))\n",
    "              (alternative (scheme:expand (third expression) environment)))\n",
    "            `(if ,test ,consequent ,alternative))))\n",
    "\"\"\")"
   ]
  },
  {
   "cell_type": "code",
   "execution_count": 313,
   "id": "49b7101a-1a1f-4d26-8c07-e91e3e62aa8e",
   "metadata": {},
   "outputs": [
    {
     "name": "stdout",
     "output_type": "stream",
     "text": [
      "scheme:analyze-if\n"
     ]
    },
    {
     "data": {
      "text/plain": [
       "Symbol(\"scheme:analyze-if\")"
      ]
     },
     "execution_count": 313,
     "metadata": {},
     "output_type": "execute_result"
    }
   ],
   "source": [
    "read_eval_print(\"\"\"\n",
    "(define scheme:analyze-if\n",
    "    (fn (expression)\n",
    "        (let ((test (scheme:analyze (first expression)))\n",
    "              (consequent (scheme:analyze (second expression)))\n",
    "              (alternative (scheme:analyze (third expression))))\n",
    "            (fn (k environment)\n",
    "                (test\n",
    "                    (fn (test-value . _)\n",
    "                        (if test-value (consequent k environment) (alternative k environment)))\n",
    "                    environment)))))\n",
    "\"\"\")"
   ]
  },
  {
   "cell_type": "code",
   "execution_count": 314,
   "id": "36b15f5c-26fe-410f-a02b-249b284360bb",
   "metadata": {},
   "outputs": [
    {
     "name": "stdout",
     "output_type": "stream",
     "text": [
      "(\\#t)\n",
      "(\\#f)\n"
     ]
    },
    {
     "data": {
      "text/plain": [
       "Pair(Symbol(\"#f\"), EmptyList())"
      ]
     },
     "execution_count": 314,
     "metadata": {},
     "output_type": "execute_result"
    }
   ],
   "source": [
    "read_eval_print(\"\"\"(scheme:eval list `(define #t ,#t))\"\"\")\n",
    "read_eval_print(\"\"\"(scheme:eval list `(define #f ,#f))\"\"\")"
   ]
  },
  {
   "cell_type": "code",
   "execution_count": 315,
   "id": "b1306f16-ab53-4d57-b70d-a87d281d10c3",
   "metadata": {},
   "outputs": [],
   "source": [
    "# TODO: Lock symbols"
   ]
  },
  {
   "cell_type": "code",
   "execution_count": 316,
   "id": "cd272167-a0d8-4b94-b19b-7beed5aac6c3",
   "metadata": {},
   "outputs": [
    {
     "name": "stdout",
     "output_type": "stream",
     "text": [
      "(\"true\")\n",
      "(\"false\")\n"
     ]
    },
    {
     "data": {
      "text/plain": [
       "Pair('false', EmptyList())"
      ]
     },
     "execution_count": 316,
     "metadata": {},
     "output_type": "execute_result"
    }
   ],
   "source": [
    "read_eval_print(\"\"\"(scheme:eval list '(begin (if #t (define foo \"true\") (define foo \"false\")) foo))\"\"\")\n",
    "read_eval_print(\"\"\"(scheme:eval list '(begin (if #f (define foo \"true\") (define foo \"false\")) foo))\"\"\")"
   ]
  },
  {
   "cell_type": "code",
   "execution_count": 317,
   "id": "f598ecb2-c10a-45c7-bdd0-55fb680308d8",
   "metadata": {},
   "outputs": [
    {
     "name": "stdout",
     "output_type": "stream",
     "text": [
      "None\n"
     ]
    }
   ],
   "source": [
    "read_eval_print(\"\"\"(hash-set! scheme:analyze-table 'lambda (fn args (apply scheme:analyze-lambda args)))\"\"\")"
   ]
  },
  {
   "cell_type": "code",
   "execution_count": 318,
   "id": "fba55bc2-9c12-4cf8-9ad4-a7dd1e1bc984",
   "metadata": {},
   "outputs": [
    {
     "name": "stdout",
     "output_type": "stream",
     "text": [
      "scheme:analyze-lambda\n"
     ]
    },
    {
     "data": {
      "text/plain": [
       "Symbol(\"scheme:analyze-lambda\")"
      ]
     },
     "execution_count": 318,
     "metadata": {},
     "output_type": "execute_result"
    }
   ],
   "source": [
    "read_eval_print(\"\"\"\n",
    "(define scheme:analyze-lambda\n",
    "    (fn (expression)\n",
    "        (let ((parameter (first expression))\n",
    "              (body (scheme:analyze (second expression))))\n",
    "            (fn (k environment)\n",
    "                (k (fn (k . args)\n",
    "                    (let ((environment (environment-extend environment)))\n",
    "                        (environment-define-symbol-value environment parameter args)\n",
    "                        (body k environment))))))))\n",
    "\"\"\")"
   ]
  },
  {
   "cell_type": "code",
   "execution_count": 319,
   "id": "9406b20f-d232-45c9-9c44-561e6080d188",
   "metadata": {},
   "outputs": [
    {
     "name": "stdout",
     "output_type": "stream",
     "text": [
      "(values 1 2 3)\n"
     ]
    },
    {
     "data": {
      "text/plain": [
       "Pair(Symbol(\"values\"), Pair(1, Pair(2, Pair(3, EmptyList()))))"
      ]
     },
     "execution_count": 319,
     "metadata": {},
     "output_type": "execute_result"
    }
   ],
   "source": [
    "read_eval_print(\"\"\"\n",
    "(scheme:eval\n",
    "    (fn (proc)\n",
    "        (proc (fn (values) `(values ,@values)) 1 2 3))\n",
    "    '(lambda args args))\n",
    "\"\"\")"
   ]
  },
  {
   "cell_type": "code",
   "execution_count": 320,
   "id": "beae332b-104a-433c-9d48-48a0b0bcb607",
   "metadata": {},
   "outputs": [
    {
     "name": "stdout",
     "output_type": "stream",
     "text": [
      "scheme:analyze-procedure-application\n"
     ]
    },
    {
     "data": {
      "text/plain": [
       "Symbol(\"scheme:analyze-procedure-application\")"
      ]
     },
     "execution_count": 320,
     "metadata": {},
     "output_type": "execute_result"
    }
   ],
   "source": [
    "read_eval_print(\"\"\"\n",
    "(define scheme:analyze-procedure-application\n",
    "    (fn (expression)\n",
    "        (let ((expressions (map-reverse (fn (expr) (scheme:analyze expr)) expression)))\n",
    "            (define eval-list\n",
    "                (fn (k expressions environment values)\n",
    "                    (cond ((empty? expressions) (k values))\n",
    "                          (#t ((first expressions)\n",
    "                                    (fn (result . _)\n",
    "                                      (eval-list k (rest expressions) environment (cons result values)))\n",
    "                                    environment)))))\n",
    "            (fn (k environment)\n",
    "                (eval-list\n",
    "                 (fn (values)\n",
    "                     (scheme:apply k (first values) (rest values)))\n",
    "                 expressions environment ())))))\n",
    "\"\"\")"
   ]
  },
  {
   "cell_type": "code",
   "execution_count": 321,
   "id": "8d55b2f3-a609-467a-b699-694d6b732093",
   "metadata": {},
   "outputs": [
    {
     "name": "stdout",
     "output_type": "stream",
     "text": [
      "scheme:apply\n"
     ]
    },
    {
     "data": {
      "text/plain": [
       "Symbol(\"scheme:apply\")"
      ]
     },
     "execution_count": 321,
     "metadata": {},
     "output_type": "execute_result"
    }
   ],
   "source": [
    "read_eval_print(\"\"\"\n",
    "(define scheme:apply\n",
    "    (fn (k procedure arguments)\n",
    "        (if (procedure? procedure)\n",
    "            (apply procedure (cons k arguments))\n",
    "            (k (apply procedure arguments)))))\n",
    "\"\"\")"
   ]
  },
  {
   "cell_type": "code",
   "execution_count": 322,
   "id": "48521952-2bc8-4c43-ac09-f6cee355d304",
   "metadata": {},
   "outputs": [
    {
     "name": "stdout",
     "output_type": "stream",
     "text": [
      "((1 2 3))\n"
     ]
    },
    {
     "data": {
      "text/plain": [
       "Pair(Pair(1, Pair(2, Pair(3, EmptyList()))), EmptyList())"
      ]
     },
     "execution_count": 322,
     "metadata": {},
     "output_type": "execute_result"
    }
   ],
   "source": [
    "read_eval_print(\"\"\"(scheme:eval list '((lambda args args) 1 2 3))\"\"\")"
   ]
  },
  {
   "cell_type": "code",
   "execution_count": 323,
   "id": "fa82b96c-66f3-4992-b9fd-11da497038fe",
   "metadata": {},
   "outputs": [
    {
     "name": "stdout",
     "output_type": "stream",
     "text": [
      "None\n"
     ]
    }
   ],
   "source": [
    "read_eval_print(\"\"\"(hash-set! scheme:analyze-table 'call-with-current-continuation (fn args (apply scheme:analyze-call-with-current-continuation args)))\"\"\")"
   ]
  },
  {
   "cell_type": "code",
   "execution_count": 324,
   "id": "7588e815-ff0c-4eba-bb22-7c4e6f06642f",
   "metadata": {},
   "outputs": [
    {
     "name": "stdout",
     "output_type": "stream",
     "text": [
      "scheme:analyze-call-with-current-continuation\n"
     ]
    },
    {
     "data": {
      "text/plain": [
       "Symbol(\"scheme:analyze-call-with-current-continuation\")"
      ]
     },
     "execution_count": 324,
     "metadata": {},
     "output_type": "execute_result"
    }
   ],
   "source": [
    "read_eval_print(\"\"\"\n",
    "(define scheme:analyze-call-with-current-continuation\n",
    "    (fn (expression)\n",
    "        (let ((procedure-expression (scheme:analyze (first expression))))\n",
    "            (fn (k environment)\n",
    "                (procedure-expression\n",
    "                    (fn (procedure . _)\n",
    "                        (procedure k (fn (_ . args) (apply k args))))\n",
    "                    environment)))))\n",
    "\"\"\")"
   ]
  },
  {
   "cell_type": "code",
   "execution_count": 325,
   "id": "d877c7f8-4572-4b00-a541-daf5fcd57139",
   "metadata": {},
   "outputs": [
    {
     "name": "stdout",
     "output_type": "stream",
     "text": [
      "(empty?)\n"
     ]
    },
    {
     "data": {
      "text/plain": [
       "Pair(Symbol(\"empty?\"), EmptyList())"
      ]
     },
     "execution_count": 325,
     "metadata": {},
     "output_type": "execute_result"
    }
   ],
   "source": [
    "# TODO: replace with bootstrapped\n",
    "\n",
    "read_eval_print(\"\"\"(begin\n",
    "(environment-define-symbol-value scheme:global-environment 'eval-python eval-python)\n",
    "(environment-define-symbol-value scheme:global-environment '#f #f)\n",
    "(environment-define-symbol-value scheme:global-environment '#t #t)\n",
    "\n",
    "(scheme:eval list '(begin\n",
    "(define + (eval-python \"op.add\"))\n",
    "(define attrgetter (eval-python \"op.attrgetter\"))\n",
    "(define cons (eval-python \"Pair\"))\n",
    "(define first (attrgetter \"a\"))\n",
    "(define rest (attrgetter \"b\"))\n",
    "(define list (lambda args args))\n",
    "\n",
    "(define type? (eval-python \"isinstance\"))\n",
    "(define type-predicate \n",
    "    (lambda args\n",
    "        (begin\n",
    "            (define type (first args)) \n",
    "            (lambda args (type? (first args) type)))))\n",
    "\n",
    "(define make-symbol (eval-python \"Symbol\"))\n",
    "\n",
    "(define pair (eval-python \"Pair\"))\n",
    "(define pair? (type-predicate pair))\n",
    "(define eq? (eval-python \"op.is_\"))\n",
    "(define empty? (lambda args (eq? (first args) ()))))))\"\"\")"
   ]
  },
  {
   "cell_type": "code",
   "execution_count": 326,
   "id": "3bb200a3-3739-4cf3-b286-8dfc05e61dd5",
   "metadata": {},
   "outputs": [
    {
     "name": "stdout",
     "output_type": "stream",
     "text": [
      "(5)\n",
      "(7)\n",
      "(34)\n"
     ]
    },
    {
     "data": {
      "text/plain": [
       "Pair(34, EmptyList())"
      ]
     },
     "execution_count": 326,
     "metadata": {},
     "output_type": "execute_result"
    }
   ],
   "source": [
    "read_eval_print(\"\"\"(scheme:eval list '(begin\n",
    "(define add2 #f)\n",
    "(+ 2 (call-with-current-continuation (lambda args (begin (set! add2 (first args)) 3))))))\"\"\")\n",
    "read_eval_print(\"\"\"(scheme:eval list '(add2 5))\"\"\")\n",
    "read_eval_print(\"\"\"(scheme:eval list '(add2 32))\"\"\")"
   ]
  },
  {
   "cell_type": "code",
   "execution_count": 327,
   "id": "86fc34b4-809f-402e-ba1c-70cf90fb68db",
   "metadata": {},
   "outputs": [
    {
     "name": "stdout",
     "output_type": "stream",
     "text": [
      "None\n"
     ]
    }
   ],
   "source": [
    "read_eval_print(\"\"\"(hash-set! scheme:analyze-table 'macro-lambda (fn args (apply scheme:analyze-macro-lambda args)))\"\"\")"
   ]
  },
  {
   "cell_type": "code",
   "execution_count": 328,
   "id": "4b5209c6-e715-4593-8997-78a9b9830277",
   "metadata": {},
   "outputs": [
    {
     "name": "stdout",
     "output_type": "stream",
     "text": [
      "scheme:analyze-macro-lambda\n"
     ]
    },
    {
     "data": {
      "text/plain": [
       "Symbol(\"scheme:analyze-macro-lambda\")"
      ]
     },
     "execution_count": 328,
     "metadata": {},
     "output_type": "execute_result"
    }
   ],
   "source": [
    "read_eval_print(\"\"\"\n",
    "(define scheme:analyze-macro-lambda\n",
    "    (fn (expression)\n",
    "        (let ((macro-arguments (first expression))\n",
    "              (body (scheme:analyze (first (rest expression)))))\n",
    "            (fn (k environment)\n",
    "                (k (macro-lambda arguments\n",
    "                    (let ((k (first arguments))\n",
    "                          (environment (environment-extend environment)))\n",
    "                        (environment-define-symbol-value environment macro-arguments (rest arguments))\n",
    "                        (body k environment))))))))\n",
    "\"\"\")"
   ]
  },
  {
   "cell_type": "code",
   "execution_count": 329,
   "id": "77c1079f-3f18-4104-a34d-9b0a6db78d37",
   "metadata": {},
   "outputs": [],
   "source": [
    "def keval(string): read_eval_print(\"(scheme:eval (fn (value . _) value) '(begin \" + string + \"))\")"
   ]
  },
  {
   "cell_type": "code",
   "execution_count": 330,
   "id": "5b030d85-c262-45f4-9d4a-e7b9e1ba0ded",
   "metadata": {},
   "outputs": [
    {
     "name": "stdout",
     "output_type": "stream",
     "text": [
      "(if (pair? <argument>) (define a (pop! <argument>)) (missing-positional-argument-error 'a))\n"
     ]
    }
   ],
   "source": [
    "keval(\"\"\"\n",
    "(define positional-spec->definition\n",
    "    (lambda args\n",
    "        (begin\n",
    "            (define parameter (first args))\n",
    "            (define arguments-name (first (rest args)))\n",
    "            (list 'if (list 'pair? arguments-name) \n",
    "                      (list 'define parameter (list 'pop! arguments-name))\n",
    "                      (list 'missing-positional-argument-error (list 'quote parameter))))))\n",
    "                      \n",
    "(positional-spec->definition 'a '<argument>)\n",
    "\"\"\")"
   ]
  },
  {
   "cell_type": "code",
   "execution_count": 331,
   "id": "c06a53ca-18d5-4cdc-b6d3-fc720efcf46c",
   "metadata": {},
   "outputs": [
    {
     "name": "stdout",
     "output_type": "stream",
     "text": [
      "(define a (if (pair? <arguments>) (pop! <arguments>) 42))\n"
     ]
    }
   ],
   "source": [
    "keval(\"\"\"\n",
    "(define optional-spec->definition\n",
    "    (lambda args\n",
    "        (begin\n",
    "            (define spec (first args))\n",
    "            (define spec-name (first spec))\n",
    "            (define spec-default (first (rest spec)))\n",
    "            (define arguments-name (first (rest args)))\n",
    "\n",
    "            (list 'define spec-name \n",
    "                          (list 'if (list 'pair? arguments-name)\n",
    "                                    (list 'pop! arguments-name)\n",
    "                                    spec-default)))))\n",
    "                                    \n",
    "(optional-spec->definition '(a 42) '<arguments>)\n",
    "\"\"\")"
   ]
  },
  {
   "cell_type": "code",
   "execution_count": 332,
   "id": "910ce3a1-a105-49aa-8a47-10cc62780682",
   "metadata": {},
   "outputs": [
    {
     "name": "stdout",
     "output_type": "stream",
     "text": [
      "(define rest <arguments>)\n"
     ]
    }
   ],
   "source": [
    "keval(\"\"\"\n",
    "(define rest-spec->definition\n",
    "    (lambda args\n",
    "        (begin\n",
    "            (define spec (first args))\n",
    "            (define arguments-name (first (rest args)))\n",
    "            (list 'define spec arguments-name))))\n",
    "            \n",
    "(rest-spec->definition 'rest '<arguments>)\n",
    "\"\"\")"
   ]
  },
  {
   "cell_type": "code",
   "execution_count": 333,
   "id": "987ccd9e-b917-42e4-a291-30c3669b3ec9",
   "metadata": {},
   "outputs": [
    {
     "name": "stdout",
     "output_type": "stream",
     "text": [
      "((if (pair? <arguments>) (define a (pop! <arguments>)) (missing-positional-argument-error 'a)) (define a (if (pair? <arguments>) (pop! <arguments>) 42)))\n"
     ]
    }
   ],
   "source": [
    "keval(\"\"\"\n",
    "(define parameter-spec->definition\n",
    "    (lambda args\n",
    "        (begin\n",
    "            (define spec (first args))\n",
    "            (define arguments-name (first (rest args)))\n",
    "            (if (pair? spec)\n",
    "                (optional-spec->definition spec arguments-name)\n",
    "                (positional-spec->definition spec arguments-name)))))\n",
    "                \n",
    "(list \n",
    "    (parameter-spec->definition 'a '<arguments>)\n",
    "    (parameter-spec->definition '(a 42) '<arguments>))\n",
    "\"\"\")"
   ]
  },
  {
   "cell_type": "code",
   "execution_count": 334,
   "id": "5113b568-1d30-4485-b4fa-af7ff5372c1e",
   "metadata": {},
   "outputs": [
    {
     "name": "stdout",
     "output_type": "stream",
     "text": [
      "((if (pair? <arguments>) (define a (pop! <arguments>)) (missing-positional-argument-error 'a)) (if (pair? <arguments>) (define b (pop! <arguments>)) (missing-positional-argument-error 'b)) (define c (if (pair? <arguments>) (pop! <arguments>) 42)) (define rest <arguments>))\n"
     ]
    }
   ],
   "source": [
    "keval(\"\"\"\n",
    "(define parameter-specs->definitions\n",
    "    (lambda args\n",
    "        (begin\n",
    "            (define parameters (first args))\n",
    "            (define arguments-name (first (rest args)))\n",
    "            (if (pair? parameters) \n",
    "                (cons (parameter-spec->definition (first parameters) arguments-name)\n",
    "                      (parameter-specs->definitions (rest parameters) arguments-name))\n",
    "                (if (empty? parameters)\n",
    "                    ()\n",
    "                    (list (rest-spec->definition parameters arguments-name)))))))\n",
    "\n",
    "(parameter-specs->definitions '(a b (c 42) . rest) '<arguments>)\n",
    "\"\"\")"
   ]
  },
  {
   "cell_type": "code",
   "execution_count": 335,
   "id": "a8e3519b-0997-489c-b4c3-b4e93b16bb2f",
   "metadata": {},
   "outputs": [],
   "source": [
    "\"\"\"\n",
    "(begin \n",
    " (if (pair? <arguments>) \n",
    "     (define a (pop! <arguments>)) \n",
    "     (missing-positional-argument-error 'a))\n",
    " (if (pair? <arguments>) \n",
    "     (define b (pop! <arguments>)) \n",
    "     (missing-positional-argument-error 'b)) \n",
    " (define c (if (pair? <arguments>) \n",
    "               (pop! <arguments>) \n",
    "               42))\n",
    " (define rest <arguments>))\n",
    "\"\"\"\n",
    "None"
   ]
  },
  {
   "cell_type": "code",
   "execution_count": 336,
   "id": "b760ce29-458c-4b3e-8cc8-3039b95ee303",
   "metadata": {},
   "outputs": [
    {
     "name": "stdout",
     "output_type": "stream",
     "text": [
      "(lambda <arguments> (begin (begin (if (pair? <arguments>) (define a (pop! <arguments>)) (missing-positional-argument-error 'a)) (define b (if (pair? <arguments>) (pop! <arguments>) 42)) (define rest <arguments>)) a b (list a b rest)))\n"
     ]
    }
   ],
   "source": [
    "keval(\"\"\"\n",
    "(define fn->lambda\n",
    "    (lambda args\n",
    "        (begin\n",
    "            (define fn-spec (first args))\n",
    "            (define parameter-specs (first fn-spec))\n",
    "            (define body (rest fn-spec))\n",
    "            (define <arguments> (make-symbol \"<arguments>\"))\n",
    "            (list 'lambda <arguments> (cons 'begin (cons (cons 'begin (parameter-specs->definitions parameter-specs <arguments>)) body))))))\n",
    "\n",
    "(fn->lambda '((a (b 42) . rest) a b (list a b rest)))\n",
    "\"\"\")"
   ]
  },
  {
   "cell_type": "code",
   "execution_count": 337,
   "id": "205b0bf1-fdaf-468d-91eb-21b694ebb2fb",
   "metadata": {},
   "outputs": [],
   "source": [
    "\"\"\"\n",
    "(lambda <arguments> \n",
    "    (begin \n",
    "        (begin \n",
    "            (if (pair? <arguments>) \n",
    "                (define a (pop! <arguments>))\n",
    "                (missing-positional-argument-error 'a)) \n",
    "            (define b (if (pair? <arguments>) \n",
    "                          (pop! <arguments>) \n",
    "                          42))\n",
    "            (define rest <arguments>))\n",
    "        a \n",
    "        b \n",
    "        (list a b rest)))\n",
    "\"\"\"\n",
    "None"
   ]
  },
  {
   "cell_type": "code",
   "execution_count": 338,
   "id": "1905a073-3b74-4577-b699-ecc60c342aeb",
   "metadata": {},
   "outputs": [
    {
     "name": "stdout",
     "output_type": "stream",
     "text": [
      "display\n",
      "display\n"
     ]
    },
    {
     "data": {
      "text/plain": [
       "Symbol(\"display\")"
      ]
     },
     "execution_count": 338,
     "metadata": {},
     "output_type": "execute_result"
    }
   ],
   "source": [
    "# TODO: bootstrap/ replace with bootstrapped\n",
    "\n",
    "keval(\"\"\"\n",
    "(define print (eval-python \"print\"))\n",
    "(define to-string (eval-python \"lisp_string\"))\n",
    "(define display (lambda args (begin (print (to-string (first args))) (first args))))\n",
    "\"\"\")\n",
    "read_eval_print(\"\"\"(begin\n",
    "(define print (eval-python \"print\"))\n",
    "(define to-string (eval-python \"lisp_string\"))\n",
    "(define display (lambda args (begin (print (to-string (first args))) (first args)))))\n",
    "\"\"\")"
   ]
  },
  {
   "cell_type": "code",
   "execution_count": 339,
   "id": "333b2a4e-8252-4a02-bb54-4d976410b6bf",
   "metadata": {},
   "outputs": [
    {
     "name": "stdout",
     "output_type": "stream",
     "text": [
      "fn\n"
     ]
    }
   ],
   "source": [
    "# TODO: bootstrap replace\n",
    "\n",
    "keval(\"\"\"(define fn (macro-lambda args (fn->lambda args)))\"\"\")"
   ]
  },
  {
   "cell_type": "code",
   "execution_count": 340,
   "id": "7be62cc9-90d3-4e48-89a4-02afa57cf51e",
   "metadata": {},
   "outputs": [
    {
     "name": "stdout",
     "output_type": "stream",
     "text": [
      "None\n",
      "None\n"
     ]
    }
   ],
   "source": [
    "read_eval_print(\"\"\"(environment-define-symbol-value scheme:global-environment 'apply scheme:apply)\"\"\")\n",
    "read_eval_print(\"\"\"(environment-define-symbol-value scheme:global-environment 'eval scheme:eval)\"\"\")"
   ]
  },
  {
   "cell_type": "code",
   "execution_count": 341,
   "id": "dcb346e9-316d-4163-8b24-99d555cede97",
   "metadata": {},
   "outputs": [
    {
     "name": "stdout",
     "output_type": "stream",
     "text": [
      "pop!\n"
     ]
    }
   ],
   "source": [
    "# TODO: bootstrap replace\n",
    "\n",
    "keval(\"\"\"\n",
    "(define pop!\n",
    "    (macro-lambda args\n",
    "        (begin\n",
    "            (define stack (first args))\n",
    "            (list 'apply \n",
    "                (list 'lambda 'value\n",
    "                    (list 'begin \n",
    "                        (list 'set! stack (list 'rest stack))\n",
    "                        'value))\n",
    "                (list 'first stack)))))\n",
    "\"\"\")"
   ]
  },
  {
   "cell_type": "code",
   "execution_count": 342,
   "id": "d729b77e-4312-4c49-bcb2-17c62a9e4045",
   "metadata": {},
   "outputs": [
    {
     "name": "stdout",
     "output_type": "stream",
     "text": [
      "(apply (lambda value (begin (set! stack (rest stack)) value)) (first stack))\n"
     ]
    }
   ],
   "source": [
    "read_eval_print(\"\"\"(scheme:expand '(pop! stack) scheme:global-environment)\"\"\")\n",
    "None"
   ]
  },
  {
   "cell_type": "code",
   "execution_count": 343,
   "id": "f90342c8-348e-4250-af2f-3999d29233cc",
   "metadata": {},
   "outputs": [
    {
     "name": "stdout",
     "output_type": "stream",
     "text": [
      "(1 42 ())\n",
      "(1 2 (3 4 5 6))\n"
     ]
    }
   ],
   "source": [
    "keval(\"\"\"((fn (a (b 42) . rest) (list a b rest)) 1)\"\"\")\n",
    "keval(\"\"\"((fn (a (b 42) . rest) (list a b rest)) 1 2 3 4 5 6)\"\"\")"
   ]
  }
 ],
 "metadata": {
  "kernelspec": {
   "display_name": "Python 3 (ipykernel)",
   "language": "python",
   "name": "python3"
  },
  "language_info": {
   "codemirror_mode": {
    "name": "ipython",
    "version": 3
   },
   "file_extension": ".py",
   "mimetype": "text/x-python",
   "name": "python",
   "nbconvert_exporter": "python",
   "pygments_lexer": "ipython3",
   "version": "3.9.13"
  }
 },
 "nbformat": 4,
 "nbformat_minor": 5
}
